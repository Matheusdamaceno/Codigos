{
  "cells": [
    {
      "cell_type": "markdown",
      "metadata": {
        "id": "MKVJpj432geW"
      },
      "source": [
        "## **Instruções gerais:**\n",
        "\n",
        "* Prova individual com consulta\n",
        "* Colocar o nome e RA no título do arquivo \n",
        "  * Substituir o nome Prova1-2023-1.ipynb pelo formato **MeuNomeSobrenome-RA.ipynb**\n",
        "  * **Exemplo:** *AndrewStuartTanenbaum-123456.ipynb*\n",
        "* Cada exercício vale 2,5 pontos\n",
        "* Enviar o arquivo .ipynb (*com saídas geradas*) e \n",
        "o respectivo .pdf (do notebook) no moodle"
      ]
    },
    {
      "cell_type": "code",
      "execution_count": 13,
      "metadata": {
        "id": "-W2CMDnE4vS_"
      },
      "outputs": [],
      "source": []
    },
    {
      "cell_type": "markdown",
      "metadata": {
        "id": "xJ76FKNwtgC5"
      },
      "source": [
        "## Questões para serem desenvolvidas na linguagem C:\n",
        "\n",
        "**1 -** Dada uma Fila de inteiros formada por uma sequência de números pares e ímpares, construa uma função que modifique a Fila no qual os pares devem ser mantidos na seqüência original e os ímpares são colocados na ordem inversa. Exemplos:\n",
        "\n",
        "* 2 4 5 6 7 9 ==> 2 4 6 9 7 5\n",
        "* 1 4 2 5 8 7 ==> 4 2 8 7 5 1\n",
        "\n",
        "**2 -**  Escreva uma função que, dado uma fila representada por uma lista encadeada e um valor inteiro ***x***, modifique esta fila para que a mesma possua apenas os elementos maiores que ***x***. \n",
        "Exemplo: \n",
        "\n",
        "* Dado a fila a fila (4, 3, 9, 5, 2, 7) \n",
        "* **x=3**\n",
        "* Fila modificada (4, 9, 5, 7). \n"
      ]
    },
    {
      "cell_type": "code",
      "execution_count": 14,
      "metadata": {
        "colab": {
          "base_uri": "https://localhost:8080/"
        },
        "id": "r65oaUmxry5N",
        "outputId": "79df9d04-8aff-49a3-e3eb-e51d5c57fab4"
      },
      "outputs": [
        {
          "name": "stdout",
          "output_type": "stream",
          "text": [
            "Overwriting prova1.c\n"
          ]
        }
      ],
      "source": [
        "%%writefile prova1.c\n",
        "\n",
        "#include <stdio.h>\n",
        "#include <stdlib.h>\n",
        "#include <string.h>\n",
        "\n",
        "typedef struct lista{\n",
        "  int valor;\n",
        "  struct lista* prox;\n",
        "}Lista;\n",
        "\n",
        "typedef struct fila{\n",
        "    Lista* ini;\n",
        "    Lista* fim;\n",
        "}Fila;\n",
        "\n",
        "typedef struct pilha{\n",
        "    Lista* topo;    \n",
        "}Pilha;\n",
        "\n",
        "/*\n",
        "  Assinatura das funções\n",
        "*/\n",
        "void push(Pilha*, int);\n",
        "int pop(Pilha*);\n",
        "void removeFila(Fila*);\n",
        "void insereFila(Fila* , int);\n",
        "void imprime(Fila*);\n",
        "void geraFila(Fila*);\n",
        "void limpaFila(Fila*);\n",
        "void separa_par_impar(Fila*);\n",
        "void filtraFila (Fila*, int);\n",
        "\n",
        "void push(Pilha* P, int info){\n",
        "  Lista* novo = (Lista*) malloc(sizeof(Lista));\n",
        "  novo->valor = info;\n",
        "  novo->prox = P->topo;\n",
        "  P->topo = novo;\n",
        "}\n",
        "\n",
        "int pop(Pilha* P){\n",
        "  int retorno = 0;\n",
        "  Lista* aux = P->topo;\n",
        "  if(aux!=NULL){\n",
        "    P->topo = aux->prox;\n",
        "    retorno = aux->valor;\n",
        "    free(aux);\n",
        "    return retorno;\n",
        "  }\n",
        "}\n",
        "\n",
        "void removeFila(Fila* F){\n",
        "  Lista* aux = F->ini;\n",
        "  \n",
        "  // Verica Fila vazia\n",
        "  if(F->ini!=NULL){\n",
        "    F->ini = aux->prox;\n",
        "    free(aux);\n",
        "    if(F->ini == NULL)\n",
        "      F->fim = NULL;\n",
        "  }\n",
        "  \n",
        "}\n",
        "\n",
        "void insereFila(Fila* F, int info){\n",
        "   Lista* novo = (Lista*) malloc(sizeof(Lista));\n",
        "  novo->valor = info;\n",
        "  novo->prox = NULL;\n",
        "\n",
        "  //Verifica fila vazia\n",
        "  if (F->ini ==NULL){\n",
        "    F->ini = novo;\n",
        "    F->fim = novo;\n",
        "  }else{\n",
        "    F->fim->prox = novo;\n",
        "    F->fim = novo;\n",
        "  }\n",
        "}\n",
        "void imprime(Fila* F){\n",
        "  Lista* aux = F->ini;\n",
        "  while (aux!=NULL){\n",
        "    printf(\"%d \", aux->valor);\n",
        "    aux=aux->prox;\n",
        "  }\n",
        "  printf(\"\\n\");\n",
        "}\n",
        "\n",
        "void geraFila(Fila* F){\n",
        "  insereFila(F, 1);\n",
        "  insereFila(F, 2);\n",
        "  insereFila(F, 3);\n",
        "  insereFila(F, 4);\n",
        "  insereFila(F, 5);\n",
        "  insereFila(F, 6);  \n",
        "}\n",
        "\n",
        "void limpaFila(Fila* F){\n",
        "  Lista* aux = F->ini;\n",
        "  while(F->ini != NULL){\n",
        "    F->ini = F->ini->prox;\n",
        "    free(aux);\n",
        "    aux = F->ini;\n",
        "  }\n",
        "}\n",
        "\n",
        "void separa_par_impar(Fila* F){\n",
        "   \n",
        "}\n",
        "\n",
        "void filtraFila (Fila* f, int x){\n",
        "\n",
        "}\n",
        "\n",
        "int main(){\n",
        "\n",
        "//Cria a Fila\n",
        "Fila* F = (Fila*) malloc(sizeof(Fila));\n",
        "F->ini = NULL;\n",
        "F->fim = NULL;\n",
        "geraFila(F);\n",
        "imprime(F);\n",
        "\n",
        "separa_par_impar(F);\n",
        "printf(\"Separando pares e ímpares da Fila: \\n\");\n",
        "imprime(F);\n",
        "\n",
        "//Limpa a Fila e cria novamente\n",
        "limpaFila(F);\n",
        "geraFila(F);\n",
        "\n",
        "printf(\"\\nSaída com a função filtra Fila: \\n\");\n",
        "filtraFila(F, 0);\n",
        "imprime(F);\n",
        "limpaFila(F);\n",
        "geraFila(F);\n",
        "\n",
        "filtraFila(F, 3);\n",
        "imprime(F);\n",
        "limpaFila(F);\n",
        "geraFila(F);\n",
        "filtraFila(F, 6);\n",
        "imprime(F);\n",
        "return (0);\n",
        "}\n"
      ]
    },
    {
      "cell_type": "code",
      "execution_count": 15,
      "metadata": {
        "colab": {
          "base_uri": "https://localhost:8080/"
        },
        "id": "RlmFvSTUsqj6",
        "outputId": "2bf46175-b7ee-45a8-f407-704f72544cd1"
      },
      "outputs": [
        {
          "name": "stdout",
          "output_type": "stream",
          "text": [
            "1 2 3 4 5 6 \n",
            "1 2 3 4 5 6 \n",
            "1 2 3 4 5 6 \n",
            "1 2 3 4 5 6 \n",
            "1 2 3 4 5 6 \n"
          ]
        }
      ],
      "source": [
        "!gcc prova1.c -o p1\n",
        "!./p1"
      ]
    },
    {
      "cell_type": "code",
      "execution_count": 15,
      "metadata": {
        "id": "mpdO_2Dd2cJe"
      },
      "outputs": [],
      "source": []
    },
    {
      "cell_type": "markdown",
      "metadata": {
        "id": "xkp4ZnwCx3R-"
      },
      "source": [
        "## Questões para serem desenvolvidas em Python:\n",
        "- Poderá ser utilizado apenas Built-in Data structure ou collection Deque\n",
        "- https://docs.python.org/3/tutorial/datastructures.html\n",
        "- https://docs.python.org/3/library/collections.html#collections.deque\n",
        "\n",
        "**1 -** Crie uma função que inverta a ordem dos elementos de uma sublista de uma lista encadeada.\n",
        "\n",
        "* **Nome da função:** def *inverteSubLista();*\n",
        "* Exemplo: L = [10, **20, 30, 40, 50**, 60]\n",
        "* índices: 2 e 5\n",
        "* Lista alterada: L = [10, **50, 40, 30, 20**, 60]\n",
        "\n",
        "\n",
        "**2 -**  Crie uma função que receba uma Pilha e remova todos os elementos maiores do que um valor **x** da pilha.\n",
        "\n",
        "* **Nome da função:** def *removeMaioresPilha();*\n",
        "* Exemplo: Pilha (**sentido topo ==> base**) = [50, 40, 20, 15, 10]\n",
        "* X = 25\n",
        "* Pilha alterada: [20, 15, 10]\n",
        "\n"
      ]
    },
    {
      "cell_type": "code",
      "execution_count": 16,
      "metadata": {
        "colab": {
          "base_uri": "https://localhost:8080/"
        },
        "id": "kzpqpAqy_zTd",
        "outputId": "9fd444ae-de76-4d13-ef91-033059d6c43c"
      },
      "outputs": [
        {
          "name": "stdout",
          "output_type": "stream",
          "text": [
            "Função inverteSubLista()\n"
          ]
        }
      ],
      "source": [
        "# Exercício 1\n",
        "print(\"Função inverteSubLista()\")\n"
      ]
    },
    {
      "cell_type": "code",
      "execution_count": 17,
      "metadata": {
        "colab": {
          "base_uri": "https://localhost:8080/"
        },
        "id": "ri8JadJP_zHB",
        "outputId": "6ee56bf1-59f4-4773-b847-c4876f67a548"
      },
      "outputs": [
        {
          "name": "stdout",
          "output_type": "stream",
          "text": [
            "Função removeMaioresPilha()\n"
          ]
        }
      ],
      "source": [
        "# Exercício 2\n",
        "print(\"Função removeMaioresPilha()\")\n",
        "\n"
      ]
    }
  ],
  "metadata": {
    "colab": {
      "provenance": []
    },
    "kernelspec": {
      "display_name": "Python 3",
      "name": "python3"
    },
    "language_info": {
      "name": "python"
    }
  },
  "nbformat": 4,
  "nbformat_minor": 0
}
