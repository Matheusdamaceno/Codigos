{
  "cells": [
    {
      "cell_type": "markdown",
      "metadata": {
        "id": "1CDy5e8_Pjiy"
      },
      "source": [
        "\n",
        "# Árvore binária de busca\n",
        "\n",
        "Visualização:\n",
        "- https://visualgo.net/en/bst\n",
        "- https://graphviz.readthedocs.io/en/stable/api.html\n",
        "- https://github.com/xflr6/graphviz/blob/master/examples/graphviz-notebook.ipynb"
      ]
    },
    {
      "cell_type": "markdown",
      "source": [
        "## **Exemplo 1**"
      ],
      "metadata": {
        "id": "2v1JkybbCGia"
      }
    },
    {
      "cell_type": "code",
      "execution_count": null,
      "metadata": {
        "id": "nnz0ufrapTP2"
      },
      "outputs": [],
      "source": [
        "class No:\n",
        "  def __init__(self, valor):\n",
        "    self.valor = valor\n",
        "    self.esquerda = None\n",
        "    self.direita = None  "
      ]
    },
    {
      "cell_type": "code",
      "execution_count": null,
      "metadata": {
        "id": "1L2lCXxXplvw"
      },
      "outputs": [],
      "source": [
        "def inserir(no, valor):\n",
        "    \n",
        "    # Se a árvore estiver vazia\n",
        "    if no == None:\n",
        "      novo = No(valor)  \n",
        "      no = novo\n",
        "    elif (valor < no.valor):\n",
        "      no.esquerda = inserir(no.esquerda, valor)\n",
        "    else:\n",
        "      no.direita = inserir(no.direita, valor)\n",
        "    return no\n",
        "  \n",
        "\n",
        "  # Raiz, esquerda, direita\n",
        "def pre_ordem(no):\n",
        "    if no != None:\n",
        "      print(no.valor)\n",
        "      pre_ordem(no.esquerda)\n",
        "      pre_ordem(no.direita)\n",
        "\n",
        "  # Esquerda, raiz, direita\n",
        "def em_ordem(no):\n",
        "    if no != None:\n",
        "      em_ordem(no.esquerda)\n",
        "      print(no.valor)\n",
        "      em_ordem(no.direita)\n",
        "\n",
        "  # Esquerda, direita, raiz\n",
        "def pos_ordem(self, no):\n",
        "    if no != None:\n",
        "      pos_ordem(no.esquerda)\n",
        "      pos_ordem(no.direita)\n",
        "      print(no.valor)\n",
        "\n",
        "def abb_retira(no, valor):\n",
        "    \n",
        "    if no == None:\n",
        "      print('A árvore está vazia')\n",
        "      return None\n",
        "    elif no.valor > valor:\n",
        "         no.esquerda = abb_retira(no.esquerda, valor);\n",
        "    elif no.valor < valor:\n",
        "         no.direita = abb_retira(no.direita, valor);\n",
        "    else: #achou o nó a remover    \n",
        "    \n",
        "        # O nó a ser apagado é uma folha\n",
        "        if (no.esquerda == None) and (no.direita == None):\n",
        "             return None\n",
        "\n",
        "        # O nó a ser apagado não possui filho na direita\n",
        "        elif no.direita == None:      \n",
        "             no = no.esquerda\n",
        "\n",
        "        # O nó a ser apagado não possui filho na esquerda\n",
        "        elif no.esquerda == None:\n",
        "             no = no.direita\n",
        "\n",
        "        # O nó possui dois filhos\n",
        "        else:\n",
        "          sucessor = no.esquerda\n",
        "          while sucessor.direita != None:\n",
        "                sucessor = sucessor.direita\n",
        "\n",
        "\n",
        "          no.valor = sucessor.valor\n",
        "          sucessor.valor = valor\n",
        "          no.esquerda = abb_retira(no.esquerda, valor);\n",
        "    \n",
        "    return no \n",
        "\n",
        "def imprimeGraph(no, f):\n",
        "    if no != None:\n",
        "        if(no.esquerda != None):\n",
        "            f.edge(str(no.valor),str(no.esquerda.valor))\n",
        "            imprimeGraph(no.esquerda,f)\n",
        "        if(no.direita != None):\n",
        "            f.edge(str(no.valor),str(no.direita.valor))  \n",
        "            imprimeGraph(no.direita,f)\n",
        "    return f"
      ]
    },
    {
      "cell_type": "markdown",
      "metadata": {
        "id": "GfWOxB_KvRqx"
      },
      "source": [
        "### Inserção"
      ]
    },
    {
      "cell_type": "code",
      "execution_count": null,
      "metadata": {
        "id": "REc99Aq_vUAw",
        "scrolled": true
      },
      "outputs": [],
      "source": [
        "#Gera um no vazio (None)\n",
        "arvore = None\n",
        "\n",
        "#Cria uma ABB\n",
        "arvore = inserir(arvore, 53)\n",
        "arvore = inserir(arvore, 30)\n",
        "arvore = inserir(arvore, 14)\n",
        "arvore = inserir(arvore, 39)\n",
        "arvore = inserir(arvore, 9)\n",
        "arvore = inserir(arvore, 23)\n",
        "arvore = inserir(arvore, 34)\n",
        "arvore = inserir(arvore, 49)\n",
        "arvore = inserir(arvore, 72)\n",
        "arvore = inserir(arvore, 61)\n",
        "arvore = inserir(arvore, 84)\n",
        "arvore = inserir(arvore, 79)      \n"
      ]
    },
    {
      "cell_type": "markdown",
      "metadata": {
        "id": "2N7p9Zhk9mnW"
      },
      "source": [
        "### Visualização"
      ]
    },
    {
      "cell_type": "code",
      "execution_count": null,
      "metadata": {
        "colab": {
          "base_uri": "https://localhost:8080/",
          "height": 383
        },
        "id": "AjGiSA7-9mnW",
        "outputId": "be02960e-9b76-46e7-9b72-41f5a7239ae2"
      },
      "outputs": [
        {
          "output_type": "execute_result",
          "data": {
            "image/svg+xml": "<?xml version=\"1.0\" encoding=\"UTF-8\" standalone=\"no\"?>\n<!DOCTYPE svg PUBLIC \"-//W3C//DTD SVG 1.1//EN\"\n \"http://www.w3.org/Graphics/SVG/1.1/DTD/svg11.dtd\">\n<!-- Generated by graphviz version 2.43.0 (0)\n -->\n<!-- Title: Binary Search Tree Pages: 1 -->\n<svg width=\"218pt\" height=\"272pt\"\n viewBox=\"0.00 0.00 218.00 271.99\" xmlns=\"http://www.w3.org/2000/svg\" xmlns:xlink=\"http://www.w3.org/1999/xlink\">\n<g id=\"graph0\" class=\"graph\" transform=\"scale(1 1) rotate(0) translate(4 267.99)\">\n<title>Binary Search Tree</title>\n<polygon fill=\"white\" stroke=\"transparent\" points=\"-4,4 -4,-267.99 214,-267.99 214,4 -4,4\"/>\n<!-- 53 -->\n<g id=\"node1\" class=\"node\">\n<title>53</title>\n<ellipse fill=\"none\" stroke=\"black\" cx=\"104.5\" cy=\"-244.49\" rx=\"19.5\" ry=\"19.5\"/>\n<text text-anchor=\"middle\" x=\"104.5\" y=\"-240.79\" font-family=\"Times,serif\" font-size=\"14.00\">53</text>\n</g>\n<!-- 23 -->\n<g id=\"node2\" class=\"node\">\n<title>23</title>\n<ellipse fill=\"none\" stroke=\"black\" cx=\"76.5\" cy=\"-169.49\" rx=\"19.5\" ry=\"19.5\"/>\n<text text-anchor=\"middle\" x=\"76.5\" y=\"-165.79\" font-family=\"Times,serif\" font-size=\"14.00\">23</text>\n</g>\n<!-- 53&#45;&gt;23 -->\n<g id=\"edge1\" class=\"edge\">\n<title>53&#45;&gt;23</title>\n<path fill=\"none\" stroke=\"black\" d=\"M97.72,-225.82C94.45,-217.3 90.46,-206.9 86.83,-197.42\"/>\n<polygon fill=\"black\" stroke=\"black\" points=\"90.06,-196.08 83.21,-188 83.53,-198.59 90.06,-196.08\"/>\n</g>\n<!-- 72 -->\n<g id=\"node8\" class=\"node\">\n<title>72</title>\n<ellipse fill=\"none\" stroke=\"black\" cx=\"133.5\" cy=\"-169.49\" rx=\"19.5\" ry=\"19.5\"/>\n<text text-anchor=\"middle\" x=\"133.5\" y=\"-165.79\" font-family=\"Times,serif\" font-size=\"14.00\">72</text>\n</g>\n<!-- 53&#45;&gt;72 -->\n<g id=\"edge7\" class=\"edge\">\n<title>53&#45;&gt;72</title>\n<path fill=\"none\" stroke=\"black\" d=\"M111.37,-226.19C114.78,-217.62 118.97,-207.07 122.78,-197.46\"/>\n<polygon fill=\"black\" stroke=\"black\" points=\"126.14,-198.51 126.57,-187.92 119.63,-195.92 126.14,-198.51\"/>\n</g>\n<!-- 14 -->\n<g id=\"node3\" class=\"node\">\n<title>14</title>\n<ellipse fill=\"none\" stroke=\"black\" cx=\"19.5\" cy=\"-94.49\" rx=\"19.5\" ry=\"19.5\"/>\n<text text-anchor=\"middle\" x=\"19.5\" y=\"-90.79\" font-family=\"Times,serif\" font-size=\"14.00\">14</text>\n</g>\n<!-- 23&#45;&gt;14 -->\n<g id=\"edge2\" class=\"edge\">\n<title>23&#45;&gt;14</title>\n<path fill=\"none\" stroke=\"black\" d=\"M64.96,-153.72C57.01,-143.53 46.27,-129.78 37.23,-118.21\"/>\n<polygon fill=\"black\" stroke=\"black\" points=\"39.93,-115.97 31.02,-110.24 34.41,-120.28 39.93,-115.97\"/>\n</g>\n<!-- 39 -->\n<g id=\"node5\" class=\"node\">\n<title>39</title>\n<ellipse fill=\"none\" stroke=\"black\" cx=\"76.5\" cy=\"-94.49\" rx=\"19.5\" ry=\"19.5\"/>\n<text text-anchor=\"middle\" x=\"76.5\" y=\"-90.79\" font-family=\"Times,serif\" font-size=\"14.00\">39</text>\n</g>\n<!-- 23&#45;&gt;39 -->\n<g id=\"edge4\" class=\"edge\">\n<title>23&#45;&gt;39</title>\n<path fill=\"none\" stroke=\"black\" d=\"M76.5,-149.69C76.5,-141.94 76.5,-132.79 76.5,-124.24\"/>\n<polygon fill=\"black\" stroke=\"black\" points=\"80,-124.23 76.5,-114.23 73,-124.23 80,-124.23\"/>\n</g>\n<!-- 9 -->\n<g id=\"node4\" class=\"node\">\n<title>9</title>\n<ellipse fill=\"none\" stroke=\"black\" cx=\"19.5\" cy=\"-19.5\" rx=\"18\" ry=\"18\"/>\n<text text-anchor=\"middle\" x=\"19.5\" y=\"-15.8\" font-family=\"Times,serif\" font-size=\"14.00\">9</text>\n</g>\n<!-- 14&#45;&gt;9 -->\n<g id=\"edge3\" class=\"edge\">\n<title>14&#45;&gt;9</title>\n<path fill=\"none\" stroke=\"black\" d=\"M19.5,-74.7C19.5,-66.65 19.5,-57.08 19.5,-48.25\"/>\n<polygon fill=\"black\" stroke=\"black\" points=\"23,-47.98 19.5,-37.98 16,-47.98 23,-47.98\"/>\n</g>\n<!-- 34 -->\n<g id=\"node6\" class=\"node\">\n<title>34</title>\n<ellipse fill=\"none\" stroke=\"black\" cx=\"75.5\" cy=\"-19.5\" rx=\"19.5\" ry=\"19.5\"/>\n<text text-anchor=\"middle\" x=\"75.5\" y=\"-15.8\" font-family=\"Times,serif\" font-size=\"14.00\">34</text>\n</g>\n<!-- 39&#45;&gt;34 -->\n<g id=\"edge5\" class=\"edge\">\n<title>39&#45;&gt;34</title>\n<path fill=\"none\" stroke=\"black\" d=\"M76.24,-74.7C76.13,-66.95 76.01,-57.8 75.89,-49.24\"/>\n<polygon fill=\"black\" stroke=\"black\" points=\"79.39,-49.18 75.75,-39.23 72.39,-49.28 79.39,-49.18\"/>\n</g>\n<!-- 49 -->\n<g id=\"node7\" class=\"node\">\n<title>49</title>\n<ellipse fill=\"none\" stroke=\"black\" cx=\"132.5\" cy=\"-19.5\" rx=\"19.5\" ry=\"19.5\"/>\n<text text-anchor=\"middle\" x=\"132.5\" y=\"-15.8\" font-family=\"Times,serif\" font-size=\"14.00\">49</text>\n</g>\n<!-- 39&#45;&gt;49 -->\n<g id=\"edge6\" class=\"edge\">\n<title>39&#45;&gt;49</title>\n<path fill=\"none\" stroke=\"black\" d=\"M88.1,-78.37C95.81,-68.32 106.08,-54.93 114.8,-43.56\"/>\n<polygon fill=\"black\" stroke=\"black\" points=\"117.79,-45.42 121.1,-35.35 112.24,-41.16 117.79,-45.42\"/>\n</g>\n<!-- 61 -->\n<g id=\"node9\" class=\"node\">\n<title>61</title>\n<ellipse fill=\"none\" stroke=\"black\" cx=\"133.5\" cy=\"-94.49\" rx=\"19.5\" ry=\"19.5\"/>\n<text text-anchor=\"middle\" x=\"133.5\" y=\"-90.79\" font-family=\"Times,serif\" font-size=\"14.00\">61</text>\n</g>\n<!-- 72&#45;&gt;61 -->\n<g id=\"edge8\" class=\"edge\">\n<title>72&#45;&gt;61</title>\n<path fill=\"none\" stroke=\"black\" d=\"M133.5,-149.69C133.5,-141.94 133.5,-132.79 133.5,-124.24\"/>\n<polygon fill=\"black\" stroke=\"black\" points=\"137,-124.23 133.5,-114.23 130,-124.23 137,-124.23\"/>\n</g>\n<!-- 84 -->\n<g id=\"node10\" class=\"node\">\n<title>84</title>\n<ellipse fill=\"none\" stroke=\"black\" cx=\"190.5\" cy=\"-94.49\" rx=\"19.5\" ry=\"19.5\"/>\n<text text-anchor=\"middle\" x=\"190.5\" y=\"-90.79\" font-family=\"Times,serif\" font-size=\"14.00\">84</text>\n</g>\n<!-- 72&#45;&gt;84 -->\n<g id=\"edge9\" class=\"edge\">\n<title>72&#45;&gt;84</title>\n<path fill=\"none\" stroke=\"black\" d=\"M145.03,-153.72C152.99,-143.53 163.72,-129.78 172.76,-118.21\"/>\n<polygon fill=\"black\" stroke=\"black\" points=\"175.58,-120.28 178.98,-110.24 170.07,-115.97 175.58,-120.28\"/>\n</g>\n<!-- 79 -->\n<g id=\"node11\" class=\"node\">\n<title>79</title>\n<ellipse fill=\"none\" stroke=\"black\" cx=\"190.5\" cy=\"-19.5\" rx=\"19.5\" ry=\"19.5\"/>\n<text text-anchor=\"middle\" x=\"190.5\" y=\"-15.8\" font-family=\"Times,serif\" font-size=\"14.00\">79</text>\n</g>\n<!-- 84&#45;&gt;79 -->\n<g id=\"edge10\" class=\"edge\">\n<title>84&#45;&gt;79</title>\n<path fill=\"none\" stroke=\"black\" d=\"M190.5,-74.7C190.5,-66.95 190.5,-57.8 190.5,-49.24\"/>\n<polygon fill=\"black\" stroke=\"black\" points=\"194,-49.23 190.5,-39.23 187,-49.23 194,-49.23\"/>\n</g>\n</g>\n</svg>\n",
            "text/plain": [
              "<graphviz.graphs.Digraph at 0x7f129c1216f0>"
            ]
          },
          "metadata": {},
          "execution_count": 24
        }
      ],
      "source": [
        "import graphviz\n",
        "f = graphviz.Digraph('Binary Search Tree')\n",
        "f.attr(rankdir='TD', size='4')\n",
        "f.attr('node', shape='circle')\n",
        "\n",
        "### Chama a função de impressão\n",
        "imprimeGraph(arvore, f)"
      ]
    },
    {
      "cell_type": "markdown",
      "metadata": {
        "id": "rduSUCCl9mnW"
      },
      "source": [
        "### Remoção"
      ]
    },
    {
      "cell_type": "code",
      "execution_count": null,
      "metadata": {
        "id": "Whf3hxGy9mnW"
      },
      "outputs": [],
      "source": [
        "arvore = abb_retira(arvore, 30)"
      ]
    },
    {
      "cell_type": "code",
      "execution_count": null,
      "metadata": {
        "colab": {
          "base_uri": "https://localhost:8080/",
          "height": 367
        },
        "id": "Id9AnoDj9mnX",
        "outputId": "8d9c25dc-4e03-45d4-98b0-ff497d252199"
      },
      "outputs": [
        {
          "output_type": "execute_result",
          "data": {
            "image/svg+xml": "<?xml version=\"1.0\" encoding=\"UTF-8\" standalone=\"no\"?>\n<!DOCTYPE svg PUBLIC \"-//W3C//DTD SVG 1.1//EN\"\n \"http://www.w3.org/Graphics/SVG/1.1/DTD/svg11.dtd\">\n<!-- Generated by graphviz version 2.43.0 (0)\n -->\n<!-- Title: Binary Search Tree Pages: 1 -->\n<svg width=\"278pt\" height=\"260pt\"\n viewBox=\"0.00 0.00 278.00 260.00\" xmlns=\"http://www.w3.org/2000/svg\" xmlns:xlink=\"http://www.w3.org/1999/xlink\">\n<g id=\"graph0\" class=\"graph\" transform=\"scale(1 1) rotate(0) translate(4 256)\">\n<title>Binary Search Tree</title>\n<polygon fill=\"white\" stroke=\"transparent\" points=\"-4,4 -4,-256 274,-256 274,4 -4,4\"/>\n<!-- 53 -->\n<g id=\"node1\" class=\"node\">\n<title>53</title>\n<ellipse fill=\"none\" stroke=\"black\" cx=\"135\" cy=\"-234\" rx=\"27\" ry=\"18\"/>\n<text text-anchor=\"middle\" x=\"135\" y=\"-230.3\" font-family=\"Times,serif\" font-size=\"14.00\">53</text>\n</g>\n<!-- 23 -->\n<g id=\"node2\" class=\"node\">\n<title>23</title>\n<ellipse fill=\"none\" stroke=\"black\" cx=\"99\" cy=\"-162\" rx=\"27\" ry=\"18\"/>\n<text text-anchor=\"middle\" x=\"99\" y=\"-158.3\" font-family=\"Times,serif\" font-size=\"14.00\">23</text>\n</g>\n<!-- 53&#45;&gt;23 -->\n<g id=\"edge1\" class=\"edge\">\n<title>53&#45;&gt;23</title>\n<path fill=\"none\" stroke=\"black\" d=\"M126.65,-216.76C122.29,-208.28 116.85,-197.71 111.96,-188.2\"/>\n<polygon fill=\"black\" stroke=\"black\" points=\"114.99,-186.44 107.3,-179.15 108.77,-189.64 114.99,-186.44\"/>\n</g>\n<!-- 72 -->\n<g id=\"node8\" class=\"node\">\n<title>72</title>\n<ellipse fill=\"none\" stroke=\"black\" cx=\"171\" cy=\"-162\" rx=\"27\" ry=\"18\"/>\n<text text-anchor=\"middle\" x=\"171\" y=\"-158.3\" font-family=\"Times,serif\" font-size=\"14.00\">72</text>\n</g>\n<!-- 53&#45;&gt;72 -->\n<g id=\"edge7\" class=\"edge\">\n<title>53&#45;&gt;72</title>\n<path fill=\"none\" stroke=\"black\" d=\"M143.35,-216.76C147.71,-208.28 153.15,-197.71 158.04,-188.2\"/>\n<polygon fill=\"black\" stroke=\"black\" points=\"161.23,-189.64 162.7,-179.15 155.01,-186.44 161.23,-189.64\"/>\n</g>\n<!-- 14 -->\n<g id=\"node3\" class=\"node\">\n<title>14</title>\n<ellipse fill=\"none\" stroke=\"black\" cx=\"27\" cy=\"-90\" rx=\"27\" ry=\"18\"/>\n<text text-anchor=\"middle\" x=\"27\" y=\"-86.3\" font-family=\"Times,serif\" font-size=\"14.00\">14</text>\n</g>\n<!-- 23&#45;&gt;14 -->\n<g id=\"edge2\" class=\"edge\">\n<title>23&#45;&gt;14</title>\n<path fill=\"none\" stroke=\"black\" d=\"M84.43,-146.83C74.25,-136.94 60.48,-123.55 48.97,-112.36\"/>\n<polygon fill=\"black\" stroke=\"black\" points=\"51.41,-109.85 41.8,-105.38 46.53,-114.87 51.41,-109.85\"/>\n</g>\n<!-- 39 -->\n<g id=\"node5\" class=\"node\">\n<title>39</title>\n<ellipse fill=\"none\" stroke=\"black\" cx=\"99\" cy=\"-90\" rx=\"27\" ry=\"18\"/>\n<text text-anchor=\"middle\" x=\"99\" y=\"-86.3\" font-family=\"Times,serif\" font-size=\"14.00\">39</text>\n</g>\n<!-- 23&#45;&gt;39 -->\n<g id=\"edge4\" class=\"edge\">\n<title>23&#45;&gt;39</title>\n<path fill=\"none\" stroke=\"black\" d=\"M99,-143.7C99,-135.98 99,-126.71 99,-118.11\"/>\n<polygon fill=\"black\" stroke=\"black\" points=\"102.5,-118.1 99,-108.1 95.5,-118.1 102.5,-118.1\"/>\n</g>\n<!-- 9 -->\n<g id=\"node4\" class=\"node\">\n<title>9</title>\n<ellipse fill=\"none\" stroke=\"black\" cx=\"27\" cy=\"-18\" rx=\"27\" ry=\"18\"/>\n<text text-anchor=\"middle\" x=\"27\" y=\"-14.3\" font-family=\"Times,serif\" font-size=\"14.00\">9</text>\n</g>\n<!-- 14&#45;&gt;9 -->\n<g id=\"edge3\" class=\"edge\">\n<title>14&#45;&gt;9</title>\n<path fill=\"none\" stroke=\"black\" d=\"M27,-71.7C27,-63.98 27,-54.71 27,-46.11\"/>\n<polygon fill=\"black\" stroke=\"black\" points=\"30.5,-46.1 27,-36.1 23.5,-46.1 30.5,-46.1\"/>\n</g>\n<!-- 34 -->\n<g id=\"node6\" class=\"node\">\n<title>34</title>\n<ellipse fill=\"none\" stroke=\"black\" cx=\"99\" cy=\"-18\" rx=\"27\" ry=\"18\"/>\n<text text-anchor=\"middle\" x=\"99\" y=\"-14.3\" font-family=\"Times,serif\" font-size=\"14.00\">34</text>\n</g>\n<!-- 39&#45;&gt;34 -->\n<g id=\"edge5\" class=\"edge\">\n<title>39&#45;&gt;34</title>\n<path fill=\"none\" stroke=\"black\" d=\"M99,-71.7C99,-63.98 99,-54.71 99,-46.11\"/>\n<polygon fill=\"black\" stroke=\"black\" points=\"102.5,-46.1 99,-36.1 95.5,-46.1 102.5,-46.1\"/>\n</g>\n<!-- 49 -->\n<g id=\"node7\" class=\"node\">\n<title>49</title>\n<ellipse fill=\"none\" stroke=\"black\" cx=\"171\" cy=\"-18\" rx=\"27\" ry=\"18\"/>\n<text text-anchor=\"middle\" x=\"171\" y=\"-14.3\" font-family=\"Times,serif\" font-size=\"14.00\">49</text>\n</g>\n<!-- 39&#45;&gt;49 -->\n<g id=\"edge6\" class=\"edge\">\n<title>39&#45;&gt;49</title>\n<path fill=\"none\" stroke=\"black\" d=\"M113.57,-74.83C123.75,-64.94 137.52,-51.55 149.03,-40.36\"/>\n<polygon fill=\"black\" stroke=\"black\" points=\"151.47,-42.87 156.2,-33.38 146.59,-37.85 151.47,-42.87\"/>\n</g>\n<!-- 61 -->\n<g id=\"node9\" class=\"node\">\n<title>61</title>\n<ellipse fill=\"none\" stroke=\"black\" cx=\"171\" cy=\"-90\" rx=\"27\" ry=\"18\"/>\n<text text-anchor=\"middle\" x=\"171\" y=\"-86.3\" font-family=\"Times,serif\" font-size=\"14.00\">61</text>\n</g>\n<!-- 72&#45;&gt;61 -->\n<g id=\"edge8\" class=\"edge\">\n<title>72&#45;&gt;61</title>\n<path fill=\"none\" stroke=\"black\" d=\"M171,-143.7C171,-135.98 171,-126.71 171,-118.11\"/>\n<polygon fill=\"black\" stroke=\"black\" points=\"174.5,-118.1 171,-108.1 167.5,-118.1 174.5,-118.1\"/>\n</g>\n<!-- 84 -->\n<g id=\"node10\" class=\"node\">\n<title>84</title>\n<ellipse fill=\"none\" stroke=\"black\" cx=\"243\" cy=\"-90\" rx=\"27\" ry=\"18\"/>\n<text text-anchor=\"middle\" x=\"243\" y=\"-86.3\" font-family=\"Times,serif\" font-size=\"14.00\">84</text>\n</g>\n<!-- 72&#45;&gt;84 -->\n<g id=\"edge9\" class=\"edge\">\n<title>72&#45;&gt;84</title>\n<path fill=\"none\" stroke=\"black\" d=\"M185.57,-146.83C195.75,-136.94 209.52,-123.55 221.03,-112.36\"/>\n<polygon fill=\"black\" stroke=\"black\" points=\"223.47,-114.87 228.2,-105.38 218.59,-109.85 223.47,-114.87\"/>\n</g>\n<!-- 79 -->\n<g id=\"node11\" class=\"node\">\n<title>79</title>\n<ellipse fill=\"none\" stroke=\"black\" cx=\"243\" cy=\"-18\" rx=\"27\" ry=\"18\"/>\n<text text-anchor=\"middle\" x=\"243\" y=\"-14.3\" font-family=\"Times,serif\" font-size=\"14.00\">79</text>\n</g>\n<!-- 84&#45;&gt;79 -->\n<g id=\"edge10\" class=\"edge\">\n<title>84&#45;&gt;79</title>\n<path fill=\"none\" stroke=\"black\" d=\"M243,-71.7C243,-63.98 243,-54.71 243,-46.11\"/>\n<polygon fill=\"black\" stroke=\"black\" points=\"246.5,-46.1 243,-36.1 239.5,-46.1 246.5,-46.1\"/>\n</g>\n</g>\n</svg>\n",
            "text/plain": [
              "<graphviz.graphs.Digraph at 0x7f129c122d10>"
            ]
          },
          "metadata": {},
          "execution_count": 14
        }
      ],
      "source": [
        "### Chama a função de impressão\n",
        "f.clear(True)\n",
        "imprimeGraph(arvore,f)"
      ]
    },
    {
      "cell_type": "code",
      "source": [],
      "metadata": {
        "id": "peGRBrXf-L0y"
      },
      "execution_count": null,
      "outputs": []
    },
    {
      "cell_type": "markdown",
      "source": [
        "## Desenvolver as seguintes funções em pyhton:\n",
        "* altura da árvore\n",
        "* profundidade de um determinado nó"
      ],
      "metadata": {
        "id": "VbK9Trr6Cm_o"
      }
    },
    {
      "cell_type": "markdown",
      "source": [
        "## **Exemplo 2**"
      ],
      "metadata": {
        "id": "Vnnfe0j7CNLH"
      }
    },
    {
      "cell_type": "code",
      "source": [
        "!pip install drawtree"
      ],
      "metadata": {
        "colab": {
          "base_uri": "https://localhost:8080/"
        },
        "id": "N469S5mlBF-M",
        "outputId": "a80ac8ab-af20-4211-c062-5cc8fbe8f95b"
      },
      "execution_count": null,
      "outputs": [
        {
          "output_type": "stream",
          "name": "stdout",
          "text": [
            "Looking in indexes: https://pypi.org/simple, https://us-python.pkg.dev/colab-wheels/public/simple/\n",
            "Collecting drawtree\n",
            "  Downloading drawtree-0.1.2.tar.gz (5.4 kB)\n",
            "  Preparing metadata (setup.py) ... \u001b[?25l\u001b[?25hdone\n",
            "Building wheels for collected packages: drawtree\n",
            "  Building wheel for drawtree (setup.py) ... \u001b[?25l\u001b[?25hdone\n",
            "  Created wheel for drawtree: filename=drawtree-0.1.2-py3-none-any.whl size=5677 sha256=c63c89d6f84f417071ab2eec4f2b8e8564c19e57cef5196ca6f16b0d7cec101d\n",
            "  Stored in directory: /root/.cache/pip/wheels/b3/c5/1f/3937c1a1b0e2ff87e37bcc568d3ccdd6c1bcbdfe78ca1a10d4\n",
            "Successfully built drawtree\n",
            "Installing collected packages: drawtree\n",
            "Successfully installed drawtree-0.1.2\n"
          ]
        }
      ]
    },
    {
      "cell_type": "code",
      "source": [
        "%%file ABB.c\n",
        "\n",
        "#include <stdio.h>\n",
        "#include <stdlib.h>\n",
        "#include <string.h>\n",
        "\n",
        "typedef struct arv {\n",
        "  int valor;\n",
        "  struct arv *esq;\n",
        "  struct arv *dir;\n",
        "} Arv;\n",
        "\n",
        "void pre_ordem(Arv *raiz, FILE* f) {\n",
        "  if (raiz != NULL) {    \n",
        "    printf(\"%d\\n\", raiz->valor);\n",
        "    fprintf(f, \"%d\\n\",raiz->valor); \n",
        "    pre_ordem(raiz->esq,f);\n",
        "    pre_ordem(raiz->dir,f);\n",
        "  }\n",
        "}\n",
        "\n",
        "Arv *insereArv(Arv *raiz, int info) {\n",
        "  // Caso base\n",
        "  if (raiz == NULL) {\n",
        "    Arv *novo = (Arv *)malloc(sizeof(Arv));\n",
        "    novo->valor = info;\n",
        "    novo->esq = NULL;\n",
        "    novo->dir = NULL;\n",
        "    return novo;\n",
        "  } else {\n",
        "    if (raiz->valor > info) {\n",
        "      raiz->esq = insereArv(raiz->esq, info);\n",
        "    } else {\n",
        "      raiz->dir = insereArv(raiz->dir, info);\n",
        "    }\n",
        "    return raiz;\n",
        "  }\n",
        "}\n",
        "\n",
        "int main() {\n",
        "  FILE *fptr;\n",
        "  fptr = fopen(\"bTree.txt\", \"w\");\n",
        "  \n",
        "  if (fptr != NULL) {\n",
        "    printf(\"Arquivo criado com sucesso!\\n\");\n",
        "  }\n",
        "  else {\n",
        "    printf(\"Failed to create the file.\\n\");\n",
        "    // exit status for OS that an error occurred\n",
        "    return -1;\n",
        "  }  \n",
        "    \n",
        "  Arv *raiz = NULL;\n",
        "  raiz = insereArv(raiz, 10);\n",
        "  raiz = insereArv(raiz, 8);\n",
        "  raiz = insereArv(raiz, 30);\n",
        "  raiz = insereArv(raiz, 35);\n",
        "  raiz = insereArv(raiz, 2);\n",
        "  raiz = insereArv(raiz, 9);\n",
        "  raiz = insereArv(raiz, 15);\n",
        "  raiz = insereArv(raiz, 33);\n",
        "  raiz = insereArv(raiz, 22);\n",
        "  pre_ordem(raiz,fptr);\n",
        "  fclose(fptr);\n",
        "  return 0;\n",
        "}\n"
      ],
      "metadata": {
        "colab": {
          "base_uri": "https://localhost:8080/"
        },
        "id": "yus0fIGQBIkZ",
        "outputId": "3ec1a842-cf37-4eaa-80fb-b61df1417e38"
      },
      "execution_count": null,
      "outputs": [
        {
          "output_type": "stream",
          "name": "stdout",
          "text": [
            "Writing ABB.c\n"
          ]
        }
      ]
    },
    {
      "cell_type": "code",
      "source": [
        "!gcc ABB.c -o abb\n",
        "!./abb"
      ],
      "metadata": {
        "colab": {
          "base_uri": "https://localhost:8080/"
        },
        "id": "nUecLPinBLum",
        "outputId": "286311dc-3f98-4148-ec0d-a878e926220c"
      },
      "execution_count": null,
      "outputs": [
        {
          "output_type": "stream",
          "name": "stdout",
          "text": [
            "Arquivo criado com sucesso!\n",
            "10\n",
            "8\n",
            "2\n",
            "9\n",
            "30\n",
            "15\n",
            "22\n",
            "35\n",
            "33\n"
          ]
        }
      ]
    },
    {
      "cell_type": "code",
      "source": [
        "!ls"
      ],
      "metadata": {
        "id": "tMlFg6I1DOJT",
        "outputId": "56cf33c6-9cca-4153-9de0-538e53c1d981",
        "colab": {
          "base_uri": "https://localhost:8080/"
        }
      },
      "execution_count": null,
      "outputs": [
        {
          "output_type": "stream",
          "name": "stdout",
          "text": [
            "abb  ABB.c  bTree.txt  sample_data\n"
          ]
        }
      ]
    },
    {
      "cell_type": "code",
      "source": [
        "## Faz a leitura da arvore gerada em C\n",
        "# opening the file in read mode\n",
        "\n",
        "# reading the file\n",
        "bTree = []\n",
        "with open(\"bTree.txt\", 'r') as f:\n",
        "     while True:\n",
        "        line = f.readline()\n",
        "         \n",
        "        if not line:\n",
        "            break\n",
        "        \n",
        "        bTree.append(int(line))\n",
        "\n",
        "# printing the data\n",
        "print(bTree)\n",
        "f.close()"
      ],
      "metadata": {
        "colab": {
          "base_uri": "https://localhost:8080/"
        },
        "id": "txrruwEKBO2Y",
        "outputId": "c2e2af4c-3b41-4791-fa6c-2411c07ba23d"
      },
      "execution_count": null,
      "outputs": [
        {
          "output_type": "stream",
          "name": "stdout",
          "text": [
            "[10, 8, 2, 9, 30, 15, 22, 35, 33]\n"
          ]
        }
      ]
    },
    {
      "cell_type": "code",
      "source": [
        "from drawtree import draw_bst\n",
        "draw_bst(bTree)"
      ],
      "metadata": {
        "colab": {
          "base_uri": "https://localhost:8080/"
        },
        "id": "N3GVgGoVBTdg",
        "outputId": "0c5706a7-aa7d-4e21-a5d3-42c75278ba4f"
      },
      "execution_count": null,
      "outputs": [
        {
          "output_type": "stream",
          "name": "stdout",
          "text": [
            "     10\n",
            "     / \\\n",
            "    /   \\\n",
            "   /     \\\n",
            "  8      30\n",
            " / \\     / \\\n",
            "2   9   /   \\\n",
            "       /     \\\n",
            "      15     35\n",
            "       \\     /\n",
            "       22   33\n"
          ]
        }
      ]
    },
    {
      "cell_type": "code",
      "source": [],
      "metadata": {
        "id": "Yn-AWQ2sB88L"
      },
      "execution_count": null,
      "outputs": []
    },
    {
      "cell_type": "markdown",
      "source": [
        "## Construir a ABB gerada utilizando o **Exemplo 1**.\n",
        "* Fazer uma função que retorna a quantidade de nós da árvore "
      ],
      "metadata": {
        "id": "KXgP6XL_CRkh"
      }
    }
  ],
  "metadata": {
    "colab": {
      "collapsed_sections": [
        "WljSCEnx3KxU",
        "OW08RX1l0IKM"
      ],
      "provenance": []
    },
    "kernelspec": {
      "display_name": "Python 3 (ipykernel)",
      "language": "python",
      "name": "python3"
    },
    "language_info": {
      "codemirror_mode": {
        "name": "ipython",
        "version": 3
      },
      "file_extension": ".py",
      "mimetype": "text/x-python",
      "name": "python",
      "nbconvert_exporter": "python",
      "pygments_lexer": "ipython3",
      "version": "3.11.3"
    }
  },
  "nbformat": 4,
  "nbformat_minor": 0
}