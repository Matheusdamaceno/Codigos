{
  "cells": [
    {
      "attachments": {},
      "cell_type": "markdown",
      "metadata": {
        "id": "1CDy5e8_Pjiy"
      },
      "source": [
        "\n",
        "# Árvore binária de busca - Balanceamento (AVL)\n",
        "\n",
        "- Pacote BinaryTree: https://binarytree.readthedocs.io/en/main/\n",
        "- https://www.geeksforgeeks.org/binarytree-module-in-python/\n",
        "- https://pypi.org/project/binarytree/"
      ]
    },
    {
      "cell_type": "code",
      "execution_count": 2,
      "metadata": {
        "colab": {
          "base_uri": "https://localhost:8080/"
        },
        "id": "9sbvl2pi6-an",
        "outputId": "dbfb39fc-4959-4108-870b-e6307ad9e6dd"
      },
      "outputs": [
        {
          "name": "stdout",
          "output_type": "stream",
          "text": [
            "Requirement already satisfied: binarytree in c:\\users\\damac\\appdata\\local\\programs\\python\\python311\\lib\\site-packages (6.5.1)\n",
            "Requirement already satisfied: graphviz in c:\\users\\damac\\appdata\\local\\programs\\python\\python311\\lib\\site-packages (from binarytree) (0.20.1)\n",
            "Requirement already satisfied: setuptools>=60.8.2 in c:\\users\\damac\\appdata\\local\\programs\\python\\python311\\lib\\site-packages (from binarytree) (65.5.0)\n",
            "Requirement already satisfied: setuptools-scm[toml]>=5.0.1 in c:\\users\\damac\\appdata\\local\\programs\\python\\python311\\lib\\site-packages (from binarytree) (7.1.0)\n",
            "Requirement already satisfied: packaging>=20.0 in c:\\users\\damac\\appdata\\roaming\\python\\python311\\site-packages (from setuptools-scm[toml]>=5.0.1->binarytree) (23.0)\n",
            "Requirement already satisfied: typing-extensions in c:\\users\\damac\\appdata\\local\\programs\\python\\python311\\lib\\site-packages (from setuptools-scm[toml]>=5.0.1->binarytree) (4.6.2)\n"
          ]
        }
      ],
      "source": [
        "!pip install binarytree"
      ]
    },
    {
      "attachments": {},
      "cell_type": "markdown",
      "metadata": {
        "id": "hIVXHpv-5Y-9"
      },
      "source": [
        "  10\n",
        " /  \\\n",
        "5    15\n",
        "      \\\n",
        "      20\n",
        "\n"
      ]
    },
    {
      "cell_type": "code",
      "execution_count": 3,
      "metadata": {
        "colab": {
          "base_uri": "https://localhost:8080/"
        },
        "id": "ntJ_NxgP66SF",
        "outputId": "22a35a31-ed72-4ab9-9f8d-2d5b4f92e37a"
      },
      "outputs": [
        {
          "name": "stdout",
          "output_type": "stream",
          "text": [
            "Writing AVL.c\n"
          ]
        }
      ],
      "source": [
        "%%file AVL.c\n",
        "/*\n",
        " * Código fonte árvore do tipo AVL\n",
        " */\n",
        "#include <stdio.h>\n",
        "#include <stdlib.h>\n",
        "\n",
        "typedef struct Arvore {\n",
        "  int info;\n",
        "  struct Arvore *esq;\n",
        "  struct Arvore *dir;\n",
        "} Arv;\n",
        "\n",
        "typedef struct lista {\n",
        "  Arv* node;\n",
        "  struct lista *prox;\n",
        "} Lista;\n",
        "\n",
        "typedef struct fila {\n",
        "  Lista* ini;\n",
        "  Lista* fim;\n",
        "} Fila;\n",
        "\n",
        "Arv *criaNo(int);\n",
        "Arv *insereAVL(Arv *, int);\n",
        "int calculaAltura(Arv *);\n",
        "Arv *abb_retira(Arv *, int);\n",
        "void print2DTree(Arv *root, int space, int COUNT);\n",
        "Arv *rotDir(Arv *);\n",
        "Arv *rotEsq(Arv *);\n",
        "Arv *rotDirEsq(Arv *);\n",
        "Arv *rotEsqDir(Arv *);\n",
        "\n",
        "Arv* removeFila(Fila* pFila){\n",
        "  if(pFila == NULL)\n",
        "    return NULL;\n",
        "  \n",
        "  Lista* aux = pFila->ini;\n",
        "  Arv* node;\n",
        "  if(aux!=NULL){\n",
        "    pFila->ini = pFila->ini->prox;\n",
        "    node = aux->node;\n",
        "    free(aux);    \n",
        "  }\n",
        "  //Veirifa se ficou vazio\n",
        "  if(pFila->ini == NULL)\n",
        "    pFila->fim = NULL;\n",
        "  return node;\n",
        "}\n",
        "\n",
        "void insereFila(Fila* pFila, Arv* info){\n",
        "  Lista* novo = (Lista*) malloc(sizeof(Lista));\n",
        "  novo->node = info;\n",
        "  novo->prox = NULL;\n",
        "  if(pFila->ini==NULL){\n",
        "    pFila->ini = novo;\n",
        "    pFila->fim = novo;\n",
        "  }else{\n",
        "    pFila->fim->prox = novo;\n",
        "    pFila->fim = novo;\n",
        "  }  \n",
        "}\n",
        "\n",
        "Arv *criaNo(int raiz) {\n",
        "  Arv *no = (Arv *)malloc(sizeof(Arv));\n",
        "  no->info = raiz;\n",
        "  no->esq = NULL;\n",
        "  no->dir = NULL;\n",
        "  return no;\n",
        "}\n",
        "\n",
        "int calculaAltura(Arv *a) {\n",
        "  int esq, dir;\n",
        "  if (a == NULL)\n",
        "    return -1;\n",
        "\n",
        "  esq = calculaAltura(a->esq);\n",
        "  dir = calculaAltura(a->dir);\n",
        "\n",
        "  if (esq > dir)\n",
        "    return esq + 1;\n",
        "  else\n",
        "    return dir + 1;\n",
        "}\n",
        "\n",
        "int getBalanceamento(Arv *no) {\n",
        "  if (no == NULL)\n",
        "    return 0;\n",
        "\n",
        "  return calculaAltura(no->esq) - calculaAltura(no->dir);\n",
        "}\n",
        "\n",
        "Arv *rotDir(Arv *no) {\n",
        "  //printf(\"\\n\\nRot Dir >> %d\\n\", no->info);\n",
        "  //print2DTree(no, 0, 5);\n",
        "  Arv *temp;\n",
        "  Arv *q;\n",
        "  q = no->esq;\n",
        "  temp = q->dir;\n",
        "  q->dir = no;\n",
        "  no->esq = temp;\n",
        "  no = q;\n",
        "  return no;\n",
        "}\n",
        "\n",
        "Arv *rotEsq(Arv *no) {\n",
        "  //printf(\"\\n\\nRot Esq >> %d\\n\", no->info);\n",
        "  //print2DTree(no, 0, 5);\n",
        "\n",
        "  Arv *temp;\n",
        "  Arv *q;\n",
        "  q = no->dir;\n",
        "  temp = q->esq;\n",
        "  q->esq = no;\n",
        "  no->dir = temp;\n",
        "  no = q;\n",
        "  return no;\n",
        "}\n",
        "\n",
        "Arv *rotEsqDir(Arv *no) {\n",
        "  //printf(\"\\n\\nRot--Esq--Dir >> %d-->%d\\n\", no->info, no->esq->info);\n",
        "  //print2DTree(no, 0, 5);\n",
        "\n",
        "  no->esq = rotEsq(no->esq);\n",
        "  return rotDir(no);\n",
        "}\n",
        "Arv *rotDirEsq(Arv *no) {\n",
        "  //printf(\"\\n\\nRot--Dir--Esq >> %d-->%d\\n\", no->info, no->dir->info);\n",
        "  //print2DTree(no, 0, 5);\n",
        "\n",
        "  no->dir = rotDir(no->dir);\n",
        "  return rotEsq(no);\n",
        "}\n",
        "\n",
        "Arv *insereAVL(Arv *a, int valor) {\n",
        "  if (a == NULL)\n",
        "    return criaNo(valor);\n",
        "\n",
        "  if (a->info > valor)\n",
        "    a->esq = insereAVL(a->esq, valor);\n",
        "\n",
        "  if (a->info < valor)\n",
        "    a->dir = insereAVL(a->dir, valor);\n",
        "\n",
        "  int fb = getBalanceamento(a);\n",
        "  //printf(\">>>>> No: %d - Fb: %d\\n\", a->info, fb);\n",
        "\n",
        "  \n",
        "  // Rotação Simples\n",
        "  ////Direita\n",
        "  if (fb > 1 && valor < a->esq->info)\n",
        "    a = rotDir(a);\n",
        "  ////Esquerda\n",
        "  if (fb < -1 && valor > a->dir->info)\n",
        "    a = rotEsq(a);\n",
        "\n",
        "  // Rotação Dupla\n",
        "  /// Esquerda-Direita\n",
        "  if (fb > 1 && valor > a->esq->info)\n",
        "    a = rotEsqDir(a);\n",
        "  if (fb < -1 && valor < a->dir->info)\n",
        "    a = rotDirEsq(a);\n",
        "  \n",
        "  /* Retorna a raiz com a nova configuração */\n",
        "  return a;\n",
        "}\n",
        "\n",
        "\n",
        "// Imprime formatado\n",
        "void print2DTree(Arv *root, int space, int COUNT) {\n",
        "  // Caso base;\n",
        "  if (root == NULL)\n",
        "    return;\n",
        "\n",
        "  // Aumento da distância entre os níveis\n",
        "  space += COUNT;\n",
        "\n",
        "  // Avalia primeiro o nó direita\n",
        "  // Vai empilhar todas subárvores direitas;\n",
        "  print2DTree(root->dir, space, COUNT);\n",
        "\n",
        "  // Imprime o nó no retorno da recursão\n",
        "  for (int i = COUNT; i < space; i++)\n",
        "    printf(\" \");\n",
        "  printf(\"%d\\n\", root->info);\n",
        "\n",
        "  // Avalia o nó esquerda\n",
        "  print2DTree(root->esq, space, COUNT);\n",
        "}\n",
        "\n",
        "// Busca em Largura\n",
        "void BFS(Arv* raiz, FILE* f){\n",
        "    Arv* node = NULL;\n",
        "    Fila* F = (Fila*) malloc(sizeof(Fila));\n",
        "    F->ini = NULL;\n",
        "    F->fim = NULL;\n",
        "    insereFila(F, raiz);\n",
        "\n",
        "    while (F->ini != NULL) {\n",
        "        node = removeFila(F);\n",
        "        if(node != NULL){\n",
        "          //printf(\"%d, \", node->info);\n",
        "          fprintf(f, \"%d\\n\",node->info);   \n",
        "           if (node->esq!=NULL){\n",
        "              insereFila(F, node->esq);\n",
        "           }else{\n",
        "               insereFila(F, NULL);\n",
        "           }\n",
        "           if (node->dir!=NULL){\n",
        "              insereFila(F, node->dir);      \n",
        "           }else{\n",
        "              insereFila(F, NULL);\n",
        "           }  \n",
        "        }else{\n",
        "          //printf(\"%s, \", \"None\");\n",
        "          fprintf(f, \"%d\\n\",0); \n",
        "        }       \n",
        "    }      \n",
        "}\n",
        "\n",
        "int main(int argc, char **argv){\n",
        "  FILE *fptr;\n",
        "  fptr = fopen(\"bTree.txt\", \"w\");\n",
        "  \n",
        "  if (fptr != NULL) {\n",
        "    printf(\"Arquivo criado com sucesso!\\n\");\n",
        "  }\n",
        "  else {\n",
        "    printf(\"Failed to create the file.\\n\");\n",
        "    // exit status for OS that an error occurred\n",
        "   return -1;\n",
        "  }  \n",
        "  \n",
        "  Arv *root = NULL;\n",
        "  root = insereAVL(root, 10);\n",
        "  BFS(root,fptr);\n",
        "  fprintf(fptr, \"%d\\n\",-1); \n",
        "  root = insereAVL(root, 20);\n",
        "  BFS(root,fptr);\n",
        "  fprintf(fptr, \"%d\\n\",-1); \n",
        "  root = insereAVL(root, 30);\n",
        "  BFS(root,fptr);\n",
        "  fprintf(fptr, \"%d\\n\",-1); \n",
        "  root = insereAVL(root, 40);\n",
        "  BFS(root,fptr);\n",
        "  fprintf(fptr, \"%d\\n\",-1); \n",
        "  root = insereAVL(root, 50);\n",
        "  BFS(root,fptr);\n",
        "  fprintf(fptr, \"%d\\n\",-1); \n",
        "  root = insereAVL(root, 25);\n",
        "  BFS(root,fptr);\n",
        "  fclose(fptr);\n",
        "}\n"
      ]
    },
    {
      "cell_type": "code",
      "execution_count": 5,
      "metadata": {
        "colab": {
          "base_uri": "https://localhost:8080/"
        },
        "id": "ijtEXQcY66SH",
        "outputId": "6eec3488-1a41-4fc7-a2d7-e7c390223515"
      },
      "outputs": [
        {
          "name": "stdout",
          "output_type": "stream",
          "text": [
            "Arquivo criado com sucesso!\n"
          ]
        }
      ],
      "source": [
        "!gcc AVL.c -o avl\n",
        "!avl"
      ]
    },
    {
      "cell_type": "code",
      "execution_count": 6,
      "metadata": {
        "id": "oPMyPgX566SH"
      },
      "outputs": [
        {
          "name": "stdout",
          "output_type": "stream",
          "text": [
            "10\n",
            "0\n",
            "0\n",
            "-1\n",
            "10\n",
            "0\n",
            "20\n",
            "0\n",
            "0\n",
            "-1\n",
            "20\n",
            "10\n",
            "30\n",
            "0\n",
            "0\n",
            "0\n",
            "0\n",
            "-1\n",
            "20\n",
            "10\n",
            "30\n",
            "0\n",
            "0\n",
            "0\n",
            "40\n",
            "0\n",
            "0\n",
            "-1\n",
            "20\n",
            "10\n",
            "40\n",
            "0\n",
            "0\n",
            "30\n",
            "50\n",
            "0\n",
            "0\n",
            "0\n",
            "0\n",
            "-1\n",
            "30\n",
            "20\n",
            "40\n",
            "10\n",
            "25\n",
            "0\n",
            "50\n",
            "0\n",
            "0\n",
            "0\n",
            "0\n",
            "0\n",
            "0\n"
          ]
        }
      ],
      "source": [
        "!type bTree.txt"
      ]
    },
    {
      "cell_type": "code",
      "execution_count": 7,
      "metadata": {
        "colab": {
          "base_uri": "https://localhost:8080/"
        },
        "id": "cTGGe93y66SI",
        "outputId": "0614c2f2-d562-461a-bddf-c71f9045dcdd"
      },
      "outputs": [
        {
          "name": "stdout",
          "output_type": "stream",
          "text": [
            "[[10, None, None], [10, None, 20, None, None], [20, 10, 30, None, None, None, None], [20, 10, 30, None, None, None, 40, None, None], [20, 10, 40, None, None, 30, 50, None, None, None, None]]\n"
          ]
        }
      ],
      "source": [
        "## Faz a leitura da arvore gerada em C\n",
        "# opening the file in read mode\n",
        "\n",
        "# reading the file\n",
        "rotations = []\n",
        "lines = []\n",
        "with open(\"bTree.txt\", 'r') as f:\n",
        "     while True:\n",
        "        line = f.readline().strip()        \n",
        "        if not line:\n",
        "            break\n",
        "        \n",
        "        if int(line)==-1:          \n",
        "          rotations.append(lines.copy())          \n",
        "          lines.clear()\n",
        "        else:\n",
        "          lines.append(int(line))\n",
        "\n",
        "rotations\n",
        "# printing the data\n",
        "for i in range(0,len(rotations)):\n",
        "  for j in range(0, len(rotations[i])): \n",
        "    if rotations[i][j] == 0:\n",
        "      rotations[i][j] = None      \n",
        "  \n",
        "print(rotations)\n",
        "f.close()"
      ]
    },
    {
      "cell_type": "code",
      "execution_count": null,
      "metadata": {
        "id": "tslLzwB8jB4q"
      },
      "outputs": [],
      "source": []
    },
    {
      "cell_type": "code",
      "execution_count": 8,
      "metadata": {
        "colab": {
          "base_uri": "https://localhost:8080/"
        },
        "id": "Tx6T3JIc66SI",
        "outputId": "e8ae59c7-aed7-4f13-e95d-98cb35c115a9"
      },
      "outputs": [
        {
          "name": "stdout",
          "output_type": "stream",
          "text": [
            "Àrvore Binária :\n",
            " \n",
            "10\n",
            "\n",
            "Àrvore Binária :\n",
            " \n",
            "10\n",
            "  \\\n",
            "   20\n",
            "\n",
            "Àrvore Binária :\n",
            " \n",
            "  _20\n",
            " /   \\\n",
            "10    30\n",
            "\n",
            "Àrvore Binária :\n",
            " \n",
            "  _20\n",
            " /   \\\n",
            "10    30\n",
            "        \\\n",
            "         40\n",
            "\n",
            "Àrvore Binária :\n",
            " \n",
            "  _20___\n",
            " /      \\\n",
            "10      _40\n",
            "       /   \\\n",
            "      30    50\n",
            "\n"
          ]
        }
      ],
      "source": [
        "## Gera todas as árvores em .png\n",
        "# Gerando uma árvore binária\n",
        "# a partir de uma lista\n",
        "from binarytree import build2\n",
        "\n",
        "# Gera o objeto árvore binária\n",
        "count = 0\n",
        "graphName = \"Rotacao-\"\n",
        "for bTree in rotations:  \n",
        "  binary_tree = build2(bTree)\n",
        "  print('Àrvore Binária :\\n', binary_tree)\n",
        "  dfd = binary_tree.graphviz()\n",
        "  plotName = graphName+str(count)\n",
        "  dfd.format = 'png'\n",
        "  dfd.render( filename=plotName)  \n",
        "  count +=1 "
      ]
    },
    {
      "cell_type": "code",
      "execution_count": 9,
      "metadata": {
        "colab": {
          "base_uri": "https://localhost:8080/"
        },
        "id": "jG5v8hk9oSch",
        "outputId": "aa6772b3-4f8c-451d-eb6e-02e10eb9e0e5"
      },
      "outputs": [
        {
          "name": "stdout",
          "output_type": "stream",
          "text": [
            "Àrvore Binária :\n",
            " \n",
            "  _20___\n",
            " /      \\\n",
            "10      _40\n",
            "       /   \\\n",
            "      30    50\n",
            "\n",
            "Árvore Binária de Busca!\n",
            "Árvore Balanceada!\n"
          ]
        }
      ],
      "source": [
        "## Gera arquivo de saida com o teste de balanceamento\n",
        "### 1: verdadeiro\n",
        "### 0: falso\n",
        "from binarytree import build2\n",
        "\n",
        "#Pega a ABB final gerada\n",
        "bTree = rotations[len(rotations)-1]\n",
        "binary_tree = build2(bTree)\n",
        "print('Àrvore Binária :\\n', binary_tree)\n",
        "   \n",
        "# Verifica se é Binária de Busca:\n",
        "if binary_tree.is_bst:\n",
        "   print(\"Árvore Binária de Busca!\")\n",
        "else:\n",
        "   print(\"Árvore não-ordenada!\")\n",
        "\n",
        "with open('saida.txt', 'w') as f:\n",
        "   # Verifica se está balanceada:\n",
        "   if binary_tree.is_balanced:\n",
        "      print(\"Árvore Balanceada!\")\n",
        "      f.write('1')\n",
        "   else:\n",
        "      print(\"Árvore não-balanceada!\")\n",
        "      f.write('0')\n",
        "f.close()  "
      ]
    },
    {
      "cell_type": "code",
      "execution_count": 10,
      "metadata": {
        "colab": {
          "base_uri": "https://localhost:8080/"
        },
        "id": "Mnr0p2Kgjc4o",
        "outputId": "b1fdcb49-6a11-4d30-c9d4-d96fe0810bc3"
      },
      "outputs": [
        {
          "name": "stdout",
          "output_type": "stream",
          "text": [
            "Writing teste.c\n"
          ]
        }
      ],
      "source": [
        "%%file teste.c\n",
        "#include <stdio.h>\n",
        "\n",
        "int main(int argc, char **argv)\n",
        "{\n",
        "  printf(\"\\n%d argumentos\\n\", argc);\n",
        "  if(argc>1){\n",
        "    FILE* ptr = fopen(argv[1], \"r\");\n",
        "      if (ptr == NULL) {\n",
        "          printf(\"Arquivo não existe!!\");\n",
        "          return 0;\n",
        "      }\n",
        "      char temp;\n",
        "      fscanf(ptr, \"%s\", &temp);\n",
        "      printf(\"Leitura arquivo: %c\\n\", temp);\n",
        "  }       \n",
        "}"
      ]
    },
    {
      "cell_type": "code",
      "execution_count": 11,
      "metadata": {
        "colab": {
          "base_uri": "https://localhost:8080/"
        },
        "id": "Fx5dCQ8njscd",
        "outputId": "0440ea9c-eb29-48c0-c133-3f4055e94d0c"
      },
      "outputs": [
        {
          "name": "stdout",
          "output_type": "stream",
          "text": [
            "\n",
            "2 argumentos\n",
            "Leitura arquivo: 1\n"
          ]
        }
      ],
      "source": [
        "!gcc teste.c -o teste \n",
        "!teste saida.txt"
      ]
    },
    {
      "cell_type": "code",
      "execution_count": 12,
      "metadata": {
        "colab": {
          "base_uri": "https://localhost:8080/"
        },
        "id": "2oBLoWBjHLGp",
        "outputId": "45f4e821-4a22-40ae-983b-c4ef56f8c4fc"
      },
      "outputs": [
        {
          "name": "stdout",
          "output_type": "stream",
          "text": [
            "1\n"
          ]
        }
      ],
      "source": [
        "!type saida.txt"
      ]
    },
    {
      "attachments": {},
      "cell_type": "markdown",
      "metadata": {
        "id": "3lsdqSyqqHU4"
      },
      "source": [
        "### Desenvolver uma função em C que verifica se uma ABB está balanceada. Confirmar a saída da função com o valor o valor recebido do arquivo \"saida.txt\""
      ]
    },
    {
      "attachments": {},
      "cell_type": "markdown",
      "metadata": {
        "id": "NlH5Xx3ds-aF"
      },
      "source": [
        "%%file codigo.c\n",
        "\n",
        "int verificaBalanceamento(Arv*)\n",
        "\n",
        "-- return 1: se for balanceada\n",
        "\n",
        "-- return 0: se não for balanceada"
      ]
    }
  ],
  "metadata": {
    "colab": {
      "provenance": []
    },
    "kernelspec": {
      "display_name": "Python 3 (ipykernel)",
      "language": "python",
      "name": "python3"
    },
    "language_info": {
      "codemirror_mode": {
        "name": "ipython",
        "version": 3
      },
      "file_extension": ".py",
      "mimetype": "text/x-python",
      "name": "python",
      "nbconvert_exporter": "python",
      "pygments_lexer": "ipython3",
      "version": "3.11.2"
    }
  },
  "nbformat": 4,
  "nbformat_minor": 0
}
