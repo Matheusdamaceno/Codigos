{
  "cells": [
    {
      "cell_type": "markdown",
      "metadata": {
        "id": "1CDy5e8_Pjiy"
      },
      "source": [
        "\n",
        "# Árvore binária de busca\n",
        "\n",
        "- Pacote BinaryTree: https://binarytree.readthedocs.io/en/main/\n",
        "- https://www.geeksforgeeks.org/binarytree-module-in-python/\n",
        "- https://pypi.org/project/binarytree/"
      ]
    },
    {
      "cell_type": "code",
      "execution_count": 1,
      "metadata": {
        "colab": {
          "base_uri": "https://localhost:8080/"
        },
        "id": "9sbvl2pi6-an",
        "outputId": "b764767c-42f5-44e1-9672-b5ce6aebeb44"
      },
      "outputs": [
        {
          "name": "stdout",
          "output_type": "stream",
          "text": [
            "Collecting binarytree\n",
            "  Downloading binarytree-6.5.1-py3-none-any.whl (18 kB)\n",
            "Requirement already satisfied: graphviz in c:\\users\\damac\\appdata\\local\\programs\\python\\python311\\lib\\site-packages (from binarytree) (0.20.1)\n",
            "Requirement already satisfied: setuptools>=60.8.2 in c:\\users\\damac\\appdata\\local\\programs\\python\\python311\\lib\\site-packages (from binarytree) (65.5.0)\n",
            "Collecting setuptools-scm[toml]>=5.0.1 (from binarytree)\n",
            "  Downloading setuptools_scm-7.1.0-py3-none-any.whl (43 kB)\n",
            "                                              0.0/43.8 kB ? eta -:--:--\n",
            "     ---------------------------------------- 43.8/43.8 kB 2.2 MB/s eta 0:00:00\n",
            "Requirement already satisfied: packaging>=20.0 in c:\\users\\damac\\appdata\\roaming\\python\\python311\\site-packages (from setuptools-scm[toml]>=5.0.1->binarytree) (23.0)\n",
            "Collecting typing-extensions (from setuptools-scm[toml]>=5.0.1->binarytree)\n",
            "  Downloading typing_extensions-4.6.2-py3-none-any.whl (31 kB)\n",
            "Installing collected packages: typing-extensions, setuptools-scm, binarytree\n",
            "Successfully installed binarytree-6.5.1 setuptools-scm-7.1.0 typing-extensions-4.6.2\n"
          ]
        }
      ],
      "source": [
        "!pip install binarytree"
      ]
    },
    {
      "cell_type": "code",
      "execution_count": 2,
      "metadata": {
        "colab": {
          "base_uri": "https://localhost:8080/"
        },
        "id": "ntJ_NxgP66SF",
        "outputId": "a7fd6ccb-8459-42ac-a8cb-5b1ce34fe95b"
      },
      "outputs": [
        {
          "name": "stdout",
          "output_type": "stream",
          "text": [
            "Writing ABB.c\n"
          ]
        }
      ],
      "source": [
        "%%file ABB.c\n",
        "\n",
        "#include <stdio.h>\n",
        "#include <stdlib.h>\n",
        "#include <string.h>\n",
        "\n",
        "typedef struct arv {\n",
        "  int valor;\n",
        "  struct arv *esq;\n",
        "  struct arv *dir;\n",
        "} Arv;\n",
        "\n",
        "typedef struct lista {\n",
        "  Arv* node;\n",
        "  struct lista *prox;\n",
        "} Lista;\n",
        "\n",
        "typedef struct fila {\n",
        "  Lista* ini;\n",
        "  Lista* fim;\n",
        "} Fila;\n",
        "\n",
        "Arv* removeFila(Fila* pFila){\n",
        "  if(pFila == NULL)\n",
        "    return NULL;\n",
        "  \n",
        "  Lista* aux = pFila->ini;\n",
        "  Arv* node;\n",
        "  if(aux!=NULL){\n",
        "    pFila->ini = pFila->ini->prox;\n",
        "    node = aux->node;\n",
        "    free(aux);    \n",
        "  }\n",
        "  //Veirifa se ficou vazio\n",
        "  if(pFila->ini == NULL)\n",
        "    pFila->fim = NULL;\n",
        "  return node;\n",
        "}\n",
        "\n",
        "void insereFila(Fila* pFila, Arv* info){\n",
        "  Lista* novo = (Lista*) malloc(sizeof(Lista));\n",
        "  novo->node = info;\n",
        "  novo->prox = NULL;\n",
        "  if(pFila->ini==NULL){\n",
        "    pFila->ini = novo;\n",
        "    pFila->fim = novo;\n",
        "  }else{\n",
        "    pFila->fim->prox = novo;\n",
        "    pFila->fim = novo;\n",
        "  }  \n",
        "}\n",
        "\n",
        "Arv *insereArv(Arv *raiz, int info) {\n",
        "  // Caso base\n",
        "  if (raiz == NULL) {\n",
        "    Arv *novo = (Arv *)malloc(sizeof(Arv));\n",
        "    novo->valor = info;\n",
        "    novo->esq = NULL;\n",
        "    novo->dir = NULL;\n",
        "    return novo;\n",
        "  } else {\n",
        "    if (raiz->valor > info) {\n",
        "      raiz->esq = insereArv(raiz->esq, info);\n",
        "    } else {\n",
        "      raiz->dir = insereArv(raiz->dir, info);\n",
        "    }\n",
        "    return raiz;\n",
        "  }\n",
        "}\n",
        "\n",
        "void BFS(Arv* raiz, FILE* f){\n",
        "    Arv* node = NULL;\n",
        "    Fila* F = (Fila*) malloc(sizeof(Fila));\n",
        "    F->ini = NULL;\n",
        "    F->fim = NULL; \n",
        "    insereFila(F, raiz);\n",
        "\n",
        "    while (F->ini != NULL) {\n",
        "        node = removeFila(F);\n",
        "        if(node != NULL){\n",
        "          printf(\"%d, \", node->valor);\n",
        "          fprintf(f, \"%d\\n\",node->valor);   \n",
        "           if (node->esq!=NULL){\n",
        "              insereFila(F, node->esq);\n",
        "           }else{\n",
        "               insereFila(F, NULL);\n",
        "           }\n",
        "           if (node->dir!=NULL){\n",
        "              insereFila(F, node->dir);      \n",
        "           }else{\n",
        "              insereFila(F, NULL);\n",
        "           }  \n",
        "        }else{\n",
        "          printf(\"%s, \", \"None\");\n",
        "          fprintf(f, \"%d\\n\",0); \n",
        "        }       \n",
        "    }      \n",
        "}\n",
        "\n",
        "int main() {\n",
        "  FILE *fptr;\n",
        "  fptr = fopen(\"bTree.txt\", \"w\");\n",
        "  \n",
        "  if (fptr != NULL) {\n",
        "    printf(\"Arquivo criado com sucesso!\\n\");\n",
        "  }\n",
        "  else {\n",
        "    printf(\"Failed to create the file.\\n\");\n",
        "    // exit status for OS that an error occurred\n",
        "    return -1;\n",
        "  }  \n",
        "    \n",
        "  Arv *raiz = NULL;\n",
        "  raiz = insereArv(raiz, 10);\n",
        "  raiz = insereArv(raiz, 8);\n",
        "  raiz = insereArv(raiz, 30);\n",
        "  raiz = insereArv(raiz, 35);\n",
        "  raiz = insereArv(raiz, 2);\n",
        "  raiz = insereArv(raiz, 9);\n",
        "  raiz = insereArv(raiz, 15);\n",
        "  raiz = insereArv(raiz, 33);\n",
        "  raiz = insereArv(raiz, 22);\n",
        "  BFS(raiz,fptr);\n",
        "  fclose(fptr);\n",
        "  return 0;\n",
        "}\n"
      ]
    },
    {
      "cell_type": "code",
      "execution_count": null,
      "metadata": {
        "colab": {
          "base_uri": "https://localhost:8080/"
        },
        "id": "ijtEXQcY66SH",
        "outputId": "53ab4401-7523-4c19-b3c3-c3f58fd5d255"
      },
      "outputs": [],
      "source": [
        "!gcc ABB.c -o abb\n",
        "!./abb"
      ]
    },
    {
      "cell_type": "code",
      "execution_count": null,
      "metadata": {
        "colab": {
          "base_uri": "https://localhost:8080/"
        },
        "id": "oPMyPgX566SH",
        "outputId": "04460b31-a4cf-4f11-92db-b717d7505412"
      },
      "outputs": [],
      "source": [
        "!cat bTree.txt"
      ]
    },
    {
      "cell_type": "code",
      "execution_count": null,
      "metadata": {
        "colab": {
          "base_uri": "https://localhost:8080/"
        },
        "id": "cTGGe93y66SI",
        "outputId": "b882b5ec-df55-4beb-a822-3a78fc30625e"
      },
      "outputs": [],
      "source": [
        "## Faz a leitura da arvore gerada em C\n",
        "# opening the file in read mode\n",
        "\n",
        "# reading the file\n",
        "lines = []\n",
        "with open(\"bTree.txt\", 'r') as f:\n",
        "     while True:\n",
        "        line = f.readline().strip()        \n",
        "        if not line:\n",
        "            break\n",
        "        \n",
        "        lines.append(int(line))\n",
        "\n",
        "# printing the data\n",
        "bTree = []\n",
        "for i in lines:\n",
        "  if i == 0:\n",
        "    bTree.append(None)\n",
        "  else:\n",
        "    bTree.append(i)  \n",
        "print(bTree)\n",
        "f.close()"
      ]
    },
    {
      "cell_type": "code",
      "execution_count": null,
      "metadata": {
        "colab": {
          "base_uri": "https://localhost:8080/"
        },
        "id": "Tx6T3JIc66SI",
        "outputId": "f189fded-9f46-431e-d12e-bcc2a3f21de7"
      },
      "outputs": [],
      "source": [
        "# Gerando uma árvore binária\n",
        "# a partir de uma lista\n",
        "from binarytree import build\n",
        "\n",
        "# Lista de nós\n",
        "#nodes =[3, 6, 8, 2, 11, 13, 14, 17, 20, \n",
        "#        30, 50, 7, 9]\n",
        "\n",
        "# Gera o objeto árvore binária\n",
        "binary_tree = build(bTree)\n",
        "print('Àrvore Binária :\\n', binary_tree)\n",
        "\n",
        "# Imprime os valores dos nós\n",
        "print('\\nLista :', binary_tree.values)\n"
      ]
    },
    {
      "cell_type": "markdown",
      "metadata": {
        "id": "q8eF18ds66SJ"
      },
      "source": [
        "#### Percurso"
      ]
    },
    {
      "cell_type": "code",
      "execution_count": null,
      "metadata": {
        "colab": {
          "base_uri": "https://localhost:8080/"
        },
        "id": "aRDDbhSl66SJ",
        "outputId": "2fda1ecd-f353-4ade-94b0-710475c9dc34"
      },
      "outputs": [],
      "source": [
        "print(binary_tree.inorder)\n",
        "\n",
        "print(binary_tree.preorder)\n",
        "\n",
        "print(binary_tree.postorder) "
      ]
    },
    {
      "cell_type": "markdown",
      "metadata": {
        "id": "9CIMl56o66SJ"
      },
      "source": [
        "#### Avaliando as propriedades das árvores"
      ]
    },
    {
      "cell_type": "code",
      "execution_count": null,
      "metadata": {
        "colab": {
          "base_uri": "https://localhost:8080/"
        },
        "id": "WeCpDauv66SJ",
        "outputId": "51692ab3-b147-453e-a393-ee0163313f0c",
        "scrolled": true
      },
      "outputs": [],
      "source": [
        "# Imprime a lista de nós\n",
        "print('List of nodes :', list(binary_tree))\n",
        "  \n",
        "\n",
        "# Propriedades\n",
        "print('Tamanho :', binary_tree.size)\n",
        "print('Altura :', binary_tree.height)\n",
        "print('Qtde Folhas :', binary_tree.leaf_count)\n",
        "#print('Folhas :', root.leaves)\n",
        "print('Binária de Busca :', binary_tree.is_bst)"
      ]
    },
    {
      "cell_type": "markdown",
      "metadata": {
        "id": "SP5UwcH566SK"
      },
      "source": [
        "#### Visualização com graphviz()"
      ]
    },
    {
      "cell_type": "code",
      "execution_count": null,
      "metadata": {
        "colab": {
          "base_uri": "https://localhost:8080/",
          "height": 373
        },
        "id": "rnFxTAgQ66SK",
        "outputId": "3ad4995f-dfb0-4818-8687-273bd2b50173"
      },
      "outputs": [],
      "source": [
        "binary_tree.graphviz()"
      ]
    }
  ],
  "metadata": {
    "colab": {
      "collapsed_sections": [
        "WljSCEnx3KxU",
        "OW08RX1l0IKM"
      ],
      "provenance": []
    },
    "kernelspec": {
      "display_name": "Python 3 (ipykernel)",
      "language": "python",
      "name": "python3"
    },
    "language_info": {
      "codemirror_mode": {
        "name": "ipython",
        "version": 3
      },
      "file_extension": ".py",
      "mimetype": "text/x-python",
      "name": "python",
      "nbconvert_exporter": "python",
      "pygments_lexer": "ipython3",
      "version": "3.11.2"
    }
  },
  "nbformat": 4,
  "nbformat_minor": 0
}
