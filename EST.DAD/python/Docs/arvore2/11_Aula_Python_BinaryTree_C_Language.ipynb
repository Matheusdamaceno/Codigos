{
  "cells": [
    {
      "attachments": {},
      "cell_type": "markdown",
      "metadata": {
        "id": "1CDy5e8_Pjiy"
      },
      "source": [
        "\n",
        "# Árvore binária de busca\n",
        "\n",
        "- Pacote BinaryTree: https://binarytree.readthedocs.io/en/main/\n",
        "- https://www.geeksforgeeks.org/binarytree-module-in-python/\n",
        "- https://pypi.org/project/binarytree/"
      ]
    },
    {
      "cell_type": "code",
      "execution_count": 1,
      "metadata": {
        "colab": {
          "base_uri": "https://localhost:8080/"
        },
        "id": "9sbvl2pi6-an",
        "outputId": "b764767c-42f5-44e1-9672-b5ce6aebeb44"
      },
      "outputs": [
        {
          "name": "stdout",
          "output_type": "stream",
          "text": [
            "Collecting binarytree\n",
            "  Downloading binarytree-6.5.1-py3-none-any.whl (18 kB)\n",
            "Requirement already satisfied: graphviz in c:\\users\\damac\\appdata\\local\\programs\\python\\python311\\lib\\site-packages (from binarytree) (0.20.1)\n",
            "Requirement already satisfied: setuptools>=60.8.2 in c:\\users\\damac\\appdata\\local\\programs\\python\\python311\\lib\\site-packages (from binarytree) (65.5.0)\n",
            "Collecting setuptools-scm[toml]>=5.0.1 (from binarytree)\n",
            "  Downloading setuptools_scm-7.1.0-py3-none-any.whl (43 kB)\n",
            "                                              0.0/43.8 kB ? eta -:--:--\n",
            "     ---------------------------------------- 43.8/43.8 kB 2.2 MB/s eta 0:00:00\n",
            "Requirement already satisfied: packaging>=20.0 in c:\\users\\damac\\appdata\\roaming\\python\\python311\\site-packages (from setuptools-scm[toml]>=5.0.1->binarytree) (23.0)\n",
            "Collecting typing-extensions (from setuptools-scm[toml]>=5.0.1->binarytree)\n",
            "  Downloading typing_extensions-4.6.2-py3-none-any.whl (31 kB)\n",
            "Installing collected packages: typing-extensions, setuptools-scm, binarytree\n",
            "Successfully installed binarytree-6.5.1 setuptools-scm-7.1.0 typing-extensions-4.6.2\n"
          ]
        }
      ],
      "source": [
        "!pip install binarytree"
      ]
    },
    {
      "cell_type": "code",
      "execution_count": 4,
      "metadata": {
        "colab": {
          "base_uri": "https://localhost:8080/"
        },
        "id": "ntJ_NxgP66SF",
        "outputId": "a7fd6ccb-8459-42ac-a8cb-5b1ce34fe95b"
      },
      "outputs": [
        {
          "name": "stdout",
          "output_type": "stream",
          "text": [
            "Overwriting ABB.c\n"
          ]
        }
      ],
      "source": [
        "%%file ABB.c\n",
        "\n",
        "#include <stdio.h>\n",
        "#include <stdlib.h>\n",
        "#include <string.h>\n",
        "\n",
        "typedef struct arv {\n",
        "  int valor;\n",
        "  struct arv *esq;\n",
        "  struct arv *dir;\n",
        "} Arv;\n",
        "\n",
        "typedef struct lista {\n",
        "  Arv* node;\n",
        "  struct lista *prox;\n",
        "} Lista;\n",
        "\n",
        "typedef struct fila {\n",
        "  Lista* ini;\n",
        "  Lista* fim;\n",
        "} Fila;\n",
        "\n",
        "Arv* removeFila(Fila* pFila){\n",
        "  if(pFila == NULL)\n",
        "    return NULL;\n",
        "  \n",
        "  Lista* aux = pFila->ini;\n",
        "  Arv* node;\n",
        "  if(aux!=NULL){\n",
        "    pFila->ini = pFila->ini->prox;\n",
        "    node = aux->node;\n",
        "    free(aux);    \n",
        "  }\n",
        "  //Veirifa se ficou vazio\n",
        "  if(pFila->ini == NULL)\n",
        "    pFila->fim = NULL;\n",
        "  return node;\n",
        "}\n",
        "\n",
        "void insereFila(Fila* pFila, Arv* info){\n",
        "  Lista* novo = (Lista*) malloc(sizeof(Lista));\n",
        "  novo->node = info;\n",
        "  novo->prox = NULL;\n",
        "  if(pFila->ini==NULL){\n",
        "    pFila->ini = novo;\n",
        "    pFila->fim = novo;\n",
        "  }else{\n",
        "    pFila->fim->prox = novo;\n",
        "    pFila->fim = novo;\n",
        "  }  \n",
        "}\n",
        "\n",
        "Arv *insereArv(Arv *raiz, int info) {\n",
        "  // Caso base\n",
        "  if (raiz == NULL) {\n",
        "    Arv *novo = (Arv *)malloc(sizeof(Arv));\n",
        "    novo->valor = info;\n",
        "    novo->esq = NULL;\n",
        "    novo->dir = NULL;\n",
        "    return novo;\n",
        "  } else {\n",
        "    if (raiz->valor > info) {\n",
        "      raiz->esq = insereArv(raiz->esq, info);\n",
        "    } else {\n",
        "      raiz->dir = insereArv(raiz->dir, info);\n",
        "    }\n",
        "    return raiz;\n",
        "  }\n",
        "}\n",
        "\n",
        "int altura(Arv *raiz)\n",
        "{\n",
        "  // Arvore nula\n",
        "  if (raiz == NULL)\n",
        "  {\n",
        "    return -1;\n",
        "  }\n",
        "\n",
        "  int dir = altura(raiz->dir);\n",
        "  int esq = altura(raiz->esq);\n",
        "\n",
        "  if (esq > dir)\n",
        "  {\n",
        "    return esq + 1;\n",
        "  }\n",
        "  else\n",
        "  {\n",
        "    return dir + 1;\n",
        "  }\n",
        "}\n",
        "\n",
        "# //Busca em Largura\n",
        "void BFS(Arv* raiz, FILE* f){\n",
        "    Arv* node = NULL;\n",
        "    Fila* F = (Fila*) malloc(sizeof(Fila));\n",
        "    F->ini = NULL;\n",
        "    F->fim = NULL; \n",
        "    fprintf(f,\"%d\\n\", altura(raiz));\n",
        "    insereFila(F, raiz);\n",
        "\n",
        "    while (F->ini != NULL) {\n",
        "        node = removeFila(F);\n",
        "        if(node != NULL){\n",
        "          printf(\"%d, \", node->valor);\n",
        "          fprintf(f, \"%d\\n\",node->valor);   \n",
        "           if (node->esq!=NULL){\n",
        "              insereFila(F, node->esq);\n",
        "           }else{\n",
        "               insereFila(F, NULL);\n",
        "           }\n",
        "           if (node->dir!=NULL){\n",
        "              insereFila(F, node->dir);      \n",
        "           }else{\n",
        "              insereFila(F, NULL);\n",
        "           }  \n",
        "        }else{\n",
        "          printf(\"%s, \", \"None\");\n",
        "          fprintf(f, \"%d\\n\",0); \n",
        "        }       \n",
        "    }      \n",
        "}\n",
        "\n",
        "\n",
        "int main() {\n",
        "  FILE *fptr;\n",
        "  fptr = fopen(\"bTree.txt\", \"w\");\n",
        "  \n",
        "  if (fptr != NULL) {\n",
        "    printf(\"Arquivo criado com sucesso!\\n\");\n",
        "  }\n",
        "  else {\n",
        "    printf(\"Failed to create the file.\\n\");\n",
        "    // exit status for OS that an error occurred\n",
        "    return -1;\n",
        "  }  \n",
        "    \n",
        "  Arv *raiz = NULL;\n",
        "  raiz = insereArv(raiz, 10);\n",
        "  raiz = insereArv(raiz, 8);\n",
        "  raiz = insereArv(raiz, 30);\n",
        "  raiz = insereArv(raiz, 35);\n",
        "  raiz = insereArv(raiz, 2);\n",
        "  raiz = insereArv(raiz, 9);\n",
        "  raiz = insereArv(raiz, 15);\n",
        "  raiz = insereArv(raiz, 33);\n",
        "  raiz = insereArv(raiz, 22);\n",
        "  BFS(raiz,fptr);\n",
        "  fclose(fptr);\n",
        "  return 0;\n",
        "}\n"
      ]
    },
    {
      "cell_type": "code",
      "execution_count": 5,
      "metadata": {
        "colab": {
          "base_uri": "https://localhost:8080/"
        },
        "id": "ijtEXQcY66SH",
        "outputId": "53ab4401-7523-4c19-b3c3-c3f58fd5d255"
      },
      "outputs": [
        {
          "name": "stdout",
          "output_type": "stream",
          "text": [
            "Arquivo criado com sucesso!\n",
            "10, 8, 30, 2, 9, 15, 35, None, None, None, None, None, 22, 33, None, None, None, None, None, \n"
          ]
        }
      ],
      "source": [
        "!gcc ABB.c -o abb\n",
        "!abb"
      ]
    },
    {
      "cell_type": "code",
      "execution_count": 6,
      "metadata": {
        "colab": {
          "base_uri": "https://localhost:8080/"
        },
        "id": "oPMyPgX566SH",
        "outputId": "04460b31-a4cf-4f11-92db-b717d7505412"
      },
      "outputs": [
        {
          "name": "stdout",
          "output_type": "stream",
          "text": [
            "3\n",
            "10\n",
            "8\n",
            "30\n",
            "2\n",
            "9\n",
            "15\n",
            "35\n",
            "0\n",
            "0\n",
            "0\n",
            "0\n",
            "0\n",
            "22\n",
            "33\n",
            "0\n",
            "0\n",
            "0\n",
            "0\n",
            "0\n"
          ]
        }
      ],
      "source": [
        "!type bTree.txt"
      ]
    },
    {
      "cell_type": "code",
      "execution_count": 11,
      "metadata": {
        "colab": {
          "base_uri": "https://localhost:8080/"
        },
        "id": "cTGGe93y66SI",
        "outputId": "b882b5ec-df55-4beb-a822-3a78fc30625e"
      },
      "outputs": [
        {
          "name": "stdout",
          "output_type": "stream",
          "text": [
            "[10, 8, 30, 2, 9, 15, 35, None, None, None, None, None, 22, 33, None, None, None, None, None]\n"
          ]
        }
      ],
      "source": [
        "## Faz a leitura da arvore gerada em C\n",
        "# opening the file in read mode\n",
        "\n",
        "# reading the file\n",
        "lines = []\n",
        "with open(\"bTree.txt\", 'r') as f:\n",
        "     while True:\n",
        "        line = f.readline().strip()        \n",
        "        if not line:\n",
        "            break\n",
        "        \n",
        "        lines.append(int(line))\n",
        "\n",
        "# printing the data\n",
        "bTree = []\n",
        "for i in lines:\n",
        "  if i == 0:\n",
        "    bTree.append(None)\n",
        "  else:\n",
        "    bTree.append(i)  \n",
        "print(bTree)\n",
        "f.close()"
      ]
    },
    {
      "cell_type": "code",
      "execution_count": 13,
      "metadata": {
        "colab": {
          "base_uri": "https://localhost:8080/"
        },
        "id": "Tx6T3JIc66SI",
        "outputId": "f189fded-9f46-431e-d12e-bcc2a3f21de7"
      },
      "outputs": [
        {
          "name": "stdout",
          "output_type": "stream",
          "text": [
            "Àrvore Binária :\n",
            " \n",
            "    __10______\n",
            "   /          \\\n",
            "  8        ____30___\n",
            " / \\      /         \\\n",
            "2   9    15         _35\n",
            "           \\       /\n",
            "            22    33\n",
            "\n",
            "\n",
            "Lista : [10, 8, 30, 2, 9, 15, 35, None, None, None, None, None, 22, 33]\n"
          ]
        }
      ],
      "source": [
        "# Gerando uma árvore binária\n",
        "# a partir de uma lista\n",
        "from binarytree import build\n",
        "\n",
        "# Lista de nós\n",
        "#nodes =[3, 6, 8, 2, 11, 13, 14, 17, 20, \n",
        "#        30, 50, 7, 9]\n",
        "\n",
        "# Gera o objeto árvore binária\n",
        "binary_tree = build(bTree)\n",
        "print('Àrvore Binária :\\n', binary_tree)\n",
        "\n",
        "# Imprime os valores dos nós\n",
        "print('\\nLista :', binary_tree.values)\n"
      ]
    },
    {
      "attachments": {},
      "cell_type": "markdown",
      "metadata": {
        "id": "q8eF18ds66SJ"
      },
      "source": [
        "#### Percurso"
      ]
    },
    {
      "cell_type": "code",
      "execution_count": 14,
      "metadata": {
        "colab": {
          "base_uri": "https://localhost:8080/"
        },
        "id": "aRDDbhSl66SJ",
        "outputId": "2fda1ecd-f353-4ade-94b0-710475c9dc34"
      },
      "outputs": [
        {
          "name": "stdout",
          "output_type": "stream",
          "text": [
            "[Node(2), Node(8), Node(9), Node(10), Node(15), Node(22), Node(30), Node(33), Node(35)]\n",
            "[Node(10), Node(8), Node(2), Node(9), Node(30), Node(15), Node(22), Node(35), Node(33)]\n",
            "[Node(2), Node(9), Node(8), Node(22), Node(15), Node(33), Node(35), Node(30), Node(10)]\n"
          ]
        }
      ],
      "source": [
        "print(binary_tree.inorder)\n",
        "\n",
        "print(binary_tree.preorder)\n",
        "\n",
        "print(binary_tree.postorder) "
      ]
    },
    {
      "attachments": {},
      "cell_type": "markdown",
      "metadata": {
        "id": "9CIMl56o66SJ"
      },
      "source": [
        "#### Avaliando as propriedades das árvores"
      ]
    },
    {
      "cell_type": "code",
      "execution_count": 15,
      "metadata": {
        "colab": {
          "base_uri": "https://localhost:8080/"
        },
        "id": "WeCpDauv66SJ",
        "outputId": "51692ab3-b147-453e-a393-ee0163313f0c",
        "scrolled": true
      },
      "outputs": [
        {
          "name": "stdout",
          "output_type": "stream",
          "text": [
            "List of nodes : [Node(10), Node(8), Node(30), Node(2), Node(9), Node(15), Node(35), Node(22), Node(33)]\n",
            "Tamanho : 9\n",
            "Altura : 3\n",
            "Qtde Folhas : 4\n",
            "Binária de Busca : True\n"
          ]
        }
      ],
      "source": [
        "# Imprime a lista de nós\n",
        "print('List of nodes :', list(binary_tree))\n",
        "  \n",
        "\n",
        "# Propriedades\n",
        "print('Tamanho :', binary_tree.size)\n",
        "print('Altura :', binary_tree.height)\n",
        "print('Qtde Folhas :', binary_tree.leaf_count)\n",
        "#print('Folhas :', root.leaves)\n",
        "print('Binária de Busca :', binary_tree.is_bst)"
      ]
    },
    {
      "attachments": {},
      "cell_type": "markdown",
      "metadata": {
        "id": "SP5UwcH566SK"
      },
      "source": [
        "#### Visualização com graphviz()"
      ]
    },
    {
      "cell_type": "code",
      "execution_count": 16,
      "metadata": {
        "colab": {
          "base_uri": "https://localhost:8080/",
          "height": 373
        },
        "id": "rnFxTAgQ66SK",
        "outputId": "3ad4995f-dfb0-4818-8687-273bd2b50173"
      },
      "outputs": [
        {
          "data": {
            "image/svg+xml": [
              "<?xml version=\"1.0\" encoding=\"UTF-8\" standalone=\"no\"?>\n",
              "<!DOCTYPE svg PUBLIC \"-//W3C//DTD SVG 1.1//EN\"\n",
              " \"http://www.w3.org/Graphics/SVG/1.1/DTD/svg11.dtd\">\n",
              "<!-- Generated by graphviz version 8.0.5 (20230430.1635)\n",
              " -->\n",
              "<!-- Pages: 1 -->\n",
              "<svg width=\"350pt\" height=\"264pt\"\n",
              " viewBox=\"0.00 0.00 349.62 264.00\" xmlns=\"http://www.w3.org/2000/svg\" xmlns:xlink=\"http://www.w3.org/1999/xlink\">\n",
              "<g id=\"graph0\" class=\"graph\" transform=\"scale(1 1) rotate(0) translate(4 260)\">\n",
              "<polygon fill=\"white\" stroke=\"none\" points=\"-4,4 -4,-260 345.62,-260 345.62,4 -4,4\"/>\n",
              "<!-- 2383116854992 -->\n",
              "<g id=\"node1\" class=\"node\">\n",
              "<title>2383116854992</title>\n",
              "<path fill=\"lightgray\" stroke=\"lightgray\" d=\"M132.62,-219.5C132.62,-219.5 177.62,-219.5 177.62,-219.5 183.62,-219.5 189.62,-225.5 189.62,-231.5 189.62,-231.5 189.62,-243.5 189.62,-243.5 189.62,-249.5 183.62,-255.5 177.62,-255.5 177.62,-255.5 132.62,-255.5 132.62,-255.5 126.62,-255.5 120.62,-249.5 120.62,-243.5 120.62,-243.5 120.62,-231.5 120.62,-231.5 120.62,-225.5 126.62,-219.5 132.62,-219.5\"/>\n",
              "<text text-anchor=\"middle\" x=\"130.5\" y=\"-232.07\" font-family=\"Times New Roman,serif\" font-size=\"14.00\"> </text>\n",
              "<polyline fill=\"none\" stroke=\"lightgray\" points=\"140.38,-219.5 140.38,-255.5\"/>\n",
              "<text text-anchor=\"middle\" x=\"155.12\" y=\"-232.07\" font-family=\"Times New Roman,serif\" font-size=\"14.00\">10</text>\n",
              "<polyline fill=\"none\" stroke=\"lightgray\" points=\"169.88,-219.5 169.88,-255.5\"/>\n",
              "<text text-anchor=\"middle\" x=\"179.75\" y=\"-232.07\" font-family=\"Times New Roman,serif\" font-size=\"14.00\"> </text>\n",
              "</g>\n",
              "<!-- 2383117036624 -->\n",
              "<g id=\"node2\" class=\"node\">\n",
              "<title>2383117036624</title>\n",
              "<path fill=\"lightgray\" stroke=\"lightgray\" d=\"M71,-146.5C71,-146.5 109.25,-146.5 109.25,-146.5 115.25,-146.5 121.25,-152.5 121.25,-158.5 121.25,-158.5 121.25,-170.5 121.25,-170.5 121.25,-176.5 115.25,-182.5 109.25,-182.5 109.25,-182.5 71,-182.5 71,-182.5 65,-182.5 59,-176.5 59,-170.5 59,-170.5 59,-158.5 59,-158.5 59,-152.5 65,-146.5 71,-146.5\"/>\n",
              "<text text-anchor=\"middle\" x=\"68.88\" y=\"-159.07\" font-family=\"Times New Roman,serif\" font-size=\"14.00\"> </text>\n",
              "<polyline fill=\"none\" stroke=\"lightgray\" points=\"78.75,-146.5 78.75,-182.5\"/>\n",
              "<text text-anchor=\"middle\" x=\"90.12\" y=\"-159.07\" font-family=\"Times New Roman,serif\" font-size=\"14.00\">8</text>\n",
              "<polyline fill=\"none\" stroke=\"lightgray\" points=\"101.5,-146.5 101.5,-182.5\"/>\n",
              "<text text-anchor=\"middle\" x=\"111.38\" y=\"-159.07\" font-family=\"Times New Roman,serif\" font-size=\"14.00\"> </text>\n",
              "</g>\n",
              "<!-- 2383116854992&#45;&gt;2383117036624 -->\n",
              "<g id=\"edge1\" class=\"edge\">\n",
              "<title>2383116854992:l&#45;&gt;2383117036624:v</title>\n",
              "<path fill=\"none\" stroke=\"black\" d=\"M130.12,-219C130.12,-199.57 103.72,-203.74 93.82,-193.15\"/>\n",
              "<polygon fill=\"black\" stroke=\"black\" points=\"96.83,-192.2 90.12,-184 90.25,-194.59 96.83,-192.2\"/>\n",
              "</g>\n",
              "<!-- 2383117034384 -->\n",
              "<g id=\"node3\" class=\"node\">\n",
              "<title>2383117034384</title>\n",
              "<path fill=\"lightgray\" stroke=\"lightgray\" d=\"M197.62,-146.5C197.62,-146.5 242.62,-146.5 242.62,-146.5 248.62,-146.5 254.62,-152.5 254.62,-158.5 254.62,-158.5 254.62,-170.5 254.62,-170.5 254.62,-176.5 248.62,-182.5 242.62,-182.5 242.62,-182.5 197.62,-182.5 197.62,-182.5 191.62,-182.5 185.62,-176.5 185.62,-170.5 185.62,-170.5 185.62,-158.5 185.62,-158.5 185.62,-152.5 191.62,-146.5 197.62,-146.5\"/>\n",
              "<text text-anchor=\"middle\" x=\"195.5\" y=\"-159.07\" font-family=\"Times New Roman,serif\" font-size=\"14.00\"> </text>\n",
              "<polyline fill=\"none\" stroke=\"lightgray\" points=\"205.38,-146.5 205.38,-182.5\"/>\n",
              "<text text-anchor=\"middle\" x=\"220.12\" y=\"-159.07\" font-family=\"Times New Roman,serif\" font-size=\"14.00\">30</text>\n",
              "<polyline fill=\"none\" stroke=\"lightgray\" points=\"234.88,-146.5 234.88,-182.5\"/>\n",
              "<text text-anchor=\"middle\" x=\"244.75\" y=\"-159.07\" font-family=\"Times New Roman,serif\" font-size=\"14.00\"> </text>\n",
              "</g>\n",
              "<!-- 2383116854992&#45;&gt;2383117034384 -->\n",
              "<g id=\"edge2\" class=\"edge\">\n",
              "<title>2383116854992:r&#45;&gt;2383117034384:v</title>\n",
              "<path fill=\"none\" stroke=\"black\" d=\"M180.12,-219C180.12,-199.57 206.53,-203.74 216.43,-193.15\"/>\n",
              "<polygon fill=\"black\" stroke=\"black\" points=\"220,-194.59 220.12,-184 213.42,-192.2 220,-194.59\"/>\n",
              "</g>\n",
              "<!-- 2383117040144 -->\n",
              "<g id=\"node4\" class=\"node\">\n",
              "<title>2383117040144</title>\n",
              "<path fill=\"lightgray\" stroke=\"lightgray\" d=\"M12,-73.5C12,-73.5 50.25,-73.5 50.25,-73.5 56.25,-73.5 62.25,-79.5 62.25,-85.5 62.25,-85.5 62.25,-97.5 62.25,-97.5 62.25,-103.5 56.25,-109.5 50.25,-109.5 50.25,-109.5 12,-109.5 12,-109.5 6,-109.5 0,-103.5 0,-97.5 0,-97.5 0,-85.5 0,-85.5 0,-79.5 6,-73.5 12,-73.5\"/>\n",
              "<text text-anchor=\"middle\" x=\"9.88\" y=\"-86.08\" font-family=\"Times New Roman,serif\" font-size=\"14.00\"> </text>\n",
              "<polyline fill=\"none\" stroke=\"lightgray\" points=\"19.75,-73.5 19.75,-109.5\"/>\n",
              "<text text-anchor=\"middle\" x=\"31.12\" y=\"-86.08\" font-family=\"Times New Roman,serif\" font-size=\"14.00\">2</text>\n",
              "<polyline fill=\"none\" stroke=\"lightgray\" points=\"42.5,-73.5 42.5,-109.5\"/>\n",
              "<text text-anchor=\"middle\" x=\"52.38\" y=\"-86.08\" font-family=\"Times New Roman,serif\" font-size=\"14.00\"> </text>\n",
              "</g>\n",
              "<!-- 2383117036624&#45;&gt;2383117040144 -->\n",
              "<g id=\"edge3\" class=\"edge\">\n",
              "<title>2383117036624:l&#45;&gt;2383117040144:v</title>\n",
              "<path fill=\"none\" stroke=\"black\" d=\"M69.12,-146C69.12,-127.28 44.52,-130.44 34.91,-120.27\"/>\n",
              "<polygon fill=\"black\" stroke=\"black\" points=\"37.87,-119.17 31.12,-111 31.3,-121.59 37.87,-119.17\"/>\n",
              "</g>\n",
              "<!-- 2383117031952 -->\n",
              "<g id=\"node5\" class=\"node\">\n",
              "<title>2383117031952</title>\n",
              "<path fill=\"lightgray\" stroke=\"lightgray\" d=\"M92,-73.5C92,-73.5 130.25,-73.5 130.25,-73.5 136.25,-73.5 142.25,-79.5 142.25,-85.5 142.25,-85.5 142.25,-97.5 142.25,-97.5 142.25,-103.5 136.25,-109.5 130.25,-109.5 130.25,-109.5 92,-109.5 92,-109.5 86,-109.5 80,-103.5 80,-97.5 80,-97.5 80,-85.5 80,-85.5 80,-79.5 86,-73.5 92,-73.5\"/>\n",
              "<text text-anchor=\"middle\" x=\"89.88\" y=\"-86.08\" font-family=\"Times New Roman,serif\" font-size=\"14.00\"> </text>\n",
              "<polyline fill=\"none\" stroke=\"lightgray\" points=\"99.75,-73.5 99.75,-109.5\"/>\n",
              "<text text-anchor=\"middle\" x=\"111.12\" y=\"-86.08\" font-family=\"Times New Roman,serif\" font-size=\"14.00\">9</text>\n",
              "<polyline fill=\"none\" stroke=\"lightgray\" points=\"122.5,-73.5 122.5,-109.5\"/>\n",
              "<text text-anchor=\"middle\" x=\"132.38\" y=\"-86.08\" font-family=\"Times New Roman,serif\" font-size=\"14.00\"> </text>\n",
              "</g>\n",
              "<!-- 2383117036624&#45;&gt;2383117031952 -->\n",
              "<g id=\"edge4\" class=\"edge\">\n",
              "<title>2383117036624:r&#45;&gt;2383117031952:v</title>\n",
              "<path fill=\"none\" stroke=\"black\" d=\"M111.12,-146C111.12,-134.38 111.12,-129.08 111.12,-120.92\"/>\n",
              "<polygon fill=\"black\" stroke=\"black\" points=\"114.63,-121 111.12,-111 107.63,-121 114.63,-121\"/>\n",
              "</g>\n",
              "<!-- 2383117026896 -->\n",
              "<g id=\"node6\" class=\"node\">\n",
              "<title>2383117026896</title>\n",
              "<path fill=\"lightgray\" stroke=\"lightgray\" d=\"M172.62,-73.5C172.62,-73.5 217.62,-73.5 217.62,-73.5 223.62,-73.5 229.62,-79.5 229.62,-85.5 229.62,-85.5 229.62,-97.5 229.62,-97.5 229.62,-103.5 223.62,-109.5 217.62,-109.5 217.62,-109.5 172.62,-109.5 172.62,-109.5 166.62,-109.5 160.62,-103.5 160.62,-97.5 160.62,-97.5 160.62,-85.5 160.62,-85.5 160.62,-79.5 166.62,-73.5 172.62,-73.5\"/>\n",
              "<text text-anchor=\"middle\" x=\"170.5\" y=\"-86.08\" font-family=\"Times New Roman,serif\" font-size=\"14.00\"> </text>\n",
              "<polyline fill=\"none\" stroke=\"lightgray\" points=\"180.38,-73.5 180.38,-109.5\"/>\n",
              "<text text-anchor=\"middle\" x=\"195.12\" y=\"-86.08\" font-family=\"Times New Roman,serif\" font-size=\"14.00\">15</text>\n",
              "<polyline fill=\"none\" stroke=\"lightgray\" points=\"209.88,-73.5 209.88,-109.5\"/>\n",
              "<text text-anchor=\"middle\" x=\"219.75\" y=\"-86.08\" font-family=\"Times New Roman,serif\" font-size=\"14.00\"> </text>\n",
              "</g>\n",
              "<!-- 2383117034384&#45;&gt;2383117026896 -->\n",
              "<g id=\"edge5\" class=\"edge\">\n",
              "<title>2383117034384:l&#45;&gt;2383117026896:v</title>\n",
              "<path fill=\"none\" stroke=\"black\" d=\"M195.12,-146C195.12,-134.38 195.12,-129.08 195.12,-120.92\"/>\n",
              "<polygon fill=\"black\" stroke=\"black\" points=\"198.63,-121 195.12,-111 191.63,-121 198.63,-121\"/>\n",
              "</g>\n",
              "<!-- 2383116229520 -->\n",
              "<g id=\"node7\" class=\"node\">\n",
              "<title>2383116229520</title>\n",
              "<path fill=\"lightgray\" stroke=\"lightgray\" d=\"M284.62,-73.5C284.62,-73.5 329.62,-73.5 329.62,-73.5 335.62,-73.5 341.62,-79.5 341.62,-85.5 341.62,-85.5 341.62,-97.5 341.62,-97.5 341.62,-103.5 335.62,-109.5 329.62,-109.5 329.62,-109.5 284.62,-109.5 284.62,-109.5 278.62,-109.5 272.62,-103.5 272.62,-97.5 272.62,-97.5 272.62,-85.5 272.62,-85.5 272.62,-79.5 278.62,-73.5 284.62,-73.5\"/>\n",
              "<text text-anchor=\"middle\" x=\"282.5\" y=\"-86.08\" font-family=\"Times New Roman,serif\" font-size=\"14.00\"> </text>\n",
              "<polyline fill=\"none\" stroke=\"lightgray\" points=\"292.38,-73.5 292.38,-109.5\"/>\n",
              "<text text-anchor=\"middle\" x=\"307.12\" y=\"-86.08\" font-family=\"Times New Roman,serif\" font-size=\"14.00\">35</text>\n",
              "<polyline fill=\"none\" stroke=\"lightgray\" points=\"321.88,-73.5 321.88,-109.5\"/>\n",
              "<text text-anchor=\"middle\" x=\"331.75\" y=\"-86.08\" font-family=\"Times New Roman,serif\" font-size=\"14.00\"> </text>\n",
              "</g>\n",
              "<!-- 2383117034384&#45;&gt;2383116229520 -->\n",
              "<g id=\"edge6\" class=\"edge\">\n",
              "<title>2383117034384:r&#45;&gt;2383116229520:v</title>\n",
              "<path fill=\"none\" stroke=\"black\" d=\"M245.12,-146C245.12,-118.62 290.91,-135.24 303.79,-120.24\"/>\n",
              "<polygon fill=\"black\" stroke=\"black\" points=\"307.36,-121.59 307.12,-111 300.7,-119.43 307.36,-121.59\"/>\n",
              "</g>\n",
              "<!-- 2383117038416 -->\n",
              "<g id=\"node8\" class=\"node\">\n",
              "<title>2383117038416</title>\n",
              "<path fill=\"lightgray\" stroke=\"lightgray\" d=\"M184.62,-0.5C184.62,-0.5 229.62,-0.5 229.62,-0.5 235.62,-0.5 241.62,-6.5 241.62,-12.5 241.62,-12.5 241.62,-24.5 241.62,-24.5 241.62,-30.5 235.62,-36.5 229.62,-36.5 229.62,-36.5 184.62,-36.5 184.62,-36.5 178.62,-36.5 172.62,-30.5 172.62,-24.5 172.62,-24.5 172.62,-12.5 172.62,-12.5 172.62,-6.5 178.62,-0.5 184.62,-0.5\"/>\n",
              "<text text-anchor=\"middle\" x=\"182.5\" y=\"-13.07\" font-family=\"Times New Roman,serif\" font-size=\"14.00\"> </text>\n",
              "<polyline fill=\"none\" stroke=\"lightgray\" points=\"192.38,-0.5 192.38,-36.5\"/>\n",
              "<text text-anchor=\"middle\" x=\"207.12\" y=\"-13.07\" font-family=\"Times New Roman,serif\" font-size=\"14.00\">22</text>\n",
              "<polyline fill=\"none\" stroke=\"lightgray\" points=\"221.88,-0.5 221.88,-36.5\"/>\n",
              "<text text-anchor=\"middle\" x=\"231.75\" y=\"-13.07\" font-family=\"Times New Roman,serif\" font-size=\"14.00\"> </text>\n",
              "</g>\n",
              "<!-- 2383117026896&#45;&gt;2383117038416 -->\n",
              "<g id=\"edge7\" class=\"edge\">\n",
              "<title>2383117026896:r&#45;&gt;2383117038416:v</title>\n",
              "<path fill=\"none\" stroke=\"black\" d=\"M220.12,-73C220.12,-60.37 212.96,-56.03 209.27,-47.67\"/>\n",
              "<polygon fill=\"black\" stroke=\"black\" points=\"212.53,-47.11 207.12,-38 205.67,-48.49 212.53,-47.11\"/>\n",
              "</g>\n",
              "<!-- 2383116341136 -->\n",
              "<g id=\"node9\" class=\"node\">\n",
              "<title>2383116341136</title>\n",
              "<path fill=\"lightgray\" stroke=\"lightgray\" d=\"M271.62,-0.5C271.62,-0.5 316.62,-0.5 316.62,-0.5 322.62,-0.5 328.62,-6.5 328.62,-12.5 328.62,-12.5 328.62,-24.5 328.62,-24.5 328.62,-30.5 322.62,-36.5 316.62,-36.5 316.62,-36.5 271.62,-36.5 271.62,-36.5 265.62,-36.5 259.62,-30.5 259.62,-24.5 259.62,-24.5 259.62,-12.5 259.62,-12.5 259.62,-6.5 265.62,-0.5 271.62,-0.5\"/>\n",
              "<text text-anchor=\"middle\" x=\"269.5\" y=\"-13.07\" font-family=\"Times New Roman,serif\" font-size=\"14.00\"> </text>\n",
              "<polyline fill=\"none\" stroke=\"lightgray\" points=\"279.38,-0.5 279.38,-36.5\"/>\n",
              "<text text-anchor=\"middle\" x=\"294.12\" y=\"-13.07\" font-family=\"Times New Roman,serif\" font-size=\"14.00\">33</text>\n",
              "<polyline fill=\"none\" stroke=\"lightgray\" points=\"308.88,-0.5 308.88,-36.5\"/>\n",
              "<text text-anchor=\"middle\" x=\"318.75\" y=\"-13.07\" font-family=\"Times New Roman,serif\" font-size=\"14.00\"> </text>\n",
              "</g>\n",
              "<!-- 2383116229520&#45;&gt;2383116341136 -->\n",
              "<g id=\"edge8\" class=\"edge\">\n",
              "<title>2383116229520:l&#45;&gt;2383116341136:v</title>\n",
              "<path fill=\"none\" stroke=\"black\" d=\"M282.12,-73C282.12,-60.48 288.74,-56.01 292.14,-47.63\"/>\n",
              "<polygon fill=\"black\" stroke=\"black\" points=\"295.73,-48.47 294.12,-38 288.85,-47.19 295.73,-48.47\"/>\n",
              "</g>\n",
              "</g>\n",
              "</svg>\n"
            ],
            "text/plain": [
              "<graphviz.graphs.Digraph at 0x22adccbc2d0>"
            ]
          },
          "execution_count": 16,
          "metadata": {},
          "output_type": "execute_result"
        }
      ],
      "source": [
        "binary_tree.graphviz()"
      ]
    },
    {
      "attachments": {},
      "cell_type": "markdown",
      "metadata": {},
      "source": [
        "# Atividade valendo nota:\n",
        "\n",
        "* Construir a função que calcula altura no arquivo ABB.c\n",
        "* Incluir na primeira linha do arquivo bTree.txt o valor da altura\n",
        "* Construir a ABB e python com o metodo build\n",
        "* Avaliar com o metodo height (binarytree library) se a altura é igual"
      ]
    },
    {
      "cell_type": "code",
      "execution_count": 1,
      "metadata": {},
      "outputs": [
        {
          "name": "stdout",
          "output_type": "stream",
          "text": [
            "Requirement already satisfied: binarytree in c:\\users\\damac\\appdata\\local\\programs\\python\\python311\\lib\\site-packages (6.5.1)\n",
            "Requirement already satisfied: graphviz in c:\\users\\damac\\appdata\\local\\programs\\python\\python311\\lib\\site-packages (from binarytree) (0.20.1)\n",
            "Requirement already satisfied: setuptools>=60.8.2 in c:\\users\\damac\\appdata\\local\\programs\\python\\python311\\lib\\site-packages (from binarytree) (65.5.0)\n",
            "Requirement already satisfied: setuptools-scm[toml]>=5.0.1 in c:\\users\\damac\\appdata\\local\\programs\\python\\python311\\lib\\site-packages (from binarytree) (7.1.0)\n",
            "Requirement already satisfied: packaging>=20.0 in c:\\users\\damac\\appdata\\roaming\\python\\python311\\site-packages (from setuptools-scm[toml]>=5.0.1->binarytree) (23.0)\n",
            "Requirement already satisfied: typing-extensions in c:\\users\\damac\\appdata\\local\\programs\\python\\python311\\lib\\site-packages (from setuptools-scm[toml]>=5.0.1->binarytree) (4.6.2)\n"
          ]
        }
      ],
      "source": [
        "!pip install binarytree"
      ]
    },
    {
      "cell_type": "code",
      "execution_count": 2,
      "metadata": {},
      "outputs": [
        {
          "name": "stdout",
          "output_type": "stream",
          "text": [
            "Overwriting ABB.c\n"
          ]
        }
      ],
      "source": [
        "%%file ABB.c\n",
        "\n",
        "#include <stdio.h>\n",
        "#include <stdlib.h>\n",
        "#include <string.h>\n",
        "\n",
        "typedef struct arv {\n",
        "  int valor;\n",
        "  struct arv *esq;\n",
        "  struct arv *dir;\n",
        "} Arv;\n",
        "\n",
        "typedef struct lista {\n",
        "  Arv* node;\n",
        "  struct lista *prox;\n",
        "} Lista;\n",
        "\n",
        "typedef struct fila {\n",
        "  Lista* ini;\n",
        "  Lista* fim;\n",
        "} Fila;\n",
        "\n",
        "Arv* removeFila(Fila* pFila){\n",
        "  if(pFila == NULL)\n",
        "    return NULL;\n",
        "  \n",
        "  Lista* aux = pFila->ini;\n",
        "  Arv* node;\n",
        "  if(aux!=NULL){\n",
        "    pFila->ini = pFila->ini->prox;\n",
        "    node = aux->node;\n",
        "    free(aux);    \n",
        "  }\n",
        "  //Veirifa se ficou vazio\n",
        "  if(pFila->ini == NULL)\n",
        "    pFila->fim = NULL;\n",
        "  return node;\n",
        "}\n",
        "\n",
        "void insereFila(Fila* pFila, Arv* info){\n",
        "  Lista* novo = (Lista*) malloc(sizeof(Lista));\n",
        "  novo->node = info;\n",
        "  novo->prox = NULL;\n",
        "  if(pFila->ini==NULL){\n",
        "    pFila->ini = novo;\n",
        "    pFila->fim = novo;\n",
        "  }else{\n",
        "    pFila->fim->prox = novo;\n",
        "    pFila->fim = novo;\n",
        "  }  \n",
        "}\n",
        "\n",
        "Arv *insereArv(Arv *raiz, int info) {\n",
        "  // Caso base\n",
        "  if (raiz == NULL) {\n",
        "    Arv *novo = (Arv *)malloc(sizeof(Arv));\n",
        "    novo->valor = info;\n",
        "    novo->esq = NULL;\n",
        "    novo->dir = NULL;\n",
        "    return novo;\n",
        "  } else {\n",
        "    if (raiz->valor > info) {\n",
        "      raiz->esq = insereArv(raiz->esq, info);\n",
        "    } else {\n",
        "      raiz->dir = insereArv(raiz->dir, info);\n",
        "    }\n",
        "    return raiz;\n",
        "  }\n",
        "}\n",
        "\n",
        "int altura(Arv* raiz){\n",
        "    int esq = 0;\n",
        "    int dir = 0;\n",
        "\n",
        "    //Caso árvore vazia\n",
        "    if(raiz == NULL){\n",
        "        return -1;\n",
        "    } else {\n",
        "        //Análise de cada lado da árvore\n",
        "        esq += altura(raiz->esq);\n",
        "        dir += altura(raiz->dir);\n",
        "        if(esq >= dir){\n",
        "            return ++esq;\n",
        "        } else {\n",
        "            return ++dir;\n",
        "        }\n",
        "    }\n",
        "}\n",
        "\n",
        "void BFS(Arv* raiz, FILE* f){\n",
        "    Arv* node = NULL;\n",
        "    Fila* F = (Fila*) malloc(sizeof(Fila));\n",
        "    F->ini = NULL;\n",
        "    F->fim = NULL; \n",
        "    fprintf(f, \"%d\\n\", altura(raiz));\n",
        "    insereFila(F, raiz);\n",
        "\n",
        "    while (F->ini != NULL) {\n",
        "        node = removeFila(F);\n",
        "        if(node != NULL){\n",
        "          printf(\"%d, \", node->valor);\n",
        "          fprintf(f, \"%d\\n\",node->valor);   \n",
        "           if (node->esq!=NULL){\n",
        "              insereFila(F, node->esq);\n",
        "           }else{\n",
        "               insereFila(F, NULL);\n",
        "           }\n",
        "           if (node->dir!=NULL){\n",
        "              insereFila(F, node->dir);      \n",
        "           }else{\n",
        "              insereFila(F, NULL);\n",
        "           }  \n",
        "        }else{\n",
        "          printf(\"%s, \", \"None\");\n",
        "          fprintf(f, \"%d\\n\",0); \n",
        "        }       \n",
        "    }      \n",
        "}\n",
        "\n",
        "int main() {\n",
        "  FILE *fptr;\n",
        "  fptr = fopen(\"bTree.txt\", \"w\");\n",
        "  \n",
        "  if (fptr != NULL) {\n",
        "    printf(\"Arquivo criado com sucesso!\\n\");\n",
        "  }\n",
        "  else {\n",
        "    printf(\"Failed to create the file.\\n\");\n",
        "    // exit status for OS that an error occurred\n",
        "    return -1;\n",
        "  }  \n",
        "    \n",
        "  Arv *raiz = NULL;\n",
        "  raiz = insereArv(raiz, 10);\n",
        "  raiz = insereArv(raiz, 8);\n",
        "  raiz = insereArv(raiz, 30);\n",
        "  raiz = insereArv(raiz, 35);\n",
        "  raiz = insereArv(raiz, 2);\n",
        "  raiz = insereArv(raiz, 9);\n",
        "  raiz = insereArv(raiz, 15);\n",
        "  raiz = insereArv(raiz, 33);\n",
        "  raiz = insereArv(raiz, 22);\n",
        "  BFS(raiz,fptr);\n",
        "  fclose(fptr);\n",
        "  return 0;\n",
        "}"
      ]
    },
    {
      "cell_type": "code",
      "execution_count": 3,
      "metadata": {},
      "outputs": [
        {
          "name": "stdout",
          "output_type": "stream",
          "text": [
            "Arquivo criado com sucesso!\n",
            "10, 8, 30, 2, 9, 15, 35, None, None, None, None, None, 22, 33, None, None, None, None, None, \n"
          ]
        }
      ],
      "source": [
        "!gcc ABB.c -o abb\n",
        "!abb"
      ]
    },
    {
      "cell_type": "code",
      "execution_count": 4,
      "metadata": {},
      "outputs": [
        {
          "name": "stdout",
          "output_type": "stream",
          "text": [
            "3\n",
            "10\n",
            "8\n",
            "30\n",
            "2\n",
            "9\n",
            "15\n",
            "35\n",
            "0\n",
            "0\n",
            "0\n",
            "0\n",
            "0\n",
            "22\n",
            "33\n",
            "0\n",
            "0\n",
            "0\n",
            "0\n",
            "0\n"
          ]
        }
      ],
      "source": [
        "!type bTree.txt"
      ]
    },
    {
      "cell_type": "code",
      "execution_count": 5,
      "metadata": {},
      "outputs": [
        {
          "name": "stdout",
          "output_type": "stream",
          "text": [
            "[10, 8, 30, 2, 9, 15, 35, None, None, None, None, None, 22, 33, None, None, None, None, None]\n"
          ]
        }
      ],
      "source": [
        "## Faz a leitura da arvore gerada em C\n",
        "# opening the file in read mode\n",
        "\n",
        "# reading the file\n",
        "lines = []\n",
        "with open(\"bTree.txt\", 'r') as f:\n",
        "     while True:\n",
        "        line = f.readline().strip()        \n",
        "        if not line:\n",
        "            break\n",
        "        \n",
        "        lines.append(int(line))\n",
        "\n",
        "# printing the data\n",
        "altura = lines[0]\n",
        "del lines[0]\n",
        "bTree = []\n",
        "for i in lines:\n",
        "  if i == 0:\n",
        "    bTree.append(None)\n",
        "  else:\n",
        "    bTree.append(i)  \n",
        "print(bTree)\n",
        "f.close()"
      ]
    },
    {
      "cell_type": "code",
      "execution_count": 6,
      "metadata": {},
      "outputs": [
        {
          "name": "stdout",
          "output_type": "stream",
          "text": [
            "Àrvore Binária :\n",
            " \n",
            "    __10______\n",
            "   /          \\\n",
            "  8        ____30___\n",
            " / \\      /         \\\n",
            "2   9    15         _35\n",
            "           \\       /\n",
            "            22    33\n",
            "\n",
            "\n",
            "Lista : [10, 8, 30, 2, 9, 15, 35, None, None, None, None, None, 22, 33]\n"
          ]
        }
      ],
      "source": [
        "# Gerando uma árvore binária\n",
        "# a partir de uma lista\n",
        "from binarytree import build\n",
        "\n",
        "# Lista de nós\n",
        "#nodes =[3, 6, 8, 2, 11, 13, 14, 17, 20, \n",
        "#        30, 50, 7, 9]\n",
        "\n",
        "# Gera o objeto árvore binária\n",
        "binary_tree = build(bTree)\n",
        "print('Àrvore Binária :\\n', binary_tree)\n",
        "\n",
        "# Imprime os valores dos nós\n",
        "print('\\nLista :', binary_tree.values)\n"
      ]
    },
    {
      "cell_type": "code",
      "execution_count": 7,
      "metadata": {},
      "outputs": [
        {
          "name": "stdout",
          "output_type": "stream",
          "text": [
            "List of nodes : [Node(10), Node(8), Node(30), Node(2), Node(9), Node(15), Node(35), Node(22), Node(33)]\n",
            "Tamanho : 9\n",
            "Altura da função em c: 3\n",
            "Altura : 3\n",
            "Resultados iguais - Função válida\n",
            "Qtde Folhas : 4\n",
            "Binária de Busca : True\n"
          ]
        }
      ],
      "source": [
        "# Imprime a lista de nós\n",
        "print('List of nodes :', list(binary_tree))\n",
        "  \n",
        "\n",
        "# Propriedades\n",
        "print('Tamanho :', binary_tree.size)\n",
        "print('Altura da função em c:', altura)\n",
        "print('Altura :', binary_tree.height)\n",
        "\n",
        "if altura == binary_tree.height:\n",
        "    print('Resultados iguais - Função válida')\n",
        "else:\n",
        "    print('Função em c tá quebrada')\n",
        "\n",
        "print('Qtde Folhas :', binary_tree.leaf_count)\n",
        "print('Binária de Busca :', binary_tree.is_bst)"
      ]
    }
  ],
  "metadata": {
    "colab": {
      "collapsed_sections": [
        "WljSCEnx3KxU",
        "OW08RX1l0IKM"
      ],
      "provenance": []
    },
    "kernelspec": {
      "display_name": "Python 3 (ipykernel)",
      "language": "python",
      "name": "python3"
    },
    "language_info": {
      "codemirror_mode": {
        "name": "ipython",
        "version": 3
      },
      "file_extension": ".py",
      "mimetype": "text/x-python",
      "name": "python",
      "nbconvert_exporter": "python",
      "pygments_lexer": "ipython3",
      "version": "3.11.2"
    }
  },
  "nbformat": 4,
  "nbformat_minor": 0
}
