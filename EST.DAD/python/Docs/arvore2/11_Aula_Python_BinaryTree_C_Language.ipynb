{
  "cells": [
    {
      "attachments": {},
      "cell_type": "markdown",
      "metadata": {
        "id": "1CDy5e8_Pjiy"
      },
      "source": [
        "\n",
        "# Árvore binária de busca\n",
        "\n",
        "- Pacote BinaryTree: https://binarytree.readthedocs.io/en/main/\n",
        "- https://www.geeksforgeeks.org/binarytree-module-in-python/\n",
        "- https://pypi.org/project/binarytree/"
      ]
    },
    {
      "cell_type": "code",
      "execution_count": 1,
      "metadata": {
        "colab": {
          "base_uri": "https://localhost:8080/"
        },
        "id": "9sbvl2pi6-an",
        "outputId": "b764767c-42f5-44e1-9672-b5ce6aebeb44"
      },
      "outputs": [
        {
          "name": "stdout",
          "output_type": "stream",
          "text": [
            "Requirement already satisfied: binarytree in c:\\users\\damac\\appdata\\local\\programs\\python\\python311\\lib\\site-packages (6.5.1)\n",
            "Requirement already satisfied: graphviz in c:\\users\\damac\\appdata\\local\\programs\\python\\python311\\lib\\site-packages (from binarytree) (0.20.1)\n",
            "Requirement already satisfied: setuptools>=60.8.2 in c:\\users\\damac\\appdata\\local\\programs\\python\\python311\\lib\\site-packages (from binarytree) (65.5.0)\n",
            "Requirement already satisfied: setuptools-scm[toml]>=5.0.1 in c:\\users\\damac\\appdata\\local\\programs\\python\\python311\\lib\\site-packages (from binarytree) (7.1.0)\n",
            "Requirement already satisfied: packaging>=20.0 in c:\\users\\damac\\appdata\\roaming\\python\\python311\\site-packages (from setuptools-scm[toml]>=5.0.1->binarytree) (23.0)\n",
            "Requirement already satisfied: typing-extensions in c:\\users\\damac\\appdata\\local\\programs\\python\\python311\\lib\\site-packages (from setuptools-scm[toml]>=5.0.1->binarytree) (4.6.2)\n"
          ]
        }
      ],
      "source": [
        "!pip install binarytree"
      ]
    },
    {
      "cell_type": "code",
      "execution_count": 2,
      "metadata": {
        "colab": {
          "base_uri": "https://localhost:8080/"
        },
        "id": "ntJ_NxgP66SF",
        "outputId": "a7fd6ccb-8459-42ac-a8cb-5b1ce34fe95b"
      },
      "outputs": [
        {
          "name": "stdout",
          "output_type": "stream",
          "text": [
            "Overwriting ABB.c\n"
          ]
        }
      ],
      "source": [
        "%%file ABB.c\n",
        "\n",
        "#include <stdio.h>\n",
        "#include <stdlib.h>\n",
        "#include <string.h>\n",
        "\n",
        "typedef struct arv {\n",
        "  int valor;\n",
        "  struct arv *esq;\n",
        "  struct arv *dir;\n",
        "} Arv;\n",
        "\n",
        "typedef struct lista {\n",
        "  Arv* node;\n",
        "  struct lista *prox;\n",
        "} Lista;\n",
        "\n",
        "typedef struct fila {\n",
        "  Lista* ini;\n",
        "  Lista* fim;\n",
        "} Fila;\n",
        "\n",
        "Arv* removeFila(Fila* pFila){\n",
        "  if(pFila == NULL)\n",
        "    return NULL;\n",
        "  \n",
        "  Lista* aux = pFila->ini;\n",
        "  Arv* node;\n",
        "  if(aux!=NULL){\n",
        "    pFila->ini = pFila->ini->prox;\n",
        "    node = aux->node;\n",
        "    free(aux);    \n",
        "  }\n",
        "  //Veirifa se ficou vazio\n",
        "  if(pFila->ini == NULL)\n",
        "    pFila->fim = NULL;\n",
        "  return node;\n",
        "}\n",
        "\n",
        "void insereFila(Fila* pFila, Arv* info){\n",
        "  Lista* novo = (Lista*) malloc(sizeof(Lista));\n",
        "  novo->node = info;\n",
        "  novo->prox = NULL;\n",
        "  if(pFila->ini==NULL){\n",
        "    pFila->ini = novo;\n",
        "    pFila->fim = novo;\n",
        "  }else{\n",
        "    pFila->fim->prox = novo;\n",
        "    pFila->fim = novo;\n",
        "  }  \n",
        "}\n",
        "\n",
        "Arv *insereArv(Arv *raiz, int info) {\n",
        "  // Caso base\n",
        "  if (raiz == NULL) {\n",
        "    Arv *novo = (Arv *)malloc(sizeof(Arv));\n",
        "    novo->valor = info;\n",
        "    novo->esq = NULL;\n",
        "    novo->dir = NULL;\n",
        "    return novo;\n",
        "  } else {\n",
        "    if (raiz->valor > info) {\n",
        "      raiz->esq = insereArv(raiz->esq, info);\n",
        "    } else {\n",
        "      raiz->dir = insereArv(raiz->dir, info);\n",
        "    }\n",
        "    return raiz;\n",
        "  }\n",
        "}\n",
        "\n",
        "int altura(Arv *raiz)\n",
        "{\n",
        "  // Arvore nula\n",
        "  if (raiz == NULL)\n",
        "  {\n",
        "    return -1;\n",
        "  }\n",
        "\n",
        "  int dir = altura(raiz->dir);\n",
        "  int esq = altura(raiz->esq);\n",
        "\n",
        "  if (esq > dir)\n",
        "  {\n",
        "    return esq + 1;\n",
        "  }\n",
        "  else\n",
        "  {\n",
        "    return dir + 1;\n",
        "  }\n",
        "}\n",
        "\n",
        "# //Busca em Largura\n",
        "void BFS(Arv* raiz, FILE* f){\n",
        "    Arv* node = NULL;\n",
        "    Fila* F = (Fila*) malloc(sizeof(Fila));\n",
        "    F->ini = NULL;\n",
        "    F->fim = NULL; \n",
        "    fprintf(f,\"%d\\n\", altura(raiz));\n",
        "    insereFila(F, raiz);\n",
        "\n",
        "    while (F->ini != NULL) {\n",
        "        node = removeFila(F);\n",
        "        if(node != NULL){\n",
        "          printf(\"%d, \", node->valor);\n",
        "          fprintf(f, \"%d\\n\",node->valor);   \n",
        "           if (node->esq!=NULL){\n",
        "              insereFila(F, node->esq);\n",
        "           }else{\n",
        "               insereFila(F, NULL);\n",
        "           }\n",
        "           if (node->dir!=NULL){\n",
        "              insereFila(F, node->dir);      \n",
        "           }else{\n",
        "              insereFila(F, NULL);\n",
        "           }  \n",
        "        }else{\n",
        "          printf(\"%s, \", \"None\");\n",
        "          fprintf(f, \"%d\\n\",0); \n",
        "        }       \n",
        "    }      \n",
        "}\n",
        "\n",
        "\n",
        "int main() {\n",
        "  FILE *fptr;\n",
        "  fptr = fopen(\"bTree.txt\", \"w\");\n",
        "  \n",
        "  if (fptr != NULL) {\n",
        "    printf(\"Arquivo criado com sucesso!\\n\");\n",
        "  }\n",
        "  else {\n",
        "    printf(\"Failed to create the file.\\n\");\n",
        "    // exit status for OS that an error occurred\n",
        "    return -1;\n",
        "  }  \n",
        "    \n",
        "  Arv *raiz = NULL;\n",
        "  raiz = insereArv(raiz, 10);\n",
        "  raiz = insereArv(raiz, 8);\n",
        "  raiz = insereArv(raiz, 30);\n",
        "  raiz = insereArv(raiz, 35);\n",
        "  raiz = insereArv(raiz, 2);\n",
        "  raiz = insereArv(raiz, 9);\n",
        "  raiz = insereArv(raiz, 15);\n",
        "  raiz = insereArv(raiz, 33);\n",
        "  raiz = insereArv(raiz, 22);\n",
        "  BFS(raiz,fptr);\n",
        "  fclose(fptr);\n",
        "  return 0;\n",
        "}\n"
      ]
    },
    {
      "cell_type": "code",
      "execution_count": 3,
      "metadata": {
        "colab": {
          "base_uri": "https://localhost:8080/"
        },
        "id": "ijtEXQcY66SH",
        "outputId": "53ab4401-7523-4c19-b3c3-c3f58fd5d255"
      },
      "outputs": [
        {
          "name": "stdout",
          "output_type": "stream",
          "text": [
            "Arquivo criado com sucesso!\n",
            "10, 8, 30, 2, 9, 15, 35, None, None, None, None, None, 22, 33, None, None, None, None, None, \n"
          ]
        }
      ],
      "source": [
        "!gcc ABB.c -o abb\n",
        "!abb"
      ]
    },
    {
      "cell_type": "code",
      "execution_count": 4,
      "metadata": {
        "colab": {
          "base_uri": "https://localhost:8080/"
        },
        "id": "oPMyPgX566SH",
        "outputId": "04460b31-a4cf-4f11-92db-b717d7505412"
      },
      "outputs": [
        {
          "name": "stdout",
          "output_type": "stream",
          "text": [
            "3\n",
            "10\n",
            "8\n",
            "30\n",
            "2\n",
            "9\n",
            "15\n",
            "35\n",
            "0\n",
            "0\n",
            "0\n",
            "0\n",
            "0\n",
            "22\n",
            "33\n",
            "0\n",
            "0\n",
            "0\n",
            "0\n",
            "0\n"
          ]
        }
      ],
      "source": [
        "!type bTree.txt"
      ]
    },
    {
      "cell_type": "code",
      "execution_count": 5,
      "metadata": {
        "colab": {
          "base_uri": "https://localhost:8080/"
        },
        "id": "cTGGe93y66SI",
        "outputId": "b882b5ec-df55-4beb-a822-3a78fc30625e"
      },
      "outputs": [
        {
          "name": "stdout",
          "output_type": "stream",
          "text": [
            "[3, 10, 8, 30, 2, 9, 15, 35, None, None, None, None, None, 22, 33, None, None, None, None, None]\n"
          ]
        }
      ],
      "source": [
        "## Faz a leitura da arvore gerada em C\n",
        "# opening the file in read mode\n",
        "\n",
        "# reading the file\n",
        "lines = []\n",
        "with open(\"bTree.txt\", 'r') as f:\n",
        "     while True:\n",
        "        line = f.readline().strip()        \n",
        "        if not line:\n",
        "            break\n",
        "        \n",
        "        lines.append(int(line))\n",
        "\n",
        "# printing the data\n",
        "bTree = []\n",
        "for i in lines:\n",
        "  if i == 0:\n",
        "    bTree.append(None)\n",
        "  else:\n",
        "    bTree.append(i)  \n",
        "print(bTree)\n",
        "f.close()"
      ]
    },
    {
      "cell_type": "code",
      "execution_count": 6,
      "metadata": {
        "colab": {
          "base_uri": "https://localhost:8080/"
        },
        "id": "Tx6T3JIc66SI",
        "outputId": "f189fded-9f46-431e-d12e-bcc2a3f21de7"
      },
      "outputs": [
        {
          "name": "stdout",
          "output_type": "stream",
          "text": [
            "Àrvore Binária :\n",
            " \n",
            "        ___3__\n",
            "       /      \\\n",
            "     _10       8___\n",
            "    /   \\     /    \\\n",
            "  _30    2   9     _15\n",
            " /                /   \\\n",
            "35               22    33\n",
            "\n",
            "\n",
            "Lista : [3, 10, 8, 30, 2, 9, 15, 35, None, None, None, None, None, 22, 33]\n"
          ]
        }
      ],
      "source": [
        "# Gerando uma árvore binária\n",
        "# a partir de uma lista\n",
        "from binarytree import build\n",
        "\n",
        "# Lista de nós\n",
        "#nodes =[3, 6, 8, 2, 11, 13, 14, 17, 20, \n",
        "#        30, 50, 7, 9]\n",
        "\n",
        "# Gera o objeto árvore binária\n",
        "binary_tree = build(bTree)\n",
        "print('Àrvore Binária :\\n', binary_tree)\n",
        "\n",
        "# Imprime os valores dos nós\n",
        "print('\\nLista :', binary_tree.values)\n"
      ]
    },
    {
      "attachments": {},
      "cell_type": "markdown",
      "metadata": {
        "id": "q8eF18ds66SJ"
      },
      "source": [
        "#### Percurso"
      ]
    },
    {
      "cell_type": "code",
      "execution_count": 7,
      "metadata": {
        "colab": {
          "base_uri": "https://localhost:8080/"
        },
        "id": "aRDDbhSl66SJ",
        "outputId": "2fda1ecd-f353-4ade-94b0-710475c9dc34"
      },
      "outputs": [
        {
          "name": "stdout",
          "output_type": "stream",
          "text": [
            "[Node(35), Node(30), Node(10), Node(2), Node(3), Node(9), Node(8), Node(22), Node(15), Node(33)]\n",
            "[Node(3), Node(10), Node(30), Node(35), Node(2), Node(8), Node(9), Node(15), Node(22), Node(33)]\n",
            "[Node(35), Node(30), Node(2), Node(10), Node(9), Node(22), Node(33), Node(15), Node(8), Node(3)]\n"
          ]
        }
      ],
      "source": [
        "print(binary_tree.inorder)\n",
        "\n",
        "print(binary_tree.preorder)\n",
        "\n",
        "print(binary_tree.postorder) "
      ]
    },
    {
      "attachments": {},
      "cell_type": "markdown",
      "metadata": {
        "id": "9CIMl56o66SJ"
      },
      "source": [
        "#### Avaliando as propriedades das árvores"
      ]
    },
    {
      "cell_type": "code",
      "execution_count": 8,
      "metadata": {
        "colab": {
          "base_uri": "https://localhost:8080/"
        },
        "id": "WeCpDauv66SJ",
        "outputId": "51692ab3-b147-453e-a393-ee0163313f0c",
        "scrolled": true
      },
      "outputs": [
        {
          "name": "stdout",
          "output_type": "stream",
          "text": [
            "List of nodes : [Node(3), Node(10), Node(8), Node(30), Node(2), Node(9), Node(15), Node(35), Node(22), Node(33)]\n",
            "Tamanho : 10\n",
            "Altura : 3\n",
            "Qtde Folhas : 5\n",
            "Binária de Busca : False\n"
          ]
        }
      ],
      "source": [
        "# Imprime a lista de nós\n",
        "print('List of nodes :', list(binary_tree))\n",
        "  \n",
        "\n",
        "# Propriedades\n",
        "print('Tamanho :', binary_tree.size)\n",
        "print('Altura :', binary_tree.height)\n",
        "print('Qtde Folhas :', binary_tree.leaf_count)\n",
        "#print('Folhas :', root.leaves)\n",
        "print('Binária de Busca :', binary_tree.is_bst)"
      ]
    },
    {
      "attachments": {},
      "cell_type": "markdown",
      "metadata": {
        "id": "SP5UwcH566SK"
      },
      "source": [
        "#### Visualização com graphviz()"
      ]
    },
    {
      "cell_type": "code",
      "execution_count": 9,
      "metadata": {
        "colab": {
          "base_uri": "https://localhost:8080/",
          "height": 373
        },
        "id": "rnFxTAgQ66SK",
        "outputId": "3ad4995f-dfb0-4818-8687-273bd2b50173"
      },
      "outputs": [
        {
          "data": {
            "image/svg+xml": [
              "<?xml version=\"1.0\" encoding=\"UTF-8\" standalone=\"no\"?>\n",
              "<!DOCTYPE svg PUBLIC \"-//W3C//DTD SVG 1.1//EN\"\n",
              " \"http://www.w3.org/Graphics/SVG/1.1/DTD/svg11.dtd\">\n",
              "<!-- Generated by graphviz version 8.0.5 (20230430.1635)\n",
              " -->\n",
              "<!-- Pages: 1 -->\n",
              "<svg width=\"393pt\" height=\"264pt\"\n",
              " viewBox=\"0.00 0.00 393.00 264.00\" xmlns=\"http://www.w3.org/2000/svg\" xmlns:xlink=\"http://www.w3.org/1999/xlink\">\n",
              "<g id=\"graph0\" class=\"graph\" transform=\"scale(1 1) rotate(0) translate(4 260)\">\n",
              "<polygon fill=\"white\" stroke=\"none\" points=\"-4,4 -4,-260 389,-260 389,4 -4,4\"/>\n",
              "<!-- 2848782867984 -->\n",
              "<g id=\"node1\" class=\"node\">\n",
              "<title>2848782867984</title>\n",
              "<path fill=\"lightgray\" stroke=\"lightgray\" d=\"M162.38,-219.5C162.38,-219.5 200.62,-219.5 200.62,-219.5 206.62,-219.5 212.62,-225.5 212.62,-231.5 212.62,-231.5 212.62,-243.5 212.62,-243.5 212.62,-249.5 206.62,-255.5 200.62,-255.5 200.62,-255.5 162.38,-255.5 162.38,-255.5 156.38,-255.5 150.38,-249.5 150.38,-243.5 150.38,-243.5 150.38,-231.5 150.38,-231.5 150.38,-225.5 156.38,-219.5 162.38,-219.5\"/>\n",
              "<text text-anchor=\"middle\" x=\"160.25\" y=\"-232.07\" font-family=\"Times New Roman,serif\" font-size=\"14.00\"> </text>\n",
              "<polyline fill=\"none\" stroke=\"lightgray\" points=\"170.12,-219.5 170.12,-255.5\"/>\n",
              "<text text-anchor=\"middle\" x=\"181.5\" y=\"-232.07\" font-family=\"Times New Roman,serif\" font-size=\"14.00\">3</text>\n",
              "<polyline fill=\"none\" stroke=\"lightgray\" points=\"192.88,-219.5 192.88,-255.5\"/>\n",
              "<text text-anchor=\"middle\" x=\"202.75\" y=\"-232.07\" font-family=\"Times New Roman,serif\" font-size=\"14.00\"> </text>\n",
              "</g>\n",
              "<!-- 2848760379856 -->\n",
              "<g id=\"node2\" class=\"node\">\n",
              "<title>2848760379856</title>\n",
              "<path fill=\"lightgray\" stroke=\"lightgray\" d=\"M96,-146.5C96,-146.5 141,-146.5 141,-146.5 147,-146.5 153,-152.5 153,-158.5 153,-158.5 153,-170.5 153,-170.5 153,-176.5 147,-182.5 141,-182.5 141,-182.5 96,-182.5 96,-182.5 90,-182.5 84,-176.5 84,-170.5 84,-170.5 84,-158.5 84,-158.5 84,-152.5 90,-146.5 96,-146.5\"/>\n",
              "<text text-anchor=\"middle\" x=\"93.88\" y=\"-159.07\" font-family=\"Times New Roman,serif\" font-size=\"14.00\"> </text>\n",
              "<polyline fill=\"none\" stroke=\"lightgray\" points=\"103.75,-146.5 103.75,-182.5\"/>\n",
              "<text text-anchor=\"middle\" x=\"118.5\" y=\"-159.07\" font-family=\"Times New Roman,serif\" font-size=\"14.00\">10</text>\n",
              "<polyline fill=\"none\" stroke=\"lightgray\" points=\"133.25,-146.5 133.25,-182.5\"/>\n",
              "<text text-anchor=\"middle\" x=\"143.12\" y=\"-159.07\" font-family=\"Times New Roman,serif\" font-size=\"14.00\"> </text>\n",
              "</g>\n",
              "<!-- 2848782867984&#45;&gt;2848760379856 -->\n",
              "<g id=\"edge1\" class=\"edge\">\n",
              "<title>2848782867984:l&#45;&gt;2848760379856:v</title>\n",
              "<path fill=\"none\" stroke=\"black\" d=\"M160.5,-219C160.5,-198.83 132.24,-204.07 122.08,-193.03\"/>\n",
              "<polygon fill=\"black\" stroke=\"black\" points=\"125.16,-192.24 118.5,-184 118.56,-194.59 125.16,-192.24\"/>\n",
              "</g>\n",
              "<!-- 2848783023248 -->\n",
              "<g id=\"node3\" class=\"node\">\n",
              "<title>2848783023248</title>\n",
              "<path fill=\"lightgray\" stroke=\"lightgray\" d=\"M225.38,-146.5C225.38,-146.5 263.62,-146.5 263.62,-146.5 269.62,-146.5 275.62,-152.5 275.62,-158.5 275.62,-158.5 275.62,-170.5 275.62,-170.5 275.62,-176.5 269.62,-182.5 263.62,-182.5 263.62,-182.5 225.38,-182.5 225.38,-182.5 219.38,-182.5 213.38,-176.5 213.38,-170.5 213.38,-170.5 213.38,-158.5 213.38,-158.5 213.38,-152.5 219.38,-146.5 225.38,-146.5\"/>\n",
              "<text text-anchor=\"middle\" x=\"223.25\" y=\"-159.07\" font-family=\"Times New Roman,serif\" font-size=\"14.00\"> </text>\n",
              "<polyline fill=\"none\" stroke=\"lightgray\" points=\"233.12,-146.5 233.12,-182.5\"/>\n",
              "<text text-anchor=\"middle\" x=\"244.5\" y=\"-159.07\" font-family=\"Times New Roman,serif\" font-size=\"14.00\">8</text>\n",
              "<polyline fill=\"none\" stroke=\"lightgray\" points=\"255.88,-146.5 255.88,-182.5\"/>\n",
              "<text text-anchor=\"middle\" x=\"265.75\" y=\"-159.07\" font-family=\"Times New Roman,serif\" font-size=\"14.00\"> </text>\n",
              "</g>\n",
              "<!-- 2848782867984&#45;&gt;2848783023248 -->\n",
              "<g id=\"edge2\" class=\"edge\">\n",
              "<title>2848782867984:r&#45;&gt;2848783023248:v</title>\n",
              "<path fill=\"none\" stroke=\"black\" d=\"M202.5,-219C202.5,-198.83 230.76,-204.07 240.92,-193.03\"/>\n",
              "<polygon fill=\"black\" stroke=\"black\" points=\"244.44,-194.59 244.5,-184 237.84,-192.24 244.44,-194.59\"/>\n",
              "</g>\n",
              "<!-- 2848783023440 -->\n",
              "<g id=\"node4\" class=\"node\">\n",
              "<title>2848783023440</title>\n",
              "<path fill=\"lightgray\" stroke=\"lightgray\" d=\"M37,-73.5C37,-73.5 82,-73.5 82,-73.5 88,-73.5 94,-79.5 94,-85.5 94,-85.5 94,-97.5 94,-97.5 94,-103.5 88,-109.5 82,-109.5 82,-109.5 37,-109.5 37,-109.5 31,-109.5 25,-103.5 25,-97.5 25,-97.5 25,-85.5 25,-85.5 25,-79.5 31,-73.5 37,-73.5\"/>\n",
              "<text text-anchor=\"middle\" x=\"34.88\" y=\"-86.08\" font-family=\"Times New Roman,serif\" font-size=\"14.00\"> </text>\n",
              "<polyline fill=\"none\" stroke=\"lightgray\" points=\"44.75,-73.5 44.75,-109.5\"/>\n",
              "<text text-anchor=\"middle\" x=\"59.5\" y=\"-86.08\" font-family=\"Times New Roman,serif\" font-size=\"14.00\">30</text>\n",
              "<polyline fill=\"none\" stroke=\"lightgray\" points=\"74.25,-73.5 74.25,-109.5\"/>\n",
              "<text text-anchor=\"middle\" x=\"84.12\" y=\"-86.08\" font-family=\"Times New Roman,serif\" font-size=\"14.00\"> </text>\n",
              "</g>\n",
              "<!-- 2848760379856&#45;&gt;2848783023440 -->\n",
              "<g id=\"edge3\" class=\"edge\">\n",
              "<title>2848760379856:l&#45;&gt;2848783023440:v</title>\n",
              "<path fill=\"none\" stroke=\"black\" d=\"M93.5,-146C93.5,-128.46 71.91,-129.99 63.14,-120.2\"/>\n",
              "<polygon fill=\"black\" stroke=\"black\" points=\"66.16,-119.24 59.5,-111 59.56,-121.59 66.16,-119.24\"/>\n",
              "</g>\n",
              "<!-- 2848783032976 -->\n",
              "<g id=\"node5\" class=\"node\">\n",
              "<title>2848783032976</title>\n",
              "<path fill=\"lightgray\" stroke=\"lightgray\" d=\"M124.38,-73.5C124.38,-73.5 162.62,-73.5 162.62,-73.5 168.62,-73.5 174.62,-79.5 174.62,-85.5 174.62,-85.5 174.62,-97.5 174.62,-97.5 174.62,-103.5 168.62,-109.5 162.62,-109.5 162.62,-109.5 124.38,-109.5 124.38,-109.5 118.38,-109.5 112.38,-103.5 112.38,-97.5 112.38,-97.5 112.38,-85.5 112.38,-85.5 112.38,-79.5 118.38,-73.5 124.38,-73.5\"/>\n",
              "<text text-anchor=\"middle\" x=\"122.25\" y=\"-86.08\" font-family=\"Times New Roman,serif\" font-size=\"14.00\"> </text>\n",
              "<polyline fill=\"none\" stroke=\"lightgray\" points=\"132.12,-73.5 132.12,-109.5\"/>\n",
              "<text text-anchor=\"middle\" x=\"143.5\" y=\"-86.08\" font-family=\"Times New Roman,serif\" font-size=\"14.00\">2</text>\n",
              "<polyline fill=\"none\" stroke=\"lightgray\" points=\"154.88,-73.5 154.88,-109.5\"/>\n",
              "<text text-anchor=\"middle\" x=\"164.75\" y=\"-86.08\" font-family=\"Times New Roman,serif\" font-size=\"14.00\"> </text>\n",
              "</g>\n",
              "<!-- 2848760379856&#45;&gt;2848783032976 -->\n",
              "<g id=\"edge4\" class=\"edge\">\n",
              "<title>2848760379856:r&#45;&gt;2848783032976:v</title>\n",
              "<path fill=\"none\" stroke=\"black\" d=\"M143.5,-146C143.5,-134.38 143.5,-129.08 143.5,-120.92\"/>\n",
              "<polygon fill=\"black\" stroke=\"black\" points=\"147,-121 143.5,-111 140,-121 147,-121\"/>\n",
              "</g>\n",
              "<!-- 2848783025296 -->\n",
              "<g id=\"node6\" class=\"node\">\n",
              "<title>2848783025296</title>\n",
              "<path fill=\"lightgray\" stroke=\"lightgray\" d=\"M204.38,-73.5C204.38,-73.5 242.62,-73.5 242.62,-73.5 248.62,-73.5 254.62,-79.5 254.62,-85.5 254.62,-85.5 254.62,-97.5 254.62,-97.5 254.62,-103.5 248.62,-109.5 242.62,-109.5 242.62,-109.5 204.38,-109.5 204.38,-109.5 198.38,-109.5 192.38,-103.5 192.38,-97.5 192.38,-97.5 192.38,-85.5 192.38,-85.5 192.38,-79.5 198.38,-73.5 204.38,-73.5\"/>\n",
              "<text text-anchor=\"middle\" x=\"202.25\" y=\"-86.08\" font-family=\"Times New Roman,serif\" font-size=\"14.00\"> </text>\n",
              "<polyline fill=\"none\" stroke=\"lightgray\" points=\"212.12,-73.5 212.12,-109.5\"/>\n",
              "<text text-anchor=\"middle\" x=\"223.5\" y=\"-86.08\" font-family=\"Times New Roman,serif\" font-size=\"14.00\">9</text>\n",
              "<polyline fill=\"none\" stroke=\"lightgray\" points=\"234.88,-73.5 234.88,-109.5\"/>\n",
              "<text text-anchor=\"middle\" x=\"244.75\" y=\"-86.08\" font-family=\"Times New Roman,serif\" font-size=\"14.00\"> </text>\n",
              "</g>\n",
              "<!-- 2848783023248&#45;&gt;2848783025296 -->\n",
              "<g id=\"edge5\" class=\"edge\">\n",
              "<title>2848783023248:l&#45;&gt;2848783025296:v</title>\n",
              "<path fill=\"none\" stroke=\"black\" d=\"M223.5,-146C223.5,-134.38 223.5,-129.08 223.5,-120.92\"/>\n",
              "<polygon fill=\"black\" stroke=\"black\" points=\"227,-121 223.5,-111 220,-121 227,-121\"/>\n",
              "</g>\n",
              "<!-- 2848782812432 -->\n",
              "<g id=\"node7\" class=\"node\">\n",
              "<title>2848782812432</title>\n",
              "<path fill=\"lightgray\" stroke=\"lightgray\" d=\"M285,-73.5C285,-73.5 330,-73.5 330,-73.5 336,-73.5 342,-79.5 342,-85.5 342,-85.5 342,-97.5 342,-97.5 342,-103.5 336,-109.5 330,-109.5 330,-109.5 285,-109.5 285,-109.5 279,-109.5 273,-103.5 273,-97.5 273,-97.5 273,-85.5 273,-85.5 273,-79.5 279,-73.5 285,-73.5\"/>\n",
              "<text text-anchor=\"middle\" x=\"282.88\" y=\"-86.08\" font-family=\"Times New Roman,serif\" font-size=\"14.00\"> </text>\n",
              "<polyline fill=\"none\" stroke=\"lightgray\" points=\"292.75,-73.5 292.75,-109.5\"/>\n",
              "<text text-anchor=\"middle\" x=\"307.5\" y=\"-86.08\" font-family=\"Times New Roman,serif\" font-size=\"14.00\">15</text>\n",
              "<polyline fill=\"none\" stroke=\"lightgray\" points=\"322.25,-73.5 322.25,-109.5\"/>\n",
              "<text text-anchor=\"middle\" x=\"332.12\" y=\"-86.08\" font-family=\"Times New Roman,serif\" font-size=\"14.00\"> </text>\n",
              "</g>\n",
              "<!-- 2848783023248&#45;&gt;2848782812432 -->\n",
              "<g id=\"edge6\" class=\"edge\">\n",
              "<title>2848783023248:r&#45;&gt;2848782812432:v</title>\n",
              "<path fill=\"none\" stroke=\"black\" d=\"M265.5,-146C265.5,-125.83 293.76,-131.07 303.92,-120.03\"/>\n",
              "<polygon fill=\"black\" stroke=\"black\" points=\"307.44,-121.59 307.5,-111 300.84,-119.24 307.44,-121.59\"/>\n",
              "</g>\n",
              "<!-- 2848782997392 -->\n",
              "<g id=\"node8\" class=\"node\">\n",
              "<title>2848782997392</title>\n",
              "<path fill=\"lightgray\" stroke=\"lightgray\" d=\"M12,-0.5C12,-0.5 57,-0.5 57,-0.5 63,-0.5 69,-6.5 69,-12.5 69,-12.5 69,-24.5 69,-24.5 69,-30.5 63,-36.5 57,-36.5 57,-36.5 12,-36.5 12,-36.5 6,-36.5 0,-30.5 0,-24.5 0,-24.5 0,-12.5 0,-12.5 0,-6.5 6,-0.5 12,-0.5\"/>\n",
              "<text text-anchor=\"middle\" x=\"9.88\" y=\"-13.07\" font-family=\"Times New Roman,serif\" font-size=\"14.00\"> </text>\n",
              "<polyline fill=\"none\" stroke=\"lightgray\" points=\"19.75,-0.5 19.75,-36.5\"/>\n",
              "<text text-anchor=\"middle\" x=\"34.5\" y=\"-13.07\" font-family=\"Times New Roman,serif\" font-size=\"14.00\">35</text>\n",
              "<polyline fill=\"none\" stroke=\"lightgray\" points=\"49.25,-0.5 49.25,-36.5\"/>\n",
              "<text text-anchor=\"middle\" x=\"59.12\" y=\"-13.07\" font-family=\"Times New Roman,serif\" font-size=\"14.00\"> </text>\n",
              "</g>\n",
              "<!-- 2848783023440&#45;&gt;2848782997392 -->\n",
              "<g id=\"edge7\" class=\"edge\">\n",
              "<title>2848783023440:l&#45;&gt;2848782997392:v</title>\n",
              "<path fill=\"none\" stroke=\"black\" d=\"M34.5,-73C34.5,-61.38 34.5,-56.08 34.5,-47.92\"/>\n",
              "<polygon fill=\"black\" stroke=\"black\" points=\"38,-48 34.5,-38 31,-48 38,-48\"/>\n",
              "</g>\n",
              "<!-- 2848783024656 -->\n",
              "<g id=\"node9\" class=\"node\">\n",
              "<title>2848783024656</title>\n",
              "<path fill=\"lightgray\" stroke=\"lightgray\" d=\"M241,-0.5C241,-0.5 286,-0.5 286,-0.5 292,-0.5 298,-6.5 298,-12.5 298,-12.5 298,-24.5 298,-24.5 298,-30.5 292,-36.5 286,-36.5 286,-36.5 241,-36.5 241,-36.5 235,-36.5 229,-30.5 229,-24.5 229,-24.5 229,-12.5 229,-12.5 229,-6.5 235,-0.5 241,-0.5\"/>\n",
              "<text text-anchor=\"middle\" x=\"238.88\" y=\"-13.07\" font-family=\"Times New Roman,serif\" font-size=\"14.00\"> </text>\n",
              "<polyline fill=\"none\" stroke=\"lightgray\" points=\"248.75,-0.5 248.75,-36.5\"/>\n",
              "<text text-anchor=\"middle\" x=\"263.5\" y=\"-13.07\" font-family=\"Times New Roman,serif\" font-size=\"14.00\">22</text>\n",
              "<polyline fill=\"none\" stroke=\"lightgray\" points=\"278.25,-0.5 278.25,-36.5\"/>\n",
              "<text text-anchor=\"middle\" x=\"288.12\" y=\"-13.07\" font-family=\"Times New Roman,serif\" font-size=\"14.00\"> </text>\n",
              "</g>\n",
              "<!-- 2848782812432&#45;&gt;2848783024656 -->\n",
              "<g id=\"edge8\" class=\"edge\">\n",
              "<title>2848782812432:l&#45;&gt;2848783024656:v</title>\n",
              "<path fill=\"none\" stroke=\"black\" d=\"M282.5,-73C282.5,-59.29 271.59,-56.07 266.3,-47.45\"/>\n",
              "<polygon fill=\"black\" stroke=\"black\" points=\"269.47,-46.75 263.5,-38 262.71,-48.57 269.47,-46.75\"/>\n",
              "</g>\n",
              "<!-- 2848782998288 -->\n",
              "<g id=\"node10\" class=\"node\">\n",
              "<title>2848782998288</title>\n",
              "<path fill=\"lightgray\" stroke=\"lightgray\" d=\"M328,-0.5C328,-0.5 373,-0.5 373,-0.5 379,-0.5 385,-6.5 385,-12.5 385,-12.5 385,-24.5 385,-24.5 385,-30.5 379,-36.5 373,-36.5 373,-36.5 328,-36.5 328,-36.5 322,-36.5 316,-30.5 316,-24.5 316,-24.5 316,-12.5 316,-12.5 316,-6.5 322,-0.5 328,-0.5\"/>\n",
              "<text text-anchor=\"middle\" x=\"325.88\" y=\"-13.07\" font-family=\"Times New Roman,serif\" font-size=\"14.00\"> </text>\n",
              "<polyline fill=\"none\" stroke=\"lightgray\" points=\"335.75,-0.5 335.75,-36.5\"/>\n",
              "<text text-anchor=\"middle\" x=\"350.5\" y=\"-13.07\" font-family=\"Times New Roman,serif\" font-size=\"14.00\">33</text>\n",
              "<polyline fill=\"none\" stroke=\"lightgray\" points=\"365.25,-0.5 365.25,-36.5\"/>\n",
              "<text text-anchor=\"middle\" x=\"375.12\" y=\"-13.07\" font-family=\"Times New Roman,serif\" font-size=\"14.00\"> </text>\n",
              "</g>\n",
              "<!-- 2848782812432&#45;&gt;2848782998288 -->\n",
              "<g id=\"edge9\" class=\"edge\">\n",
              "<title>2848782812432:r&#45;&gt;2848782998288:v</title>\n",
              "<path fill=\"none\" stroke=\"black\" d=\"M332.5,-73C332.5,-59.44 342.84,-56.03 347.84,-47.39\"/>\n",
              "<polygon fill=\"black\" stroke=\"black\" points=\"351.41,-48.56 350.5,-38 344.63,-46.82 351.41,-48.56\"/>\n",
              "</g>\n",
              "</g>\n",
              "</svg>\n"
            ],
            "text/plain": [
              "<graphviz.graphs.Digraph at 0x29748b2b5d0>"
            ]
          },
          "execution_count": 9,
          "metadata": {},
          "output_type": "execute_result"
        }
      ],
      "source": [
        "binary_tree.graphviz()"
      ]
    },
    {
      "attachments": {},
      "cell_type": "markdown",
      "metadata": {},
      "source": [
        "# Atividade valendo nota:\n",
        "\n",
        "* Construir a função que calcula altura no arquivo ABB.c\n",
        "* Incluir na primeira linha do arquivo bTree.txt o valor da altura\n",
        "* Construir a ABB e python com o metodo build\n",
        "* Avaliar com o metodo height (binarytree library) se a altura é igual"
      ]
    },
    {
      "cell_type": "code",
      "execution_count": null,
      "metadata": {},
      "outputs": [],
      "source": [
        "!pip install binarytree"
      ]
    },
    {
      "cell_type": "code",
      "execution_count": 23,
      "metadata": {},
      "outputs": [
        {
          "name": "stdout",
          "output_type": "stream",
          "text": [
            "Overwriting ABB.c\n"
          ]
        }
      ],
      "source": [
        "%%file ABB.c\n",
        "\n",
        "#include <stdio.h>\n",
        "#include <stdlib.h>\n",
        "#include <string.h>\n",
        "\n",
        "typedef struct arv {\n",
        "  int valor;\n",
        "  struct arv *esq;\n",
        "  struct arv *dir;\n",
        "} Arv;\n",
        "\n",
        "typedef struct lista {\n",
        "  Arv* node;\n",
        "  struct lista *prox;\n",
        "} Lista;\n",
        "\n",
        "typedef struct fila {\n",
        "  Lista* ini;\n",
        "  Lista* fim;\n",
        "} Fila;\n",
        "\n",
        "Arv* removeFila(Fila* pFila){\n",
        "  if(pFila == NULL)\n",
        "    return NULL;\n",
        "  \n",
        "  Lista* aux = pFila->ini;\n",
        "  Arv* node;\n",
        "  if(aux!=NULL){\n",
        "    pFila->ini = pFila->ini->prox;\n",
        "    node = aux->node;\n",
        "    free(aux);    \n",
        "  }\n",
        "  //Veirifa se ficou vazio\n",
        "  if(pFila->ini == NULL)\n",
        "    pFila->fim = NULL;\n",
        "  return node;\n",
        "}\n",
        "\n",
        "void insereFila(Fila* pFila, Arv* info){\n",
        "  Lista* novo = (Lista*) malloc(sizeof(Lista));\n",
        "  novo->node = info;\n",
        "  novo->prox = NULL;\n",
        "  if(pFila->ini==NULL){\n",
        "    pFila->ini = novo;\n",
        "    pFila->fim = novo;\n",
        "  }else{\n",
        "    pFila->fim->prox = novo;\n",
        "    pFila->fim = novo;\n",
        "  }  \n",
        "}\n",
        "\n",
        "Arv *insereArv(Arv *raiz, int info) {\n",
        "  // Caso base\n",
        "  if (raiz == NULL) {\n",
        "    Arv *novo = (Arv *)malloc(sizeof(Arv));\n",
        "    novo->valor = info;\n",
        "    novo->esq = NULL;\n",
        "    novo->dir = NULL;\n",
        "    return novo;\n",
        "  } else {\n",
        "    if (raiz->valor > info) {\n",
        "      raiz->esq = insereArv(raiz->esq, info);\n",
        "    } else {\n",
        "      raiz->dir = insereArv(raiz->dir, info);\n",
        "    }\n",
        "    return raiz;\n",
        "  }\n",
        "}\n",
        "\n",
        "int altura(Arv* raiz){\n",
        "    int esq = 0;\n",
        "    int dir = 0;\n",
        "\n",
        "    //Caso árvore vazia\n",
        "    if(raiz == NULL){\n",
        "        return -1;\n",
        "    } else {\n",
        "        //Análise de cada lado da árvore\n",
        "        esq += altura(raiz->esq);\n",
        "        dir += altura(raiz->dir);\n",
        "        if(esq >= dir){\n",
        "            return ++esq;\n",
        "        } else {\n",
        "            return ++dir;\n",
        "        }\n",
        "    }\n",
        "}\n",
        "\n",
        "void BFS(Arv* raiz, FILE* f){\n",
        "    Arv* node = NULL;\n",
        "    Fila* F = (Fila*) malloc(sizeof(Fila));\n",
        "    F->ini = NULL;\n",
        "    F->fim = NULL; \n",
        "    fprintf(f, \"%d\\n\", altura(raiz));\n",
        "    insereFila(F, raiz);\n",
        "\n",
        "    while (F->ini != NULL) {\n",
        "        node = removeFila(F);\n",
        "        if(node != NULL){\n",
        "          printf(\"%d, \", node->valor);\n",
        "          fprintf(f, \"%d\\n\",node->valor);   \n",
        "           if (node->esq!=NULL){\n",
        "              insereFila(F, node->esq);\n",
        "           }else{\n",
        "               insereFila(F, NULL);\n",
        "           }\n",
        "           if (node->dir!=NULL){\n",
        "              insereFila(F, node->dir);      \n",
        "           }else{\n",
        "              insereFila(F, NULL);\n",
        "           }  \n",
        "        }else{\n",
        "          printf(\"%s, \", \"None\");\n",
        "          fprintf(f, \"%d\\n\",0); \n",
        "        }       \n",
        "    }      \n",
        "}\n",
        "\n",
        "int main() {\n",
        "  FILE *fptr;\n",
        "  fptr = fopen(\"bTree.txt\", \"w\");\n",
        "  \n",
        "  if (fptr != NULL) {\n",
        "    printf(\"Arquivo criado com sucesso!\\n\");\n",
        "  }\n",
        "  else {\n",
        "    printf(\"Failed to create the file.\\n\");\n",
        "    // exit status for OS that an error occurred\n",
        "    return -1;\n",
        "  }  \n",
        "    \n",
        "  Arv *raiz = NULL;\n",
        "  raiz = insereArv(raiz, 10);\n",
        "  raiz = insereArv(raiz, 8);\n",
        "  raiz = insereArv(raiz, 30);\n",
        "  raiz = insereArv(raiz, 35);\n",
        "  raiz = insereArv(raiz, 2);\n",
        "  raiz = insereArv(raiz, 9);\n",
        "  raiz = insereArv(raiz, 15);\n",
        "  raiz = insereArv(raiz, 33);\n",
        "  raiz = insereArv(raiz, 22);\n",
        "  BFS(raiz,fptr);\n",
        "  fclose(fptr);\n",
        "  return 0;\n",
        "}\n",
        "\n",
        "int quantidade_folhas(NoArv *raiz){\n",
        "    if(raiz == NULL)\n",
        "        return 0;\n",
        "    else if(raiz->esquerda == NULL && raiz->direita == NULL)\n",
        "        return 1;\n",
        "    else\n",
        "        return quantidade_folhas(raiz->esquerda) + quantidade_folhas(raiz->direita);\n",
        "}"
      ]
    },
    {
      "cell_type": "code",
      "execution_count": 24,
      "metadata": {},
      "outputs": [
        {
          "name": "stdout",
          "output_type": "stream",
          "text": [
            "Arquivo criado com sucesso!\n",
            "10, 8, 30, 2, 9, 15, 35, None, None, None, None, None, 22, 33, None, None, None, None, None, \n"
          ]
        }
      ],
      "source": [
        "!gcc ABB.c -o abb\n",
        "!abb"
      ]
    },
    {
      "cell_type": "code",
      "execution_count": 25,
      "metadata": {},
      "outputs": [
        {
          "name": "stdout",
          "output_type": "stream",
          "text": [
            "3\n",
            "10\n",
            "8\n",
            "30\n",
            "2\n",
            "9\n",
            "15\n",
            "35\n",
            "0\n",
            "0\n",
            "0\n",
            "0\n",
            "0\n",
            "22\n",
            "33\n",
            "0\n",
            "0\n",
            "0\n",
            "0\n",
            "0\n"
          ]
        }
      ],
      "source": [
        "!type bTree.txt"
      ]
    },
    {
      "cell_type": "code",
      "execution_count": 26,
      "metadata": {},
      "outputs": [
        {
          "name": "stdout",
          "output_type": "stream",
          "text": [
            "[10, 8, 30, 2, 9, 15, 35, None, None, None, None, None, 22, 33, None, None, None, None, None]\n"
          ]
        }
      ],
      "source": [
        "## Faz a leitura da arvore gerada em C\n",
        "# opening the file in read mode\n",
        "\n",
        "# reading the file\n",
        "lines = []\n",
        "with open(\"bTree.txt\", 'r') as f:\n",
        "     while True:\n",
        "        line = f.readline().strip()        \n",
        "        if not line:\n",
        "            break\n",
        "        \n",
        "        lines.append(int(line))\n",
        "\n",
        "# printing the data\n",
        "altura = lines[0]\n",
        "del lines[0]\n",
        "bTree = []\n",
        "for i in lines:\n",
        "  if i == 0:\n",
        "    bTree.append(None)\n",
        "  else:\n",
        "    bTree.append(i)  \n",
        "print(bTree)\n",
        "f.close()"
      ]
    },
    {
      "cell_type": "code",
      "execution_count": 27,
      "metadata": {},
      "outputs": [
        {
          "name": "stdout",
          "output_type": "stream",
          "text": [
            "Àrvore Binária :\n",
            " \n",
            "    __10______\n",
            "   /          \\\n",
            "  8        ____30___\n",
            " / \\      /         \\\n",
            "2   9    15         _35\n",
            "           \\       /\n",
            "            22    33\n",
            "\n",
            "\n",
            "Lista : [10, 8, 30, 2, 9, 15, 35, None, None, None, None, None, 22, 33]\n"
          ]
        }
      ],
      "source": [
        "# Gerando uma árvore binária\n",
        "# a partir de uma lista\n",
        "from binarytree import build\n",
        "\n",
        "# Lista de nós\n",
        "#nodes =[3, 6, 8, 2, 11, 13, 14, 17, 20, \n",
        "#        30, 50, 7, 9]\n",
        "\n",
        "# Gera o objeto árvore binária\n",
        "binary_tree = build(bTree)\n",
        "print('Àrvore Binária :\\n', binary_tree)\n",
        "\n",
        "# Imprime os valores dos nós\n",
        "print('\\nLista :', binary_tree.values)\n"
      ]
    },
    {
      "cell_type": "code",
      "execution_count": 28,
      "metadata": {},
      "outputs": [
        {
          "name": "stdout",
          "output_type": "stream",
          "text": [
            "List of nodes : [Node(10), Node(8), Node(30), Node(2), Node(9), Node(15), Node(35), Node(22), Node(33)]\n",
            "Tamanho : 9\n",
            "Altura da função em c: 3\n",
            "Altura : 3\n",
            "Resultados iguais - Função válida\n",
            "Qtde Folhas : 4\n",
            "Binária de Busca : True\n"
          ]
        }
      ],
      "source": [
        "# Imprime a lista de nós\n",
        "print('List of nodes :', list(binary_tree))\n",
        "  \n",
        "\n",
        "# Propriedades\n",
        "print('Tamanho :', binary_tree.size)\n",
        "print('Altura da função em c:', altura)\n",
        "print('Altura :', binary_tree.height)\n",
        "\n",
        "if altura == binary_tree.height:\n",
        "    print('Resultados iguais - Função válida')\n",
        "else:\n",
        "    print('Função em c tá quebrada')\n",
        "\n",
        "print('Qtde Folhas :', binary_tree.leaf_count)\n",
        "print('Binária de Busca :', binary_tree.is_bst)"
      ]
    }
  ],
  "metadata": {
    "colab": {
      "collapsed_sections": [
        "WljSCEnx3KxU",
        "OW08RX1l0IKM"
      ],
      "provenance": []
    },
    "kernelspec": {
      "display_name": "Python 3 (ipykernel)",
      "language": "python",
      "name": "python3"
    },
    "language_info": {
      "codemirror_mode": {
        "name": "ipython",
        "version": 3
      },
      "file_extension": ".py",
      "mimetype": "text/x-python",
      "name": "python",
      "nbconvert_exporter": "python",
      "pygments_lexer": "ipython3",
      "version": "3.11.2"
    }
  },
  "nbformat": 4,
  "nbformat_minor": 0
}
