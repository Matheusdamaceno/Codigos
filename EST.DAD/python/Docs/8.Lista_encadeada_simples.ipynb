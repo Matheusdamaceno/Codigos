{
  "cells": [
    {
      "cell_type": "markdown",
      "metadata": {
        "id": "-FVr0W4SMhwg"
      },
      "source": [
        "# Listas encadeadas em Python"
      ]
    },
    {
      "cell_type": "markdown",
      "metadata": {
        "id": "_4atHRvXxqCA"
      },
      "source": [
        "- Biblioteca struclinks"
      ]
    },
    {
      "cell_type": "code",
      "execution_count": null,
      "metadata": {
        "colab": {
          "base_uri": "https://localhost:8080/"
        },
        "id": "lOBHZi48xNfy",
        "outputId": "7d4fb459-d9b7-4293-bfbd-1ecca11f1549"
      },
      "outputs": [],
      "source": [
        "%pip install structlinks"
      ]
    },
    {
      "cell_type": "markdown",
      "metadata": {
        "id": "Xj3zVv0Wx0OJ"
      },
      "source": [
        "- https://github.com/eeshannarula29/structlinks/tree/main/DataStructures/LinkedList\n",
        "- https://eeshannarula29.github.io/structlinks/linked_lists"
      ]
    },
    {
      "cell_type": "code",
      "execution_count": null,
      "metadata": {
        "colab": {
          "base_uri": "https://localhost:8080/"
        },
        "id": "KKZ1C2QKxMCU",
        "outputId": "bcd82546-abf1-40b0-dc98-4dceff9806ca"
      },
      "outputs": [],
      "source": [
        "from structlinks.DataStructures import LinkedList\n",
        "\n",
        "lst = LinkedList([1, 10, 3, 5])\n",
        "\n",
        "# print the list\n",
        "print(lst)  # this will print : [1 -> 10 -> 3 -> 5]\n",
        "\n",
        "# Length of the list\n",
        "length = len(lst)  # length = 4\n",
        "\n",
        "# Append items\n",
        "lst.append(2)  # After the call, lst = [1 -> 10 -> 3 -> 5 -> 2]\n",
        "\n",
        "# Insert items\n",
        "lst.insert(0, 200)  # After the call, lst = [200 -> 1 -> 10 -> 3 -> 5 -> 2]\n",
        "\n",
        "# Get & Set item by index\n",
        "item = lst[1]  # here item = 10\n",
        "lst[2] = 100  # set element at index 2 to be 100, so lst = [200 -> 1 -> 100 -> 3 -> 5 -> 2]\n",
        "\n",
        "# Slicing the list\n",
        "part = lst[2:]  # here part = [100 -> 3 -> 5 -> 2]\n",
        "\n",
        "# Removing element\n",
        "# 1) by index\n",
        "popped = lst.pop(0)  # here popped = 200, and lst = [1 -> 100 -> 3 -> 5 -> 2]\n",
        "print(popped)\n",
        "# 2) by item value\n",
        "lst.remove(1) # now list lst = [100 -> 3 -> 5 -> 2]\n",
        "\n",
        "# Checking for Element\n",
        "cond1 = 2 in lst  # here cond1 is True as 2 is in lst\n",
        "cond2 = 1 in lst  # here cond2 is False as 1 is not in lst\n",
        "\n",
        "# Adding to Linked Lists\n",
        "lst1 = LinkedList([1, 10, 3, 5])\n",
        "lst2 = LinkedList([2, 100, 4, 0])\n",
        "lst3 = lst1 + lst2  # lst3 = [1 -> 10 -> 3 -> 5 -> 2 -> 100 -> 4 -> 0]\n",
        "\n",
        "# Count of an item\n",
        "count = lst.count(2)  # count = 1 as 2 appears only once\n",
        "\n",
        "# Index of an item (return -1 if element not in lst)\n",
        "index = lst.index(100)  # index = 0 as 100 is at index 0\n",
        "\n",
        "# Equating to lists\n",
        "cond3 = lst1 == lst2  # cond3 = False as lst1 and lst2 have different elements\n",
        "\n",
        "# Sort the list\n",
        "lst.sort()  # lst will be mutated to [2 -> 3 -> 5 -> 100]\n",
        "\n",
        "# Copy the list\n",
        "lst4 = lst.copy()  # lst4 is a copy of lst"
      ]
    },
    {
      "cell_type": "markdown",
      "metadata": {
        "id": "rCS4LmqrxMCW"
      },
      "source": [
        "### Utilizando Collections Deque\n",
        "\n",
        "- https://docs.python.org/3/library/collections.html#collections.deque"
      ]
    },
    {
      "cell_type": "code",
      "execution_count": null,
      "metadata": {
        "colab": {
          "base_uri": "https://localhost:8080/"
        },
        "id": "5y8AzSInxMCX",
        "outputId": "d0a84e12-7bb4-4939-ee7b-f32c27cf7c4e"
      },
      "outputs": [],
      "source": [
        "# importing module\n",
        "import collections\n",
        "  \n",
        "# Cria um objeto lista\n",
        "L = collections.deque()\n",
        "  \n",
        "# Insere os elementos no final\n",
        "L.append(10)\n",
        "L.append(20)\n",
        "L.append(30)\n",
        "print(L)\n",
        "  \n",
        "# Insere no início\n",
        "L.insert(0, 40)\n",
        "L.insert(0, 50)\n",
        "print(L)\n",
        "\n",
        "# Insere em qualquer posição\n",
        "L.insert(2, 75)\n",
        "print(L)\n",
        "\n",
        "# Remove valor específico\n",
        "L.remove(30)\n",
        "print(L)\n",
        "\n",
        "# Inverte a lista\n",
        "L.reverse()\n",
        "print(L)\n",
        "\n",
        "L=type(list)\n",
        "print(type(L))\n",
        "print(L)\n",
        "# Limpa a lista\n",
        "L.clear()\n",
        "print(L)"
      ]
    },
    {
      "cell_type": "markdown",
      "metadata": {
        "id": "OMD7Yn_VzQIe"
      },
      "source": [
        "### **Utilizando uma classe**\n",
        "- Abordagem similar ao uso de struct em C"
      ]
    },
    {
      "cell_type": "code",
      "execution_count": null,
      "metadata": {
        "id": "5eqV3i-f26Ao"
      },
      "outputs": [],
      "source": [
        "class Lista:\n",
        "    def __init__(self, info):\n",
        "        self.valor = info\n",
        "        self.prox = None "
      ]
    },
    {
      "cell_type": "code",
      "execution_count": null,
      "metadata": {
        "id": "MaNwJSjA27xY"
      },
      "outputs": [],
      "source": [
        "def insereIni(pRef, info):\n",
        "  novo = Lista(info)\n",
        "  novo.prox = pRef\n",
        "  return novo\n"
      ]
    },
    {
      "cell_type": "code",
      "execution_count": null,
      "metadata": {
        "colab": {
          "base_uri": "https://localhost:8080/"
        },
        "id": "dipztgvZzW9W",
        "outputId": "0a3227e9-7cdf-4a73-c35b-c265097bf328"
      },
      "outputs": [],
      "source": [
        "L = None\n",
        "L = Lista(10)\n",
        "L.prox = Lista(20)\n",
        "L = insereIni(L,30)\n",
        "\n",
        "aux = L\n",
        "while(aux != None):\n",
        "  print(aux.valor)\n",
        "  aux = aux.prox\n",
        " \n"
      ]
    },
    {
      "cell_type": "markdown",
      "metadata": {
        "id": "EVeT6j9uEkpT"
      },
      "source": [
        "### Exercícios Listas Encadeadas\n",
        "\n",
        "1. Escreva um código para ordenar uma lista encadeada.\n",
        "2. Escreva um código para remover todos os elementos ímpares de uma lista encadeada.\n",
        "3. Escreva um código para encontrar o valor máximo em uma lista encadeada.\n",
        "4. Escreva um código para encontrar o valor mínimo em uma lista encadeada.\n",
        "5. Escreva um código para encontrar a média dos valores em uma lista encadeada.\n",
        "6. Escreva um código para verificar se duas listas encadeadas são iguais.\n",
        "7. Escreva um código para concatenar duas listas encadeadas em uma nova lista.\n",
        "8. Escreva um código para separar uma lista encadeada em duas, uma com elementos pares e outra com elementos ímpares.\n",
        "\n",
        "\n",
        "\n"
      ]
    },
    {
      "cell_type": "code",
      "execution_count": 46,
      "metadata": {
        "id": "M4wDueMBEkNj"
      },
      "outputs": [
        {
          "name": "stdout",
          "output_type": "stream",
          "text": [
            "[10 -> 52 -> 70 -> 983]\n",
            "[10 -> 43 -> 52 -> 70 -> 983 -> 983]\n"
          ]
        }
      ],
      "source": [
        "import collections\n",
        "from structlinks.DataStructures import LinkedList\n",
        "\n",
        "print(L)\n",
        "\n",
        "L=LinkedList([10,983,983,70,43,52])\n",
        "\n",
        "L.sort()\n",
        "\n",
        "print(L)\n"
      ]
    },
    {
      "cell_type": "code",
      "execution_count": 29,
      "metadata": {},
      "outputs": [
        {
          "name": "stdout",
          "output_type": "stream",
          "text": [
            "[10 -> 52 -> 70]\n"
          ]
        }
      ],
      "source": [
        "for i in L:\n",
        "    if i%2 != 0:\n",
        "      L.remove(i)\n",
        "\n",
        "print(L)\n"
      ]
    },
    {
      "cell_type": "code",
      "execution_count": 41,
      "metadata": {},
      "outputs": [
        {
          "name": "stdout",
          "output_type": "stream",
          "text": [
            "983\n"
          ]
        }
      ],
      "source": [
        "print(max(L))"
      ]
    },
    {
      "cell_type": "code",
      "execution_count": 42,
      "metadata": {},
      "outputs": [
        {
          "name": "stdout",
          "output_type": "stream",
          "text": [
            "10\n"
          ]
        }
      ],
      "source": [
        "print(min(L))"
      ]
    },
    {
      "cell_type": "code",
      "execution_count": 43,
      "metadata": {},
      "outputs": [
        {
          "name": "stdout",
          "output_type": "stream",
          "text": [
            "278.75\n"
          ]
        }
      ],
      "source": [
        "print(sum(L)/len(L))"
      ]
    },
    {
      "cell_type": "code",
      "execution_count": 56,
      "metadata": {},
      "outputs": [
        {
          "name": "stdout",
          "output_type": "stream",
          "text": [
            "diferetens\n"
          ]
        },
        {
          "ename": "AttributeError",
          "evalue": "'int' object has no attribute '_first'",
          "output_type": "error",
          "traceback": [
            "\u001b[1;31m---------------------------------------------------------------------------\u001b[0m",
            "\u001b[1;31mAttributeError\u001b[0m                            Traceback (most recent call last)",
            "Cell \u001b[1;32mIn[56], line 8\u001b[0m\n\u001b[0;32m      5\u001b[0m \u001b[39melse\u001b[39;00m:\n\u001b[0;32m      6\u001b[0m     \u001b[39mprint\u001b[39m(\u001b[39m\"\u001b[39m\u001b[39mdiferetens\u001b[39m\u001b[39m\"\u001b[39m)\n\u001b[1;32m----> 8\u001b[0m \u001b[39mprint\u001b[39m(L \u001b[39min\u001b[39;49;00m A)\n",
            "File \u001b[1;32mc:\\Users\\damac\\AppData\\Local\\Programs\\Python\\Python311\\Lib\\site-packages\\structlinks\\DataStructures\\LinkedList\\LinkedList.py:58\u001b[0m, in \u001b[0;36mLinkedList.__contains__\u001b[1;34m(self, item)\u001b[0m\n\u001b[0;32m     55\u001b[0m curr \u001b[39m=\u001b[39m \u001b[39mself\u001b[39m\u001b[39m.\u001b[39m_first\n\u001b[0;32m     57\u001b[0m \u001b[39mwhile\u001b[39;00m curr \u001b[39mis\u001b[39;00m \u001b[39mnot\u001b[39;00m \u001b[39mNone\u001b[39;00m:\n\u001b[1;32m---> 58\u001b[0m     \u001b[39mif\u001b[39;00m curr\u001b[39m.\u001b[39;49mitem \u001b[39m==\u001b[39;49m item:\n\u001b[0;32m     59\u001b[0m         \u001b[39mreturn\u001b[39;00m \u001b[39mTrue\u001b[39;00m\n\u001b[0;32m     61\u001b[0m     curr \u001b[39m=\u001b[39m curr\u001b[39m.\u001b[39mnext\n",
            "File \u001b[1;32mc:\\Users\\damac\\AppData\\Local\\Programs\\Python\\Python311\\Lib\\site-packages\\structlinks\\DataStructures\\LinkedList\\LinkedList.py:118\u001b[0m, in \u001b[0;36mLinkedList.__eq__\u001b[1;34m(self, other)\u001b[0m\n\u001b[0;32m    115\u001b[0m \u001b[39m\u001b[39m\u001b[39m\"\"\"Return whether this list and the other list are equal.\u001b[39;00m\n\u001b[0;32m    116\u001b[0m \u001b[39m\"\"\"\u001b[39;00m\n\u001b[0;32m    117\u001b[0m curr1 \u001b[39m=\u001b[39m \u001b[39mself\u001b[39m\u001b[39m.\u001b[39m_first\n\u001b[1;32m--> 118\u001b[0m curr2 \u001b[39m=\u001b[39m other\u001b[39m.\u001b[39;49m_first\n\u001b[0;32m    119\u001b[0m are_equal \u001b[39m=\u001b[39m \u001b[39mTrue\u001b[39;00m\n\u001b[0;32m    121\u001b[0m \u001b[39mwhile\u001b[39;00m are_equal \u001b[39mand\u001b[39;00m curr1 \u001b[39mis\u001b[39;00m \u001b[39mnot\u001b[39;00m \u001b[39mNone\u001b[39;00m \u001b[39mand\u001b[39;00m curr2 \u001b[39mis\u001b[39;00m \u001b[39mnot\u001b[39;00m \u001b[39mNone\u001b[39;00m:\n",
            "\u001b[1;31mAttributeError\u001b[0m: 'int' object has no attribute '_first'"
          ]
        }
      ],
      "source": [
        "A = LinkedList([3,5,7,5,8])\n",
        "L=LinkedList([10,983,983,70,43,52])\n",
        "if A==L:\n",
        "    print(\"Iguais\")\n",
        "else:\n",
        "    print(\"diferetens\")\n"
      ]
    }
  ],
  "metadata": {
    "colab": {
      "provenance": []
    },
    "kernelspec": {
      "display_name": "Python 3 (ipykernel)",
      "language": "python",
      "name": "python3"
    },
    "language_info": {
      "codemirror_mode": {
        "name": "ipython",
        "version": 3
      },
      "file_extension": ".py",
      "mimetype": "text/x-python",
      "name": "python",
      "nbconvert_exporter": "python",
      "pygments_lexer": "ipython3",
      "version": "3.11.2"
    }
  },
  "nbformat": 4,
  "nbformat_minor": 0
}
