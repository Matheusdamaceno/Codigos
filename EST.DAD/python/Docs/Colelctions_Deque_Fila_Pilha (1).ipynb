{
  "nbformat": 4,
  "nbformat_minor": 0,
  "metadata": {
    "colab": {
      "provenance": []
    },
    "kernelspec": {
      "name": "python3",
      "display_name": "Python 3"
    },
    "language_info": {
      "name": "python"
    }
  },
  "cells": [
    {
      "cell_type": "markdown",
      "source": [
        "## Documentação\n",
        "https://docs.python.org/3/library/collections.html#collections.deque"
      ],
      "metadata": {
        "id": "BQN5C_PoueXX"
      }
    },
    {
      "cell_type": "code",
      "source": [
        "from collections import deque"
      ],
      "metadata": {
        "id": "O4XjA7KtXiZP"
      },
      "execution_count": 2,
      "outputs": []
    },
    {
      "cell_type": "code",
      "source": [
        "Fila = deque()\n",
        "Pilha = deque()"
      ],
      "metadata": {
        "id": "uZgm25I8f8o7"
      },
      "execution_count": null,
      "outputs": []
    },
    {
      "cell_type": "code",
      "source": [
        "print(type(Fila))"
      ],
      "metadata": {
        "colab": {
          "base_uri": "https://localhost:8080/"
        },
        "id": "ySPYE0S9r4MX",
        "outputId": "2dceb180-f0da-4cd0-dc12-d93ddb72c1ba"
      },
      "execution_count": null,
      "outputs": [
        {
          "output_type": "stream",
          "name": "stdout",
          "text": [
            "<class 'collections.deque'>\n"
          ]
        }
      ]
    },
    {
      "cell_type": "code",
      "source": [
        "Fila.append(10)\n",
        "Fila.append(20)\n",
        "Fila.append(30)\n",
        "print(Fila)\n",
        "Fila.popleft()\n",
        "print(Fila)"
      ],
      "metadata": {
        "colab": {
          "base_uri": "https://localhost:8080/"
        },
        "id": "QturZp3dsqLv",
        "outputId": "b781e884-72c3-464e-e9fd-c3211da21fb3"
      },
      "execution_count": null,
      "outputs": [
        {
          "output_type": "stream",
          "name": "stdout",
          "text": [
            "deque([10, 20, 30])\n",
            "deque([20, 30])\n"
          ]
        }
      ]
    },
    {
      "cell_type": "code",
      "source": [
        "Pilha.appendleft(30)\n",
        "Pilha.appendleft(20)\n",
        "Pilha.appendleft(10)\n",
        "print(Pilha)\n",
        "Pilha.popleft()\n",
        "print(Pilha)"
      ],
      "metadata": {
        "colab": {
          "base_uri": "https://localhost:8080/"
        },
        "id": "8_BO8kP_thJ6",
        "outputId": "b11584e6-8ebe-49e3-d684-366bc8f338fc"
      },
      "execution_count": null,
      "outputs": [
        {
          "output_type": "stream",
          "name": "stdout",
          "text": [
            "deque([10, 20, 30])\n",
            "deque([20, 30])\n"
          ]
        }
      ]
    },
    {
      "cell_type": "markdown",
      "source": [
        "**Exercícios**\n",
        "\n",
        "\n",
        "1. Escreva uma função que recebe uma fila como entrada e retorna a fila invertida.\n",
        "2. Escreva uma função que receba uma pilha como entrada e retorna a Pilha invertida.\n",
        "3. Escreva uma função que recebe uma fila como entrada e retorna uma nova fila que contém apenas os elementos pares.\n",
        "4. Escreva uma função que recebe uma pilha como entrada e retorna uma nova pilha que contém apenas os elementos pares.\n",
        "\n",
        "\n",
        "**Obs:** Nos exercícios 1 e 2, não poderá ser utilizado a função **reverse()**"
      ],
      "metadata": {
        "id": "gZ6iVemAt_bR"
      }
    },
    {
      "cell_type": "code",
      "source": [
        "#1. Escreva uma função que recebe uma fila como entrada e retorna a fila invertida.\n",
        "def inverteFila(F):\n",
        "  #Pilha\n",
        "  tmp = deque()\n",
        "  while F:\n",
        "    tmp.appendleft(F.popleft())\n",
        "  \n",
        "  while tmp:\n",
        "    F.append(tmp.popleft())\n",
        "  \n",
        "  return F\n",
        "\n",
        "Fila = deque()\n",
        "Fila.append(1)\n",
        "Fila.append(2)\n",
        "Fila.append(3)\n",
        "print(Fila)\n",
        "Fila = inverteFila(Fila)\n",
        "print(Fila)"
      ],
      "metadata": {
        "colab": {
          "base_uri": "https://localhost:8080/"
        },
        "id": "MnEbYAJ4xrrp",
        "outputId": "57e51db0-bc48-4156-ac54-d7a24e3258b6"
      },
      "execution_count": null,
      "outputs": [
        {
          "output_type": "stream",
          "name": "stdout",
          "text": [
            "deque([1, 2, 3])\n",
            "deque([3, 2, 1])\n"
          ]
        }
      ]
    },
    {
      "cell_type": "code",
      "source": [
        "#2. Escreva uma função que receba uma pilha como entrada e retorna a Pilha invertida.\n",
        "def invertePilha(P):\n",
        "  #Fila\n",
        "  tmp = deque()\n",
        "  while P:\n",
        "    tmp.append(P.popleft())\n",
        "  \n",
        "  while tmp:\n",
        "    P.appendleft(tmp.popleft())\n",
        "  \n",
        "  return P\n",
        "\n",
        "Pilha = deque()\n",
        "Pilha.append(1)\n",
        "Pilha.append(2)\n",
        "Pilha.append(3)\n",
        "print(Pilha)\n",
        "Pilha = invertePilha(Pilha)\n",
        "print(Pilha)"
      ],
      "metadata": {
        "colab": {
          "base_uri": "https://localhost:8080/"
        },
        "id": "5dICLOOizRdR",
        "outputId": "5f4fa533-8729-4377-f3ad-8620be862406"
      },
      "execution_count": null,
      "outputs": [
        {
          "output_type": "stream",
          "name": "stdout",
          "text": [
            "deque([1, 2, 3])\n",
            "deque([3, 2, 1])\n"
          ]
        }
      ]
    },
    {
      "cell_type": "code",
      "source": [
        "#3. Escreva uma função que recebe uma fila como entrada e retorna uma nova fila que contém apenas os elementos pares.\n",
        "def removeParesFila(F):\n",
        "   #Fila\n",
        "  tmp = deque()\n",
        "  while F:\n",
        "    x = F.popleft()\n",
        "    if x%2 ==0:\n",
        "      tmp.append(x)\n",
        "  \n",
        "  while tmp:\n",
        "    F.append(tmp.popleft())\n",
        "  \n",
        "  return F\n",
        "\n",
        "Fila = deque()\n",
        "Fila.append(1)\n",
        "Fila.append(2)\n",
        "Fila.append(3)\n",
        "Fila.append(4)\n",
        "Fila.append(5)\n",
        "Fila.append(6)\n",
        "print(Fila)\n",
        "Fila = removeParesFila(Fila)\n",
        "print(Fila)\n"
      ],
      "metadata": {
        "colab": {
          "base_uri": "https://localhost:8080/"
        },
        "id": "YlQymMfhojyK",
        "outputId": "9387d706-3f0f-4222-c65c-3b710f33e1f1"
      },
      "execution_count": 4,
      "outputs": [
        {
          "output_type": "stream",
          "name": "stdout",
          "text": [
            "deque([1, 2, 3, 4, 5, 6])\n",
            "deque([2, 4, 6])\n"
          ]
        }
      ]
    },
    {
      "cell_type": "code",
      "source": [
        "#4. Escreva uma função que recebe uma pilha como entrada e retorna uma nova pilha que contém apenas os elementos pares.\n",
        "def removeParesPilha(P):\n",
        "   #Fila\n",
        "  tmp = deque()\n",
        "  while P:\n",
        "    x = P.popleft()\n",
        "    if x%2 ==0:\n",
        "      tmp.append(x)\n",
        "  \n",
        "  while tmp:\n",
        "    P.append(tmp.popleft())\n",
        "  \n",
        "  return P\n",
        "\n",
        "Pilha = deque()\n",
        "Pilha.appendleft(1)\n",
        "Pilha.appendleft(2)\n",
        "Pilha.appendleft(3)\n",
        "Pilha.appendleft(4)\n",
        "Pilha.appendleft(5)\n",
        "Pilha.appendleft(6)\n",
        "print(Pilha)\n",
        "Pilha = removeParesPilha(Pilha)\n",
        "print(Pilha)"
      ],
      "metadata": {
        "colab": {
          "base_uri": "https://localhost:8080/"
        },
        "id": "lgyz_dxnomZo",
        "outputId": "325f5bf6-5701-416b-90be-9500aabc76f3"
      },
      "execution_count": 6,
      "outputs": [
        {
          "output_type": "stream",
          "name": "stdout",
          "text": [
            "deque([6, 5, 4, 3, 2, 1])\n",
            "deque([6, 4, 2])\n"
          ]
        }
      ]
    }
  ]
}