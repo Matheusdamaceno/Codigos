{
  "cells": [
    {
      "cell_type": "markdown",
      "metadata": {
        "id": "1CDy5e8_Pjiy"
      },
      "source": [
        "\n",
        "# Árvore binária de busca - Balanceamento (AVL)\n",
        "\n",
        "- Pacote BinaryTree: https://binarytree.readthedocs.io/en/main/\n",
        "- https://www.geeksforgeeks.org/binarytree-module-in-python/\n",
        "- https://pypi.org/project/binarytree/"
      ]
    },
    {
      "cell_type": "markdown",
      "metadata": {
        "id": "3lsdqSyqqHU4"
      },
      "source": [
        "## **Atividade Prática:** ##\n",
        "Desenvolver uma função em C que verifica se uma ABB está balanceada. Confirmar a saída da função com o valor o valor recebido do arquivo \"saida.txt\""
      ]
    },
    {
      "cell_type": "code",
      "execution_count": 10,
      "metadata": {
        "colab": {
          "base_uri": "https://localhost:8080/"
        },
        "id": "9sbvl2pi6-an",
        "outputId": "1e05de7d-e047-45f4-c867-b9326c27de10"
      },
      "outputs": [
        {
          "name": "stdout",
          "output_type": "stream",
          "text": [
            "Requirement already satisfied: binarytree in c:\\users\\damac\\appdata\\local\\programs\\python\\python311\\lib\\site-packages (6.5.1)\n",
            "Requirement already satisfied: graphviz in c:\\users\\damac\\appdata\\local\\programs\\python\\python311\\lib\\site-packages (from binarytree) (0.20.1)\n",
            "Requirement already satisfied: setuptools>=60.8.2 in c:\\users\\damac\\appdata\\local\\programs\\python\\python311\\lib\\site-packages (from binarytree) (65.5.0)\n",
            "Requirement already satisfied: setuptools-scm[toml]>=5.0.1 in c:\\users\\damac\\appdata\\local\\programs\\python\\python311\\lib\\site-packages (from binarytree) (7.1.0)\n",
            "Requirement already satisfied: packaging>=20.0 in c:\\users\\damac\\appdata\\roaming\\python\\python311\\site-packages (from setuptools-scm[toml]>=5.0.1->binarytree) (23.0)\n",
            "Requirement already satisfied: typing-extensions in c:\\users\\damac\\appdata\\local\\programs\\python\\python311\\lib\\site-packages (from setuptools-scm[toml]>=5.0.1->binarytree) (4.6.2)\n"
          ]
        }
      ],
      "source": [
        "!pip install binarytree"
      ]
    },
    {
      "cell_type": "code",
      "execution_count": 21,
      "metadata": {
        "colab": {
          "base_uri": "https://localhost:8080/"
        },
        "id": "ntJ_NxgP66SF",
        "outputId": "a07665f6-5bc6-4278-8c25-7b9a8d90076b"
      },
      "outputs": [
        {
          "name": "stdout",
          "output_type": "stream",
          "text": [
            "Overwriting ABB.c\n"
          ]
        }
      ],
      "source": [
        "%%file ABB.c\n",
        "\n",
        "#include <stdio.h>\n",
        "#include <stdlib.h>\n",
        "#include <string.h>\n",
        "\n",
        "typedef struct arv {\n",
        "  int valor;\n",
        "  struct arv *esq;\n",
        "  struct arv *dir;\n",
        "} Arv;\n",
        "\n",
        "typedef struct lista {\n",
        "  Arv* node;\n",
        "  struct lista *prox;\n",
        "} Lista;\n",
        "\n",
        "typedef struct fila {\n",
        "  Lista* ini;\n",
        "  Lista* fim;\n",
        "} Fila;\n",
        "\n",
        "Arv* removeFila(Fila* pFila){\n",
        "  if(pFila == NULL)\n",
        "    return NULL;\n",
        "\n",
        "  Lista* aux = pFila->ini;\n",
        "  Arv* node;\n",
        "  if(aux!=NULL){\n",
        "    pFila->ini = pFila->ini->prox;\n",
        "    node = aux->node;\n",
        "    free(aux);\n",
        "  }\n",
        "  //Veirifa se ficou vazio\n",
        "  if(pFila->ini == NULL)\n",
        "    pFila->fim = NULL;\n",
        "  return node;\n",
        "}\n",
        "\n",
        "void insereFila(Fila* pFila, Arv* info){\n",
        "  Lista* novo = (Lista*) malloc(sizeof(Lista));\n",
        "  novo->node = info;\n",
        "  novo->prox = NULL;\n",
        "  if(pFila->ini==NULL){\n",
        "    pFila->ini = novo;\n",
        "    pFila->fim = novo;\n",
        "  }else{\n",
        "    pFila->fim->prox = novo;\n",
        "    pFila->fim = novo;\n",
        "  }\n",
        "}\n",
        "\n",
        "Arv *insereArv(Arv *raiz, int info) {\n",
        "  // Caso base\n",
        "  if (raiz == NULL) {\n",
        "    Arv *novo = (Arv *)malloc(sizeof(Arv));\n",
        "    novo->valor = info;\n",
        "    novo->esq = NULL;\n",
        "    novo->dir = NULL;\n",
        "    return novo;\n",
        "  } else {\n",
        "    if (raiz->valor > info) {\n",
        "      raiz->esq = insereArv(raiz->esq, info);\n",
        "    } else {\n",
        "      raiz->dir = insereArv(raiz->dir, info);\n",
        "    }\n",
        "    return raiz;\n",
        "  }\n",
        "}\n",
        "int calculaAltura(Arv *a) {\n",
        "  int esq, dir;\n",
        "  if (a == NULL)\n",
        "    return -1;\n",
        "\n",
        "  esq = calculaAltura(a->esq);\n",
        "  dir = calculaAltura(a->dir);\n",
        "\n",
        "  if (esq > dir)\n",
        "    return esq + 1;\n",
        "  else\n",
        "    return dir + 1;\n",
        "}\n",
        "\n",
        "int getBalanceamento(Arv *no) {\n",
        "  if (no == NULL)\n",
        "    return 0;\n",
        "\n",
        "  return calculaAltura(no->esq) - calculaAltura(no->dir);\n",
        "}\n",
        "\n",
        "// Busca em Largura\n",
        "void BFS(Arv* raiz, FILE* f){\n",
        "    Arv* node = NULL;\n",
        "    Fila* F = (Fila*) malloc(sizeof(Fila));\n",
        "    F->ini = NULL;\n",
        "    F->fim = NULL;\n",
        "    insereFila(F, raiz);\n",
        "\n",
        "    while (F->ini != NULL) {\n",
        "        node = removeFila(F);\n",
        "        if(node != NULL){\n",
        "          printf(\"%d, \", node->valor);\n",
        "          fprintf(f, \"%d\\n\",node->valor);\n",
        "           if (node->esq!=NULL){\n",
        "              insereFila(F, node->esq);\n",
        "           }else{\n",
        "               insereFila(F, NULL);\n",
        "           }\n",
        "           if (node->dir!=NULL){\n",
        "              insereFila(F, node->dir);\n",
        "           }else{\n",
        "              insereFila(F, NULL);\n",
        "           }\n",
        "        }else{\n",
        "          printf(\"%s, \", \"None\");\n",
        "          fprintf(f, \"%d\\n\",0);\n",
        "        }\n",
        "    }\n",
        "}\n",
        "\n",
        "int main(int argc, char **argv) {\n",
        "\n",
        "   FILE *fptr;\n",
        "   Arv *raiz = NULL;\n",
        "   raiz = insereArv(raiz, 10);\n",
        "   raiz = insereArv(raiz, 8);\n",
        "   raiz = insereArv(raiz, 30);\n",
        "   raiz = insereArv(raiz, 35);\n",
        "   raiz = insereArv(raiz, 2);\n",
        "   raiz = insereArv(raiz, 9);\n",
        "   raiz = insereArv(raiz, 15);\n",
        "   raiz = insereArv(raiz, 33);\n",
        "   raiz = insereArv(raiz, 22);\n",
        "   //raiz = insereArv(raiz, 32);\n",
        "\n",
        "  if(argc == 1){\n",
        "    FILE *fptr;\n",
        "    fptr = fopen(\"bTree.txt\", \"w\");\n",
        "\n",
        "    if (fptr != NULL) {\n",
        "      printf(\"Arquivo criado com sucesso!\\n\");\n",
        "    }\n",
        "    else {\n",
        "      printf(\"Failed to create the file.\\n\");\n",
        "      // exit status for OS that an error occurred\n",
        "      return -1;\n",
        "    }\n",
        "    BFS(raiz,fptr);\n",
        "    fclose(fptr);\n",
        "  }else{\n",
        "    fptr = fopen(argv[1], \"r\");\n",
        "    int temp;\n",
        "    if (fptr != NULL) {\n",
        "      printf(\"Leitura realizada com sucesso!\\n\");\n",
        "      fscanf(fptr, \"%d\", &temp);\n",
        "      printf(\"Conteúdo do arquivo: %d\\n\", temp);\n",
        "    }\n",
        "    else {\n",
        "      printf(\"Failed to create the file.\\n\");\n",
        "      // exit status for OS that an error occurred\n",
        "      return -1;\n",
        "    }\n",
        "    if((getBalanceamento(raiz) >-1 || getBalanceamento(raiz) < 2) && (int) temp == 1){\n",
        "        printf(\"Arvore Balanceada em C e Python\");\n",
        "    }else if((getBalanceamento(raiz) <-1 || getBalanceamento(raiz) > 1) && (int) temp == 0){\n",
        "        printf(\"Arvore Não Balanceada em C e Python\");\n",
        "    }else{\n",
        "        printf(\"Avaliação em C incompatível com Python\");\n",
        "    }\n",
        "    fclose(fptr);\n",
        "  }\n",
        "  return 0;\n",
        "}\n"
      ]
    },
    {
      "cell_type": "code",
      "execution_count": 22,
      "metadata": {
        "colab": {
          "base_uri": "https://localhost:8080/"
        },
        "id": "ijtEXQcY66SH",
        "outputId": "1390bbef-7c8e-466c-b0a1-803c18db4aa4"
      },
      "outputs": [
        {
          "name": "stdout",
          "output_type": "stream",
          "text": [
            "Arquivo criado com sucesso!\n",
            "10, 8, 30, 2, 9, 15, 35, None, None, None, None, None, 22, 33, None, None, None, None, None, \n"
          ]
        }
      ],
      "source": [
        "!gcc ABB.c -o abb\n",
        "!abb"
      ]
    },
    {
      "cell_type": "code",
      "execution_count": 23,
      "metadata": {
        "colab": {
          "base_uri": "https://localhost:8080/"
        },
        "id": "oPMyPgX566SH",
        "outputId": "9eb26610-b924-4493-ec38-f942732a6e6b"
      },
      "outputs": [
        {
          "name": "stdout",
          "output_type": "stream",
          "text": [
            "10\n",
            "8\n",
            "30\n",
            "2\n",
            "9\n",
            "15\n",
            "35\n",
            "0\n",
            "0\n",
            "0\n",
            "0\n",
            "0\n",
            "22\n",
            "33\n",
            "0\n",
            "0\n",
            "0\n",
            "0\n",
            "0\n"
          ]
        }
      ],
      "source": [
        "!type bTree.txt"
      ]
    },
    {
      "cell_type": "code",
      "execution_count": 24,
      "metadata": {
        "colab": {
          "base_uri": "https://localhost:8080/"
        },
        "id": "tslLzwB8jB4q",
        "outputId": "30510705-19c5-4812-c9af-42d1ee40a1da"
      },
      "outputs": [
        {
          "name": "stdout",
          "output_type": "stream",
          "text": [
            "[10, 8, 30, 2, 9, 15, 35, 0, 0, 0, 0, 0, 22, 33, 0, 0, 0, 0, 0]\n",
            "[10, 8, 30, 2, 9, 15, 35, None, None, None, None, None, 22, 33, None, None, None, None, None]\n"
          ]
        }
      ],
      "source": [
        "## Faz a leitura da arvore gerada em C\n",
        "# opening the file in read mode\n",
        "\n",
        "# reading the file\n",
        "bTree = []\n",
        "with open(\"bTree.txt\", 'r') as f:\n",
        "     while True:\n",
        "        line = f.readline().strip()\n",
        "        if not line:\n",
        "            break\n",
        "        bTree.append(int(line))\n",
        "\n",
        "# printing the data\n",
        "print(bTree)\n",
        "\n",
        "for i in range(0,len(bTree)):\n",
        "  if bTree[i]==0:\n",
        "    bTree[i] = None\n",
        "\n",
        "print(bTree)\n",
        "f.close()"
      ]
    },
    {
      "cell_type": "code",
      "execution_count": 25,
      "metadata": {
        "colab": {
          "base_uri": "https://localhost:8080/"
        },
        "id": "Tx6T3JIc66SI",
        "outputId": "29ffb4f8-6e46-4d21-ff2c-6bd0d056194f"
      },
      "outputs": [
        {
          "name": "stdout",
          "output_type": "stream",
          "text": [
            "Àrvore Binária :\n",
            " \n",
            "    __10______\n",
            "   /          \\\n",
            "  8        ____30___\n",
            " / \\      /         \\\n",
            "2   9    15         _35\n",
            "           \\       /\n",
            "            22    33\n",
            "\n",
            "\n",
            "Lista : [10, 8, 30, 2, 9, 15, 35, None, None, None, None, None, 22, 33]\n"
          ]
        }
      ],
      "source": [
        "# Gerando uma árvore binária\n",
        "# a partir de uma lista\n",
        "from binarytree import build2\n",
        "\n",
        "# Gera o objeto árvore binária\n",
        "binary_tree = build2(bTree)\n",
        "print('Àrvore Binária :\\n', binary_tree)\n",
        "\n",
        "# Imprime os valores dos nós\n",
        "print('\\nLista :', binary_tree.values)\n"
      ]
    },
    {
      "cell_type": "code",
      "execution_count": 26,
      "metadata": {
        "colab": {
          "base_uri": "https://localhost:8080/"
        },
        "id": "jG5v8hk9oSch",
        "outputId": "df5b3b91-2019-4350-f37d-78f4ecb86bec"
      },
      "outputs": [
        {
          "name": "stdout",
          "output_type": "stream",
          "text": [
            "Àrvore Binária :\n",
            " \n",
            "    __10______\n",
            "   /          \\\n",
            "  8        ____30___\n",
            " / \\      /         \\\n",
            "2   9    15         _35\n",
            "           \\       /\n",
            "            22    33\n",
            "\n",
            "Árvore Binária de Busca!\n",
            "Árvore Balanceada!\n"
          ]
        }
      ],
      "source": [
        "## Gera arquivo de saida com o teste de balanceamento\n",
        "### 1: verdadeiro\n",
        "### 0: falso\n",
        "from binarytree import build2\n",
        "\n",
        "#Pega a ABB final gerada\n",
        "binary_tree = build2(bTree)\n",
        "print('Àrvore Binária :\\n', binary_tree)\n",
        "\n",
        "# Verifica se é Binária de Busca:\n",
        "if binary_tree.is_bst:\n",
        "   print(\"Árvore Binária de Busca!\")\n",
        "else:\n",
        "   print(\"Árvore não-ordenada!\")\n",
        "\n",
        "with open('saida.txt', 'w') as f:\n",
        "   # Verifica se está balanceada:\n",
        "   if binary_tree.is_balanced:\n",
        "      print(\"Árvore Balanceada!\")\n",
        "      f.write('1')\n",
        "   else:\n",
        "      print(\"Árvore não-balanceada!\")\n",
        "      f.write('0')\n",
        "f.close()"
      ]
    },
    {
      "cell_type": "code",
      "execution_count": 27,
      "metadata": {},
      "outputs": [
        {
          "name": "stdout",
          "output_type": "stream",
          "text": [
            "tacerto\n"
          ]
        }
      ],
      "source": [
        "linha=[]\n",
        "with open('saida.txt', 'r') as f:\n",
        "     while True:\n",
        "        line = f.readline().strip()\n",
        "        if not line:\n",
        "            break\n",
        "        linha.append(int(line))\n",
        "\n",
        "if linha[0]==0:\n",
        "    print(\"taporra\")\n",
        "else:\n",
        "    print(\"tacerto\")\n",
        "    \n",
        "        "
      ]
    },
    {
      "cell_type": "code",
      "execution_count": 30,
      "metadata": {
        "colab": {
          "base_uri": "https://localhost:8080/"
        },
        "id": "2oBLoWBjHLGp",
        "outputId": "3299dfdb-30ad-4c4d-c1f5-f3d47329f389"
      },
      "outputs": [
        {
          "name": "stdout",
          "output_type": "stream",
          "text": [
            "1\n"
          ]
        }
      ],
      "source": [
        "!type saida.txt"
      ]
    },
    {
      "cell_type": "code",
      "execution_count": 29,
      "metadata": {
        "colab": {
          "base_uri": "https://localhost:8080/"
        },
        "id": "8Ltqv0lAC2bX",
        "outputId": "c18064c7-5e3d-485d-84f2-40255cc5dd11"
      },
      "outputs": [
        {
          "name": "stdout",
          "output_type": "stream",
          "text": [
            "Leitura realizada com sucesso!\n",
            "Conteúdo do arquivo: 1\n",
            "Arvore Balanceada em C e Python\n"
          ]
        }
      ],
      "source": [
        "!abb saida.txt"
      ]
    }
  ],
  "metadata": {
    "colab": {
      "provenance": []
    },
    "kernelspec": {
      "display_name": "Python 3 (ipykernel)",
      "language": "python",
      "name": "python3"
    },
    "language_info": {
      "codemirror_mode": {
        "name": "ipython",
        "version": 3
      },
      "file_extension": ".py",
      "mimetype": "text/x-python",
      "name": "python",
      "nbconvert_exporter": "python",
      "pygments_lexer": "ipython3",
      "version": "3.11.2"
    }
  },
  "nbformat": 4,
  "nbformat_minor": 0
}
