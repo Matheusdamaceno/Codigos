{
  "cells": [
    {
      "cell_type": "markdown",
      "metadata": {
        "id": "BQN5C_PoueXX"
      },
      "source": [
        "## Documentação\n",
        "https://docs.python.org/3/library/collections.html#collections.deque"
      ]
    },
    {
      "cell_type": "markdown",
      "metadata": {
        "id": "gZ6iVemAt_bR"
      },
      "source": [
        "**Exercícios**\n",
        "\n",
        "\n",
        "1. Escreva uma função que recebe uma fila como entrada e retorna a fila invertida.\n",
        "2. Escreva uma função que receba uma pilha como entrada e retorna a Pilha invertida.\n",
        "3. Escreva uma função que recebe uma fila como entrada e retorna uma nova fila que contém apenas os elementos pares.\n",
        "4. Escreva uma função que recebe uma pilha como entrada e retorna uma nova pilha que contém apenas os elementos pares.\n",
        "\n",
        "\n",
        "**Obs:** Nos exercícios 1 e 2, não poderá ser utilizado a função **reverse()**"
      ]
    },
    {
      "cell_type": "code",
      "execution_count": 3,
      "metadata": {},
      "outputs": [
        {
          "name": "stdout",
          "output_type": "stream",
          "text": [
            "deque([30, 20, 10])\n"
          ]
        }
      ],
      "source": [
        "from collections import deque\n",
        "\n",
        "Fila = deque()\n",
        "aux = deque()\n",
        "\n",
        "Fila.append(10)\n",
        "Fila.append(20)\n",
        "Fila.append(30)\n",
        "\n",
        "for n in aux:\n",
        "    aux.append(n)\n",
        "    Fila.pop\n",
        "\n",
        "\n",
        "\n"
      ]
    }
  ],
  "metadata": {
    "colab": {
      "provenance": []
    },
    "kernelspec": {
      "display_name": "Python 3",
      "name": "python3"
    },
    "language_info": {
      "codemirror_mode": {
        "name": "ipython",
        "version": 3
      },
      "file_extension": ".py",
      "mimetype": "text/x-python",
      "name": "python",
      "nbconvert_exporter": "python",
      "pygments_lexer": "ipython3",
      "version": "3.11.2"
    }
  },
  "nbformat": 4,
  "nbformat_minor": 0
}
