{
  "cells": [
    {
      "attachments": {},
      "cell_type": "markdown",
      "metadata": {
        "id": "1CDy5e8_Pjiy"
      },
      "source": [
        "\n",
        "# Árvore binária de busca\n",
        "\n",
        "Visualização:\n",
        "- https://visualgo.net/en/bst\n",
        "- https://graphviz.readthedocs.io/en/stable/api.html\n",
        "- https://github.com/xflr6/graphviz/blob/master/examples/graphviz-notebook.ipynb"
      ]
    },
    {
      "attachments": {},
      "cell_type": "markdown",
      "metadata": {
        "id": "2v1JkybbCGia"
      },
      "source": [
        "## **Exemplo 1**"
      ]
    },
    {
      "cell_type": "code",
      "execution_count": 15,
      "metadata": {
        "id": "nnz0ufrapTP2"
      },
      "outputs": [],
      "source": [
        "class No:\n",
        "  def __init__(self, valor):\n",
        "    self.valor = valor\n",
        "    self.esquerda = None\n",
        "    self.direita = None  "
      ]
    },
    {
      "cell_type": "code",
      "execution_count": 16,
      "metadata": {
        "id": "1L2lCXxXplvw"
      },
      "outputs": [],
      "source": [
        "def inserir(no, valor):\n",
        "    \n",
        "    # Se a árvore estiver vazia\n",
        "    if no == None:\n",
        "      novo = No(valor)  \n",
        "      no = novo\n",
        "    elif (valor < no.valor):\n",
        "      no.esquerda = inserir(no.esquerda, valor)\n",
        "    else:\n",
        "      no.direita = inserir(no.direita, valor)\n",
        "    return no\n",
        "  \n",
        "\n",
        "  # Raiz, esquerda, direita\n",
        "def pre_ordem(no):\n",
        "    if no != None:\n",
        "      print(no.valor)\n",
        "      pre_ordem(no.esquerda)\n",
        "      pre_ordem(no.direita)\n",
        "\n",
        "  # Esquerda, raiz, direita\n",
        "def em_ordem(no):\n",
        "    if no != None:\n",
        "      em_ordem(no.esquerda)\n",
        "      print(no.valor)\n",
        "      em_ordem(no.direita)\n",
        "\n",
        "  # Esquerda, direita, raiz\n",
        "def pos_ordem(self, no):\n",
        "    if no != None:\n",
        "      pos_ordem(no.esquerda)\n",
        "      pos_ordem(no.direita)\n",
        "      print(no.valor)\n",
        "\n",
        "def abb_retira(no, valor):\n",
        "    \n",
        "    if no == None:\n",
        "      print('A árvore está vazia')\n",
        "      return None\n",
        "    elif no.valor > valor:\n",
        "         no.esquerda = abb_retira(no.esquerda, valor);\n",
        "    elif no.valor < valor:\n",
        "         no.direita = abb_retira(no.direita, valor);\n",
        "    else: #achou o nó a remover    \n",
        "    \n",
        "        # O nó a ser apagado é uma folha\n",
        "        if (no.esquerda == None) and (no.direita == None):\n",
        "             return None\n",
        "\n",
        "        # O nó a ser apagado não possui filho na direita\n",
        "        elif no.direita == None:      \n",
        "             no = no.esquerda\n",
        "\n",
        "        # O nó a ser apagado não possui filho na esquerda\n",
        "        elif no.esquerda == None:\n",
        "             no = no.direita\n",
        "\n",
        "        # O nó possui dois filhos\n",
        "        else:\n",
        "          sucessor = no.esquerda\n",
        "          while sucessor.direita != None:\n",
        "                sucessor = sucessor.direita\n",
        "\n",
        "\n",
        "          no.valor = sucessor.valor\n",
        "          sucessor.valor = valor\n",
        "          no.esquerda = abb_retira(no.esquerda, valor);\n",
        "    \n",
        "    return no \n",
        "\n",
        "def imprimeGraph(no, f):\n",
        "    if no != None:\n",
        "        if(no.esquerda != None):\n",
        "            f.edge(str(no.valor),str(no.esquerda.valor))\n",
        "            imprimeGraph(no.esquerda,f)\n",
        "        if(no.direita != None):\n",
        "            f.edge(str(no.valor),str(no.direita.valor))  \n",
        "            imprimeGraph(no.direita,f)\n",
        "    return f"
      ]
    },
    {
      "attachments": {},
      "cell_type": "markdown",
      "metadata": {
        "id": "GfWOxB_KvRqx"
      },
      "source": [
        "### Inserção"
      ]
    },
    {
      "cell_type": "code",
      "execution_count": 17,
      "metadata": {
        "id": "REc99Aq_vUAw",
        "scrolled": true
      },
      "outputs": [],
      "source": [
        "#Gera um no vazio (None)\n",
        "arvore = None\n",
        "\n",
        "#Cria uma ABB\n",
        "arvore = inserir(arvore, 53)\n",
        "arvore = inserir(arvore, 30)\n",
        "arvore = inserir(arvore, 14)\n",
        "arvore = inserir(arvore, 39)\n",
        "arvore = inserir(arvore, 9)\n",
        "arvore = inserir(arvore, 23)\n",
        "arvore = inserir(arvore, 34)\n",
        "arvore = inserir(arvore, 49)\n",
        "arvore = inserir(arvore, 72)\n",
        "arvore = inserir(arvore, 61)\n",
        "arvore = inserir(arvore, 84)\n",
        "arvore = inserir(arvore, 79)      \n"
      ]
    },
    {
      "attachments": {},
      "cell_type": "markdown",
      "metadata": {
        "id": "2N7p9Zhk9mnW"
      },
      "source": [
        "### Visualização"
      ]
    },
    {
      "cell_type": "code",
      "execution_count": 18,
      "metadata": {
        "colab": {
          "base_uri": "https://localhost:8080/",
          "height": 383
        },
        "id": "AjGiSA7-9mnW",
        "outputId": "be02960e-9b76-46e7-9b72-41f5a7239ae2"
      },
      "outputs": [
        {
          "data": {
            "image/svg+xml": [
              "<?xml version=\"1.0\" encoding=\"UTF-8\" standalone=\"no\"?>\n",
              "<!DOCTYPE svg PUBLIC \"-//W3C//DTD SVG 1.1//EN\"\n",
              " \"http://www.w3.org/Graphics/SVG/1.1/DTD/svg11.dtd\">\n",
              "<!-- Generated by graphviz version 8.0.5 (20230430.1635)\n",
              " -->\n",
              "<!-- Title: Binary Search Tree Pages: 1 -->\n",
              "<svg width=\"273pt\" height=\"273pt\"\n",
              " viewBox=\"0.00 0.00 272.63 273.02\" xmlns=\"http://www.w3.org/2000/svg\" xmlns:xlink=\"http://www.w3.org/1999/xlink\">\n",
              "<g id=\"graph0\" class=\"graph\" transform=\"scale(1 1) rotate(0) translate(4 269.02)\">\n",
              "<title>Binary Search Tree</title>\n",
              "<polygon fill=\"white\" stroke=\"none\" points=\"-4,4 -4,-269.02 268.63,-269.02 268.63,4 -4,4\"/>\n",
              "<!-- 53 -->\n",
              "<g id=\"node1\" class=\"node\">\n",
              "<title>53</title>\n",
              "<ellipse fill=\"none\" stroke=\"black\" cx=\"159\" cy=\"-245.39\" rx=\"19.63\" ry=\"19.63\"/>\n",
              "<text text-anchor=\"middle\" x=\"159\" y=\"-239.97\" font-family=\"Times New Roman,serif\" font-size=\"14.00\">53</text>\n",
              "</g>\n",
              "<!-- 30 -->\n",
              "<g id=\"node2\" class=\"node\">\n",
              "<title>30</title>\n",
              "<ellipse fill=\"none\" stroke=\"black\" cx=\"131\" cy=\"-170.14\" rx=\"19.63\" ry=\"19.63\"/>\n",
              "<text text-anchor=\"middle\" x=\"131\" y=\"-164.71\" font-family=\"Times New Roman,serif\" font-size=\"14.00\">30</text>\n",
              "</g>\n",
              "<!-- 53&#45;&gt;30 -->\n",
              "<g id=\"edge1\" class=\"edge\">\n",
              "<title>53&#45;&gt;30</title>\n",
              "<path fill=\"none\" stroke=\"black\" d=\"M152.22,-226.66C149.05,-218.35 145.19,-208.26 141.64,-198.97\"/>\n",
              "<polygon fill=\"black\" stroke=\"black\" points=\"144.65,-198.05 137.81,-189.96 138.11,-200.55 144.65,-198.05\"/>\n",
              "</g>\n",
              "<!-- 72 -->\n",
              "<g id=\"node9\" class=\"node\">\n",
              "<title>72</title>\n",
              "<ellipse fill=\"none\" stroke=\"black\" cx=\"188\" cy=\"-170.14\" rx=\"19.63\" ry=\"19.63\"/>\n",
              "<text text-anchor=\"middle\" x=\"188\" y=\"-164.71\" font-family=\"Times New Roman,serif\" font-size=\"14.00\">72</text>\n",
              "</g>\n",
              "<!-- 53&#45;&gt;72 -->\n",
              "<g id=\"edge8\" class=\"edge\">\n",
              "<title>53&#45;&gt;72</title>\n",
              "<path fill=\"none\" stroke=\"black\" d=\"M166.02,-226.66C169.31,-218.35 173.3,-208.26 176.98,-198.97\"/>\n",
              "<polygon fill=\"black\" stroke=\"black\" points=\"180.52,-200.55 180.94,-189.96 174.01,-197.97 180.52,-200.55\"/>\n",
              "</g>\n",
              "<!-- 14 -->\n",
              "<g id=\"node3\" class=\"node\">\n",
              "<title>14</title>\n",
              "<ellipse fill=\"none\" stroke=\"black\" cx=\"74\" cy=\"-94.88\" rx=\"19.63\" ry=\"19.63\"/>\n",
              "<text text-anchor=\"middle\" x=\"74\" y=\"-89.46\" font-family=\"Times New Roman,serif\" font-size=\"14.00\">14</text>\n",
              "</g>\n",
              "<!-- 30&#45;&gt;14 -->\n",
              "<g id=\"edge2\" class=\"edge\">\n",
              "<title>30&#45;&gt;14</title>\n",
              "<path fill=\"none\" stroke=\"black\" d=\"M119.19,-153.96C111.47,-144.04 101.23,-130.88 92.45,-119.59\"/>\n",
              "<polygon fill=\"black\" stroke=\"black\" points=\"94.7,-117.78 85.8,-112.04 89.17,-122.08 94.7,-117.78\"/>\n",
              "</g>\n",
              "<!-- 39 -->\n",
              "<g id=\"node6\" class=\"node\">\n",
              "<title>39</title>\n",
              "<ellipse fill=\"none\" stroke=\"black\" cx=\"131\" cy=\"-94.88\" rx=\"19.63\" ry=\"19.63\"/>\n",
              "<text text-anchor=\"middle\" x=\"131\" y=\"-89.46\" font-family=\"Times New Roman,serif\" font-size=\"14.00\">39</text>\n",
              "</g>\n",
              "<!-- 30&#45;&gt;39 -->\n",
              "<g id=\"edge5\" class=\"edge\">\n",
              "<title>30&#45;&gt;39</title>\n",
              "<path fill=\"none\" stroke=\"black\" d=\"M131,-150.27C131,-142.81 131,-134.05 131,-125.77\"/>\n",
              "<polygon fill=\"black\" stroke=\"black\" points=\"134.5,-125.94 131,-115.94 127.5,-125.94 134.5,-125.94\"/>\n",
              "</g>\n",
              "<!-- 9 -->\n",
              "<g id=\"node4\" class=\"node\">\n",
              "<title>9</title>\n",
              "<ellipse fill=\"none\" stroke=\"black\" cx=\"18\" cy=\"-19.63\" rx=\"18\" ry=\"18\"/>\n",
              "<text text-anchor=\"middle\" x=\"18\" y=\"-14.2\" font-family=\"Times New Roman,serif\" font-size=\"14.00\">9</text>\n",
              "</g>\n",
              "<!-- 14&#45;&gt;9 -->\n",
              "<g id=\"edge3\" class=\"edge\">\n",
              "<title>14&#45;&gt;9</title>\n",
              "<path fill=\"none\" stroke=\"black\" d=\"M62.4,-78.7C54.51,-68.39 43.94,-54.56 35.1,-42.99\"/>\n",
              "<polygon fill=\"black\" stroke=\"black\" points=\"37.31,-41.12 28.46,-35.3 31.75,-45.37 37.31,-41.12\"/>\n",
              "</g>\n",
              "<!-- 23 -->\n",
              "<g id=\"node5\" class=\"node\">\n",
              "<title>23</title>\n",
              "<ellipse fill=\"none\" stroke=\"black\" cx=\"74\" cy=\"-19.63\" rx=\"19.63\" ry=\"19.63\"/>\n",
              "<text text-anchor=\"middle\" x=\"74\" y=\"-14.2\" font-family=\"Times New Roman,serif\" font-size=\"14.00\">23</text>\n",
              "</g>\n",
              "<!-- 14&#45;&gt;23 -->\n",
              "<g id=\"edge4\" class=\"edge\">\n",
              "<title>14&#45;&gt;23</title>\n",
              "<path fill=\"none\" stroke=\"black\" d=\"M74,-75.02C74,-67.56 74,-58.8 74,-50.51\"/>\n",
              "<polygon fill=\"black\" stroke=\"black\" points=\"77.5,-50.68 74,-40.68 70.5,-50.68 77.5,-50.68\"/>\n",
              "</g>\n",
              "<!-- 34 -->\n",
              "<g id=\"node7\" class=\"node\">\n",
              "<title>34</title>\n",
              "<ellipse fill=\"none\" stroke=\"black\" cx=\"131\" cy=\"-19.63\" rx=\"19.63\" ry=\"19.63\"/>\n",
              "<text text-anchor=\"middle\" x=\"131\" y=\"-14.2\" font-family=\"Times New Roman,serif\" font-size=\"14.00\">34</text>\n",
              "</g>\n",
              "<!-- 39&#45;&gt;34 -->\n",
              "<g id=\"edge6\" class=\"edge\">\n",
              "<title>39&#45;&gt;34</title>\n",
              "<path fill=\"none\" stroke=\"black\" d=\"M131,-75.02C131,-67.56 131,-58.8 131,-50.51\"/>\n",
              "<polygon fill=\"black\" stroke=\"black\" points=\"134.5,-50.68 131,-40.68 127.5,-50.68 134.5,-50.68\"/>\n",
              "</g>\n",
              "<!-- 49 -->\n",
              "<g id=\"node8\" class=\"node\">\n",
              "<title>49</title>\n",
              "<ellipse fill=\"none\" stroke=\"black\" cx=\"188\" cy=\"-19.63\" rx=\"19.63\" ry=\"19.63\"/>\n",
              "<text text-anchor=\"middle\" x=\"188\" y=\"-14.2\" font-family=\"Times New Roman,serif\" font-size=\"14.00\">49</text>\n",
              "</g>\n",
              "<!-- 39&#45;&gt;49 -->\n",
              "<g id=\"edge7\" class=\"edge\">\n",
              "<title>39&#45;&gt;49</title>\n",
              "<path fill=\"none\" stroke=\"black\" d=\"M142.81,-78.7C150.53,-68.78 160.77,-55.62 169.55,-44.34\"/>\n",
              "<polygon fill=\"black\" stroke=\"black\" points=\"172.83,-46.83 176.2,-36.79 167.3,-42.53 172.83,-46.83\"/>\n",
              "</g>\n",
              "<!-- 61 -->\n",
              "<g id=\"node10\" class=\"node\">\n",
              "<title>61</title>\n",
              "<ellipse fill=\"none\" stroke=\"black\" cx=\"188\" cy=\"-94.88\" rx=\"19.63\" ry=\"19.63\"/>\n",
              "<text text-anchor=\"middle\" x=\"188\" y=\"-89.46\" font-family=\"Times New Roman,serif\" font-size=\"14.00\">61</text>\n",
              "</g>\n",
              "<!-- 72&#45;&gt;61 -->\n",
              "<g id=\"edge9\" class=\"edge\">\n",
              "<title>72&#45;&gt;61</title>\n",
              "<path fill=\"none\" stroke=\"black\" d=\"M188,-150.27C188,-142.81 188,-134.05 188,-125.77\"/>\n",
              "<polygon fill=\"black\" stroke=\"black\" points=\"191.5,-125.94 188,-115.94 184.5,-125.94 191.5,-125.94\"/>\n",
              "</g>\n",
              "<!-- 84 -->\n",
              "<g id=\"node11\" class=\"node\">\n",
              "<title>84</title>\n",
              "<ellipse fill=\"none\" stroke=\"black\" cx=\"245\" cy=\"-94.88\" rx=\"19.63\" ry=\"19.63\"/>\n",
              "<text text-anchor=\"middle\" x=\"245\" y=\"-89.46\" font-family=\"Times New Roman,serif\" font-size=\"14.00\">84</text>\n",
              "</g>\n",
              "<!-- 72&#45;&gt;84 -->\n",
              "<g id=\"edge10\" class=\"edge\">\n",
              "<title>72&#45;&gt;84</title>\n",
              "<path fill=\"none\" stroke=\"black\" d=\"M199.81,-153.96C207.53,-144.04 217.77,-130.88 226.55,-119.59\"/>\n",
              "<polygon fill=\"black\" stroke=\"black\" points=\"229.83,-122.08 233.2,-112.04 224.3,-117.78 229.83,-122.08\"/>\n",
              "</g>\n",
              "<!-- 79 -->\n",
              "<g id=\"node12\" class=\"node\">\n",
              "<title>79</title>\n",
              "<ellipse fill=\"none\" stroke=\"black\" cx=\"245\" cy=\"-19.63\" rx=\"19.63\" ry=\"19.63\"/>\n",
              "<text text-anchor=\"middle\" x=\"245\" y=\"-14.2\" font-family=\"Times New Roman,serif\" font-size=\"14.00\">79</text>\n",
              "</g>\n",
              "<!-- 84&#45;&gt;79 -->\n",
              "<g id=\"edge11\" class=\"edge\">\n",
              "<title>84&#45;&gt;79</title>\n",
              "<path fill=\"none\" stroke=\"black\" d=\"M245,-75.02C245,-67.56 245,-58.8 245,-50.51\"/>\n",
              "<polygon fill=\"black\" stroke=\"black\" points=\"248.5,-50.68 245,-40.68 241.5,-50.68 248.5,-50.68\"/>\n",
              "</g>\n",
              "</g>\n",
              "</svg>\n"
            ],
            "text/plain": [
              "<graphviz.graphs.Digraph at 0x1f4a7692bd0>"
            ]
          },
          "execution_count": 18,
          "metadata": {},
          "output_type": "execute_result"
        }
      ],
      "source": [
        "import graphviz\n",
        "f = graphviz.Digraph('Binary Search Tree')\n",
        "f.attr(rankdir='TD', size='4')\n",
        "f.attr('node', shape='circle')\n",
        "\n",
        "### Chama a função de impressão\n",
        "imprimeGraph(arvore, f)"
      ]
    },
    {
      "attachments": {},
      "cell_type": "markdown",
      "metadata": {
        "id": "rduSUCCl9mnW"
      },
      "source": [
        "### Remoção"
      ]
    },
    {
      "cell_type": "code",
      "execution_count": 19,
      "metadata": {
        "id": "Whf3hxGy9mnW"
      },
      "outputs": [],
      "source": [
        "arvore = abb_retira(arvore, 30)"
      ]
    },
    {
      "cell_type": "code",
      "execution_count": 20,
      "metadata": {
        "colab": {
          "base_uri": "https://localhost:8080/",
          "height": 367
        },
        "id": "Id9AnoDj9mnX",
        "outputId": "8d9c25dc-4e03-45d4-98b0-ff497d252199"
      },
      "outputs": [
        {
          "data": {
            "image/svg+xml": [
              "<?xml version=\"1.0\" encoding=\"UTF-8\" standalone=\"no\"?>\n",
              "<!DOCTYPE svg PUBLIC \"-//W3C//DTD SVG 1.1//EN\"\n",
              " \"http://www.w3.org/Graphics/SVG/1.1/DTD/svg11.dtd\">\n",
              "<!-- Generated by graphviz version 8.0.5 (20230430.1635)\n",
              " -->\n",
              "<!-- Title: Binary Search Tree Pages: 1 -->\n",
              "<svg width=\"278pt\" height=\"260pt\"\n",
              " viewBox=\"0.00 0.00 278.00 260.00\" xmlns=\"http://www.w3.org/2000/svg\" xmlns:xlink=\"http://www.w3.org/1999/xlink\">\n",
              "<g id=\"graph0\" class=\"graph\" transform=\"scale(1 1) rotate(0) translate(4 256)\">\n",
              "<title>Binary Search Tree</title>\n",
              "<polygon fill=\"white\" stroke=\"none\" points=\"-4,4 -4,-256 274,-256 274,4 -4,4\"/>\n",
              "<!-- 53 -->\n",
              "<g id=\"node1\" class=\"node\">\n",
              "<title>53</title>\n",
              "<ellipse fill=\"none\" stroke=\"black\" cx=\"135\" cy=\"-234\" rx=\"27\" ry=\"18\"/>\n",
              "<text text-anchor=\"middle\" x=\"135\" y=\"-228.57\" font-family=\"Times New Roman,serif\" font-size=\"14.00\">53</text>\n",
              "</g>\n",
              "<!-- 23 -->\n",
              "<g id=\"node2\" class=\"node\">\n",
              "<title>23</title>\n",
              "<ellipse fill=\"none\" stroke=\"black\" cx=\"99\" cy=\"-162\" rx=\"27\" ry=\"18\"/>\n",
              "<text text-anchor=\"middle\" x=\"99\" y=\"-156.57\" font-family=\"Times New Roman,serif\" font-size=\"14.00\">23</text>\n",
              "</g>\n",
              "<!-- 53&#45;&gt;23 -->\n",
              "<g id=\"edge1\" class=\"edge\">\n",
              "<title>53&#45;&gt;23</title>\n",
              "<path fill=\"none\" stroke=\"black\" d=\"M126.65,-216.76C122.38,-208.46 117.08,-198.15 112.27,-188.79\"/>\n",
              "<polygon fill=\"black\" stroke=\"black\" points=\"114.99,-187.44 107.3,-180.15 108.77,-190.64 114.99,-187.44\"/>\n",
              "</g>\n",
              "<!-- 72 -->\n",
              "<g id=\"node8\" class=\"node\">\n",
              "<title>72</title>\n",
              "<ellipse fill=\"none\" stroke=\"black\" cx=\"171\" cy=\"-162\" rx=\"27\" ry=\"18\"/>\n",
              "<text text-anchor=\"middle\" x=\"171\" y=\"-156.57\" font-family=\"Times New Roman,serif\" font-size=\"14.00\">72</text>\n",
              "</g>\n",
              "<!-- 53&#45;&gt;72 -->\n",
              "<g id=\"edge7\" class=\"edge\">\n",
              "<title>53&#45;&gt;72</title>\n",
              "<path fill=\"none\" stroke=\"black\" d=\"M143.35,-216.76C147.62,-208.46 152.92,-198.15 157.73,-188.79\"/>\n",
              "<polygon fill=\"black\" stroke=\"black\" points=\"161.23,-190.64 162.7,-180.15 155.01,-187.44 161.23,-190.64\"/>\n",
              "</g>\n",
              "<!-- 14 -->\n",
              "<g id=\"node3\" class=\"node\">\n",
              "<title>14</title>\n",
              "<ellipse fill=\"none\" stroke=\"black\" cx=\"27\" cy=\"-90\" rx=\"27\" ry=\"18\"/>\n",
              "<text text-anchor=\"middle\" x=\"27\" y=\"-84.58\" font-family=\"Times New Roman,serif\" font-size=\"14.00\">14</text>\n",
              "</g>\n",
              "<!-- 23&#45;&gt;14 -->\n",
              "<g id=\"edge2\" class=\"edge\">\n",
              "<title>23&#45;&gt;14</title>\n",
              "<path fill=\"none\" stroke=\"black\" d=\"M84.08,-146.5C74.14,-136.83 60.88,-123.94 49.65,-113.02\"/>\n",
              "<polygon fill=\"black\" stroke=\"black\" points=\"52.51,-110.95 42.9,-106.49 47.63,-115.97 52.51,-110.95\"/>\n",
              "</g>\n",
              "<!-- 39 -->\n",
              "<g id=\"node5\" class=\"node\">\n",
              "<title>39</title>\n",
              "<ellipse fill=\"none\" stroke=\"black\" cx=\"99\" cy=\"-90\" rx=\"27\" ry=\"18\"/>\n",
              "<text text-anchor=\"middle\" x=\"99\" y=\"-84.58\" font-family=\"Times New Roman,serif\" font-size=\"14.00\">39</text>\n",
              "</g>\n",
              "<!-- 23&#45;&gt;39 -->\n",
              "<g id=\"edge4\" class=\"edge\">\n",
              "<title>23&#45;&gt;39</title>\n",
              "<path fill=\"none\" stroke=\"black\" d=\"M99,-143.7C99,-136.24 99,-127.32 99,-118.97\"/>\n",
              "<polygon fill=\"black\" stroke=\"black\" points=\"102.5,-119.1 99,-109.1 95.5,-119.1 102.5,-119.1\"/>\n",
              "</g>\n",
              "<!-- 9 -->\n",
              "<g id=\"node4\" class=\"node\">\n",
              "<title>9</title>\n",
              "<ellipse fill=\"none\" stroke=\"black\" cx=\"27\" cy=\"-18\" rx=\"27\" ry=\"18\"/>\n",
              "<text text-anchor=\"middle\" x=\"27\" y=\"-12.57\" font-family=\"Times New Roman,serif\" font-size=\"14.00\">9</text>\n",
              "</g>\n",
              "<!-- 14&#45;&gt;9 -->\n",
              "<g id=\"edge3\" class=\"edge\">\n",
              "<title>14&#45;&gt;9</title>\n",
              "<path fill=\"none\" stroke=\"black\" d=\"M27,-71.7C27,-64.24 27,-55.32 27,-46.97\"/>\n",
              "<polygon fill=\"black\" stroke=\"black\" points=\"30.5,-47.1 27,-37.1 23.5,-47.1 30.5,-47.1\"/>\n",
              "</g>\n",
              "<!-- 34 -->\n",
              "<g id=\"node6\" class=\"node\">\n",
              "<title>34</title>\n",
              "<ellipse fill=\"none\" stroke=\"black\" cx=\"99\" cy=\"-18\" rx=\"27\" ry=\"18\"/>\n",
              "<text text-anchor=\"middle\" x=\"99\" y=\"-12.57\" font-family=\"Times New Roman,serif\" font-size=\"14.00\">34</text>\n",
              "</g>\n",
              "<!-- 39&#45;&gt;34 -->\n",
              "<g id=\"edge5\" class=\"edge\">\n",
              "<title>39&#45;&gt;34</title>\n",
              "<path fill=\"none\" stroke=\"black\" d=\"M99,-71.7C99,-64.24 99,-55.32 99,-46.97\"/>\n",
              "<polygon fill=\"black\" stroke=\"black\" points=\"102.5,-47.1 99,-37.1 95.5,-47.1 102.5,-47.1\"/>\n",
              "</g>\n",
              "<!-- 49 -->\n",
              "<g id=\"node7\" class=\"node\">\n",
              "<title>49</title>\n",
              "<ellipse fill=\"none\" stroke=\"black\" cx=\"171\" cy=\"-18\" rx=\"27\" ry=\"18\"/>\n",
              "<text text-anchor=\"middle\" x=\"171\" y=\"-12.57\" font-family=\"Times New Roman,serif\" font-size=\"14.00\">49</text>\n",
              "</g>\n",
              "<!-- 39&#45;&gt;49 -->\n",
              "<g id=\"edge6\" class=\"edge\">\n",
              "<title>39&#45;&gt;49</title>\n",
              "<path fill=\"none\" stroke=\"black\" d=\"M113.92,-74.5C123.86,-64.83 137.12,-51.94 148.35,-41.02\"/>\n",
              "<polygon fill=\"black\" stroke=\"black\" points=\"150.37,-43.97 155.1,-34.49 145.49,-38.95 150.37,-43.97\"/>\n",
              "</g>\n",
              "<!-- 61 -->\n",
              "<g id=\"node9\" class=\"node\">\n",
              "<title>61</title>\n",
              "<ellipse fill=\"none\" stroke=\"black\" cx=\"171\" cy=\"-90\" rx=\"27\" ry=\"18\"/>\n",
              "<text text-anchor=\"middle\" x=\"171\" y=\"-84.58\" font-family=\"Times New Roman,serif\" font-size=\"14.00\">61</text>\n",
              "</g>\n",
              "<!-- 72&#45;&gt;61 -->\n",
              "<g id=\"edge8\" class=\"edge\">\n",
              "<title>72&#45;&gt;61</title>\n",
              "<path fill=\"none\" stroke=\"black\" d=\"M171,-143.7C171,-136.24 171,-127.32 171,-118.97\"/>\n",
              "<polygon fill=\"black\" stroke=\"black\" points=\"174.5,-119.1 171,-109.1 167.5,-119.1 174.5,-119.1\"/>\n",
              "</g>\n",
              "<!-- 84 -->\n",
              "<g id=\"node10\" class=\"node\">\n",
              "<title>84</title>\n",
              "<ellipse fill=\"none\" stroke=\"black\" cx=\"243\" cy=\"-90\" rx=\"27\" ry=\"18\"/>\n",
              "<text text-anchor=\"middle\" x=\"243\" y=\"-84.58\" font-family=\"Times New Roman,serif\" font-size=\"14.00\">84</text>\n",
              "</g>\n",
              "<!-- 72&#45;&gt;84 -->\n",
              "<g id=\"edge9\" class=\"edge\">\n",
              "<title>72&#45;&gt;84</title>\n",
              "<path fill=\"none\" stroke=\"black\" d=\"M185.92,-146.5C195.86,-136.83 209.12,-123.94 220.35,-113.02\"/>\n",
              "<polygon fill=\"black\" stroke=\"black\" points=\"222.37,-115.97 227.1,-106.49 217.49,-110.95 222.37,-115.97\"/>\n",
              "</g>\n",
              "<!-- 79 -->\n",
              "<g id=\"node11\" class=\"node\">\n",
              "<title>79</title>\n",
              "<ellipse fill=\"none\" stroke=\"black\" cx=\"243\" cy=\"-18\" rx=\"27\" ry=\"18\"/>\n",
              "<text text-anchor=\"middle\" x=\"243\" y=\"-12.57\" font-family=\"Times New Roman,serif\" font-size=\"14.00\">79</text>\n",
              "</g>\n",
              "<!-- 84&#45;&gt;79 -->\n",
              "<g id=\"edge10\" class=\"edge\">\n",
              "<title>84&#45;&gt;79</title>\n",
              "<path fill=\"none\" stroke=\"black\" d=\"M243,-71.7C243,-64.24 243,-55.32 243,-46.97\"/>\n",
              "<polygon fill=\"black\" stroke=\"black\" points=\"246.5,-47.1 243,-37.1 239.5,-47.1 246.5,-47.1\"/>\n",
              "</g>\n",
              "</g>\n",
              "</svg>\n"
            ],
            "text/plain": [
              "<graphviz.graphs.Digraph at 0x1f4a7692bd0>"
            ]
          },
          "execution_count": 20,
          "metadata": {},
          "output_type": "execute_result"
        }
      ],
      "source": [
        "### Chama a função de impressão\n",
        "f.clear(True)\n",
        "imprimeGraph(arvore,f)"
      ]
    },
    {
      "attachments": {},
      "cell_type": "markdown",
      "metadata": {
        "id": "VbK9Trr6Cm_o"
      },
      "source": [
        "## Desenvolver as seguintes funções em pyhton:\n",
        "* altura da árvore\n",
        "* profundidade de um determinado nó"
      ]
    },
    {
      "cell_type": "code",
      "execution_count": 21,
      "metadata": {},
      "outputs": [],
      "source": [
        "def altura(no):\n",
        "    if no == None:\n",
        "        return -1\n",
        "    dir = altura(no.direita)\n",
        "    esq= altura(no.esquerda)\n",
        "\n",
        "    if esq>dir:\n",
        "        return esq+1\n",
        "    else:\n",
        "        return dir+1\n",
        "    \n",
        "def nivelNo(no, valor):\n",
        "    count = 0\n",
        "    if(no.valor!=valor):\n",
        "        if(no.valor>valor):\n",
        "            count +=nivelNo(no.esquerda,valor)\n",
        "            return 1+count\n",
        "        else:\n",
        "            count+=nivelNo(no.direita,valor)\n",
        "            return 1+count\n",
        "    return count"
      ]
    },
    {
      "cell_type": "code",
      "execution_count": 22,
      "metadata": {},
      "outputs": [
        {
          "name": "stdout",
          "output_type": "stream",
          "text": [
            "3\n",
            "0\n"
          ]
        }
      ],
      "source": [
        "print(altura(arvore))\n",
        "\n",
        "print(nivelNo(arvore,53))"
      ]
    },
    {
      "attachments": {},
      "cell_type": "markdown",
      "metadata": {
        "id": "Vnnfe0j7CNLH"
      },
      "source": [
        "## **Exemplo 2**"
      ]
    },
    {
      "cell_type": "code",
      "execution_count": 23,
      "metadata": {
        "colab": {
          "base_uri": "https://localhost:8080/"
        },
        "id": "N469S5mlBF-M",
        "outputId": "a80ac8ab-af20-4211-c062-5cc8fbe8f95b"
      },
      "outputs": [
        {
          "name": "stdout",
          "output_type": "stream",
          "text": [
            "Requirement already satisfied: drawtree in c:\\users\\damac\\appdata\\local\\programs\\python\\python311\\lib\\site-packages (0.1.2)\n"
          ]
        }
      ],
      "source": [
        "!pip install drawtree"
      ]
    },
    {
      "cell_type": "code",
      "execution_count": 24,
      "metadata": {
        "colab": {
          "base_uri": "https://localhost:8080/"
        },
        "id": "yus0fIGQBIkZ",
        "outputId": "3ec1a842-cf37-4eaa-80fb-b61df1417e38"
      },
      "outputs": [
        {
          "name": "stdout",
          "output_type": "stream",
          "text": [
            "Overwriting ABB.c\n"
          ]
        }
      ],
      "source": [
        "%%file ABB.c\n",
        "\n",
        "#include <stdio.h>\n",
        "#include <stdlib.h>\n",
        "#include <string.h>\n",
        "\n",
        "typedef struct arv {\n",
        "  int valor;\n",
        "  struct arv *esq;\n",
        "  struct arv *dir;\n",
        "} Arv;\n",
        "\n",
        "void pre_ordem(Arv *raiz, FILE* f) {\n",
        "  if (raiz != NULL) {    \n",
        "    printf(\"%d\\n\", raiz->valor);\n",
        "    fprintf(f, \"%d\\n\",raiz->valor); \n",
        "    pre_ordem(raiz->esq,f);\n",
        "    pre_ordem(raiz->dir,f);\n",
        "  }\n",
        "}\n",
        "\n",
        "Arv *insereArv(Arv *raiz, int info) {\n",
        "  // Caso base\n",
        "  if (raiz == NULL) {\n",
        "    Arv *novo = (Arv *)malloc(sizeof(Arv));\n",
        "    novo->valor = info;\n",
        "    novo->esq = NULL;\n",
        "    novo->dir = NULL;\n",
        "    return novo;\n",
        "  } else {\n",
        "    if (raiz->valor > info) {\n",
        "      raiz->esq = insereArv(raiz->esq, info);\n",
        "    } else {\n",
        "      raiz->dir = insereArv(raiz->dir, info);\n",
        "    }\n",
        "    return raiz;\n",
        "  }\n",
        "}\n",
        "\n",
        "int main() {\n",
        "  FILE *fptr;\n",
        "  fptr = fopen(\"bTree.txt\", \"w\");\n",
        "  \n",
        "  if (fptr != NULL) {\n",
        "    printf(\"Arquivo criado com sucesso!\\n\");\n",
        "  }\n",
        "  else {\n",
        "    printf(\"Failed to create the file.\\n\");\n",
        "    // exit status for OS that an error occurred\n",
        "    return -1;\n",
        "  }  \n",
        "    \n",
        "  Arv *raiz = NULL;\n",
        "  raiz = insereArv(raiz, 10);\n",
        "  raiz = insereArv(raiz, 8);\n",
        "  raiz = insereArv(raiz, 30);\n",
        "  raiz = insereArv(raiz, 35);\n",
        "  raiz = insereArv(raiz, 2);\n",
        "  raiz = insereArv(raiz, 9);\n",
        "  raiz = insereArv(raiz, 15);\n",
        "  raiz = insereArv(raiz, 33);\n",
        "  raiz = insereArv(raiz, 22);\n",
        "  pre_ordem(raiz,fptr);\n",
        "  fclose(fptr);\n",
        "  return 0;\n",
        "}\n"
      ]
    },
    {
      "cell_type": "code",
      "execution_count": 25,
      "metadata": {
        "colab": {
          "base_uri": "https://localhost:8080/"
        },
        "id": "nUecLPinBLum",
        "outputId": "286311dc-3f98-4148-ec0d-a878e926220c"
      },
      "outputs": [
        {
          "name": "stdout",
          "output_type": "stream",
          "text": [
            "Arquivo criado com sucesso!\n",
            "10\n",
            "8\n",
            "2\n",
            "9\n",
            "30\n",
            "15\n",
            "22\n",
            "35\n",
            "33\n"
          ]
        }
      ],
      "source": [
        "!gcc ABB.c -o abb\n",
        "!abb"
      ]
    },
    {
      "cell_type": "code",
      "execution_count": 26,
      "metadata": {
        "colab": {
          "base_uri": "https://localhost:8080/"
        },
        "id": "tMlFg6I1DOJT",
        "outputId": "56cf33c6-9cca-4153-9de0-538e53c1d981"
      },
      "outputs": [
        {
          "name": "stdout",
          "output_type": "stream",
          "text": [
            " O volume na unidade C n�o tem nome.\n",
            " O N�mero de S�rie do Volume � D2AD-BBB0\n",
            "\n",
            " Pasta de c:\\Users\\damac\\Desktop\\codigos\\EST.DAD\\python\\Docs\n",
            "\n",
            "30/05/2023  19:33    <DIR>          .\n",
            "30/05/2023  19:33    <DIR>          ..\n",
            "20/03/2023  15:09             3.615 1.Variaveis e Objetos.ipynb\n",
            "30/05/2023  19:33            38.168 10_Aula_Python_Arvore_Binaria_Busca.ipynb\n",
            "20/03/2023  14:45             1.921 2.Estruturas de Decisao.ipynb\n",
            "22/03/2023  14:43             2.188 3.EstruturasRepeticao.ipynb\n",
            "22/03/2023  14:58             4.431 4.Listas.ipynb\n",
            "27/03/2023  14:07            11.057 5. Dicionario-Conjunto-Tuplas.ipynb\n",
            "27/03/2023  14:51            11.317 6.numpy.ipynb\n",
            "27/03/2023  14:07             4.157 7.Funcoes.ipynb\n",
            "19/04/2023  15:34            13.143 8.Lista_encadeada_simples.ipynb\n",
            "26/04/2023  15:02             1.568 9_colectionsDequeFIlaPilha.ipynb\n",
            "30/05/2023  19:33             1.386 ABB.c\n",
            "30/05/2023  19:33            47.041 abb.exe\n",
            "29/05/2023  15:17             1.481 ABB2.c\n",
            "30/05/2023  19:33                33 bTree.txt\n",
            "03/05/2023  12:49             8.350 Colelctions_Deque_Fila_Pilha (1).ipynb\n",
            "26/04/2023  15:25             2.172 Colelctions_Deque_Fila_Pilha.ipynb\n",
            "29/05/2023  15:17                47 cTree.txt\n",
            "03/05/2023  15:55    <DIR>          output\n",
            "03/05/2023  15:55             3.761 p1.c\n",
            "03/05/2023  14:22             9.748 Prova1_2023_1.ipynb\n",
            "              19 arquivo(s)        165.584 bytes\n",
            "               3 pasta(s)   257.334.726.656 bytes dispon�veis\n"
          ]
        }
      ],
      "source": [
        "!dir"
      ]
    },
    {
      "cell_type": "code",
      "execution_count": 27,
      "metadata": {
        "colab": {
          "base_uri": "https://localhost:8080/"
        },
        "id": "txrruwEKBO2Y",
        "outputId": "c2e2af4c-3b41-4791-fa6c-2411c07ba23d"
      },
      "outputs": [
        {
          "name": "stdout",
          "output_type": "stream",
          "text": [
            "[10, 8, 2, 9, 30, 15, 22, 35, 33]\n"
          ]
        }
      ],
      "source": [
        "## Faz a leitura da arvore gerada em C\n",
        "# opening the file in read mode\n",
        "\n",
        "# reading the file\n",
        "bTree = []\n",
        "with open(\"bTree.txt\", 'r') as f:\n",
        "     while True:\n",
        "        line = f.readline()\n",
        "         \n",
        "        if not line:\n",
        "            break\n",
        "        \n",
        "        bTree.append(int(line))\n",
        "\n",
        "# printing the data\n",
        "print(bTree)\n",
        "f.close()"
      ]
    },
    {
      "cell_type": "code",
      "execution_count": 28,
      "metadata": {
        "colab": {
          "base_uri": "https://localhost:8080/"
        },
        "id": "N3GVgGoVBTdg",
        "outputId": "0c5706a7-aa7d-4e21-a5d3-42c75278ba4f"
      },
      "outputs": [
        {
          "name": "stdout",
          "output_type": "stream",
          "text": [
            "     10\n",
            "     / \\\n",
            "    /   \\\n",
            "   /     \\\n",
            "  8      30\n",
            " / \\     / \\\n",
            "2   9   /   \\\n",
            "       /     \\\n",
            "      15     35\n",
            "       \\     /\n",
            "       22   33\n"
          ]
        }
      ],
      "source": [
        "from drawtree import draw_bst\n",
        "draw_bst(bTree)"
      ]
    },
    {
      "cell_type": "code",
      "execution_count": null,
      "metadata": {
        "id": "Yn-AWQ2sB88L"
      },
      "outputs": [],
      "source": []
    },
    {
      "attachments": {},
      "cell_type": "markdown",
      "metadata": {
        "id": "KXgP6XL_CRkh"
      },
      "source": [
        "## Construir a ABB gerada utilizando o **Exemplo 1**.\n",
        "* Fazer uma função que retorna a quantidade de nós da árvore "
      ]
    },
    {
      "cell_type": "code",
      "execution_count": 29,
      "metadata": {},
      "outputs": [
        {
          "name": "stdout",
          "output_type": "stream",
          "text": [
            "Overwriting ABB2.c\n"
          ]
        }
      ],
      "source": [
        "%%file ABB2.c\n",
        "\n",
        "#include <stdio.h>\n",
        "#include <stdlib.h>\n",
        "#include <string.h>\n",
        "\n",
        "typedef struct arv {\n",
        "  int valor;\n",
        "  struct arv *esq;\n",
        "  struct arv *dir;\n",
        "} Arv;\n",
        "\n",
        "void pre_ordem(Arv *raiz, FILE* f) {\n",
        "  if (raiz != NULL) {    \n",
        "    printf(\"%d\\n\", raiz->valor);\n",
        "    fprintf(f, \"%d\\n\",raiz->valor); \n",
        "    pre_ordem(raiz->esq,f);\n",
        "    pre_ordem(raiz->dir,f);\n",
        "  }\n",
        "}\n",
        "\n",
        "Arv *insereArv(Arv *raiz, int info) {\n",
        "  // Caso base\n",
        "  if (raiz == NULL) {\n",
        "    Arv *novo = (Arv *)malloc(sizeof(Arv));\n",
        "    novo->valor = info;\n",
        "    novo->esq = NULL;\n",
        "    novo->dir = NULL;\n",
        "    return novo;\n",
        "  } else {\n",
        "    if (raiz->valor > info) {\n",
        "      raiz->esq = insereArv(raiz->esq, info);\n",
        "    } else {\n",
        "      raiz->dir = insereArv(raiz->dir, info);\n",
        "    }\n",
        "    return raiz;\n",
        "  }\n",
        "}\n",
        "\n",
        "int main() {\n",
        "  FILE *fptr;\n",
        "  fptr = fopen(\"cTree.txt\", \"w\");\n",
        "  \n",
        "  if (fptr != NULL) {\n",
        "    printf(\"Arquivo criado com sucesso!\\n\");\n",
        "  }\n",
        "  else {\n",
        "    printf(\"Failed to create the file.\\n\");\n",
        "    // exit status for OS that an error occurred\n",
        "    return -1;\n",
        "  }  \n",
        "    \n",
        "  Arv *raiz = NULL;\n",
        "  raiz = insereArv(raiz, 53);\n",
        "  raiz = insereArv(raiz, 30);\n",
        "  raiz = insereArv(raiz, 14);\n",
        "  raiz = insereArv(raiz, 39);\n",
        "  raiz = insereArv(raiz, 9);\n",
        "  raiz = insereArv(raiz, 23);\n",
        "  raiz = insereArv(raiz, 34);\n",
        "  raiz = insereArv(raiz, 49);\n",
        "  raiz = insereArv(raiz, 72);\n",
        "  raiz = insereArv(raiz, 61);\n",
        "  raiz = insereArv(raiz, 84);\n",
        "  raiz = insereArv(raiz, 79);\n",
        "  pre_ordem(raiz,fptr);\n",
        "  fclose(fptr);\n",
        "  return 0;\n",
        "}\n"
      ]
    },
    {
      "cell_type": "code",
      "execution_count": 30,
      "metadata": {},
      "outputs": [
        {
          "name": "stdout",
          "output_type": "stream",
          "text": [
            "Arquivo criado com sucesso!\n",
            "53\n",
            "30\n",
            "14\n",
            "9\n",
            "23\n",
            "39\n",
            "34\n",
            "49\n",
            "72\n",
            "61\n",
            "84\n",
            "79\n"
          ]
        }
      ],
      "source": [
        "!gcc ABB2.c -o abb\n",
        "!abb"
      ]
    },
    {
      "cell_type": "code",
      "execution_count": 31,
      "metadata": {},
      "outputs": [
        {
          "name": "stdout",
          "output_type": "stream",
          "text": [
            "[53, 30, 14, 9, 23, 39, 34, 49, 72, 61, 84, 79]\n"
          ]
        }
      ],
      "source": [
        "cTree = []\n",
        "with open(\"cTree.txt\", 'r') as k:\n",
        "     while True:\n",
        "        line = k.readline()\n",
        "         \n",
        "        if not line:\n",
        "            break\n",
        "        \n",
        "        cTree.append(int(line))\n",
        "\n",
        "# printing the data\n",
        "print(cTree)\n",
        "k.close()"
      ]
    },
    {
      "cell_type": "code",
      "execution_count": 32,
      "metadata": {},
      "outputs": [
        {
          "name": "stdout",
          "output_type": "stream",
          "text": [
            "          53\n",
            "          / \\\n",
            "         /   \\\n",
            "        /     \\\n",
            "       /       \\\n",
            "      30       72\n",
            "     / \\       / \\\n",
            "    /   \\     /   \\\n",
            "   /     \\   61   84\n",
            "  14     39       /\n",
            " / \\     / \\     79\n",
            "9  23   /   \\\n",
            "       34   49\n"
          ]
        }
      ],
      "source": [
        "from drawtree import draw_bst\n",
        "draw_bst(cTree)"
      ]
    }
  ],
  "metadata": {
    "colab": {
      "collapsed_sections": [
        "WljSCEnx3KxU",
        "OW08RX1l0IKM"
      ],
      "provenance": []
    },
    "kernelspec": {
      "display_name": "Python 3 (ipykernel)",
      "language": "python",
      "name": "python3"
    },
    "language_info": {
      "codemirror_mode": {
        "name": "ipython",
        "version": 3
      },
      "file_extension": ".py",
      "mimetype": "text/x-python",
      "name": "python",
      "nbconvert_exporter": "python",
      "pygments_lexer": "ipython3",
      "version": "3.11.2"
    }
  },
  "nbformat": 4,
  "nbformat_minor": 0
}
