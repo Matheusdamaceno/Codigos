{
  "cells": [
    {
      "attachments": {},
      "cell_type": "markdown",
      "metadata": {
        "id": "1CDy5e8_Pjiy"
      },
      "source": [
        "\n",
        "# Árvore binária de busca\n",
        "\n",
        "Visualização:\n",
        "- https://visualgo.net/en/bst\n",
        "- https://graphviz.readthedocs.io/en/stable/api.html\n",
        "- https://github.com/xflr6/graphviz/blob/master/examples/graphviz-notebook.ipynb"
      ]
    },
    {
      "attachments": {},
      "cell_type": "markdown",
      "metadata": {
        "id": "2v1JkybbCGia"
      },
      "source": [
        "## **Exemplo 1**"
      ]
    },
    {
      "cell_type": "code",
      "execution_count": null,
      "metadata": {
        "id": "nnz0ufrapTP2"
      },
      "outputs": [],
      "source": [
        "class No:\n",
        "  def __init__(self, valor):\n",
        "    self.valor = valor\n",
        "    self.esquerda = None\n",
        "    self.direita = None  "
      ]
    },
    {
      "cell_type": "code",
      "execution_count": null,
      "metadata": {
        "id": "1L2lCXxXplvw"
      },
      "outputs": [],
      "source": [
        "def inserir(no, valor):\n",
        "    \n",
        "    # Se a árvore estiver vazia\n",
        "    if no == None:\n",
        "      novo = No(valor)  \n",
        "      no = novo\n",
        "    elif (valor < no.valor):\n",
        "      no.esquerda = inserir(no.esquerda, valor)\n",
        "    else:\n",
        "      no.direita = inserir(no.direita, valor)\n",
        "    return no\n",
        "  \n",
        "\n",
        "  # Raiz, esquerda, direita\n",
        "def pre_ordem(no):\n",
        "    if no != None:\n",
        "      print(no.valor)\n",
        "      pre_ordem(no.esquerda)\n",
        "      pre_ordem(no.direita)\n",
        "\n",
        "  # Esquerda, raiz, direita\n",
        "def em_ordem(no):\n",
        "    if no != None:\n",
        "      em_ordem(no.esquerda)\n",
        "      print(no.valor)\n",
        "      em_ordem(no.direita)\n",
        "\n",
        "  # Esquerda, direita, raiz\n",
        "def pos_ordem(self, no):\n",
        "    if no != None:\n",
        "      pos_ordem(no.esquerda)\n",
        "      pos_ordem(no.direita)\n",
        "      print(no.valor)\n",
        "\n",
        "def abb_retira(no, valor):\n",
        "    \n",
        "    if no == None:\n",
        "      print('A árvore está vazia')\n",
        "      return None\n",
        "    elif no.valor > valor:\n",
        "         no.esquerda = abb_retira(no.esquerda, valor);\n",
        "    elif no.valor < valor:\n",
        "         no.direita = abb_retira(no.direita, valor);\n",
        "    else: #achou o nó a remover    \n",
        "    \n",
        "        # O nó a ser apagado é uma folha\n",
        "        if (no.esquerda == None) and (no.direita == None):\n",
        "             return None\n",
        "\n",
        "        # O nó a ser apagado não possui filho na direita\n",
        "        elif no.direita == None:      \n",
        "             no = no.esquerda\n",
        "\n",
        "        # O nó a ser apagado não possui filho na esquerda\n",
        "        elif no.esquerda == None:\n",
        "             no = no.direita\n",
        "\n",
        "        # O nó possui dois filhos\n",
        "        else:\n",
        "          sucessor = no.esquerda\n",
        "          while sucessor.direita != None:\n",
        "                sucessor = sucessor.direita\n",
        "\n",
        "\n",
        "          no.valor = sucessor.valor\n",
        "          sucessor.valor = valor\n",
        "          no.esquerda = abb_retira(no.esquerda, valor);\n",
        "    \n",
        "    return no \n",
        "\n",
        "def imprimeGraph(no, f):\n",
        "    if no != None:\n",
        "        if(no.esquerda != None):\n",
        "            f.edge(str(no.valor),str(no.esquerda.valor))\n",
        "            imprimeGraph(no.esquerda,f)\n",
        "        if(no.direita != None):\n",
        "            f.edge(str(no.valor),str(no.direita.valor))  \n",
        "            imprimeGraph(no.direita,f)\n",
        "    return f"
      ]
    },
    {
      "attachments": {},
      "cell_type": "markdown",
      "metadata": {
        "id": "GfWOxB_KvRqx"
      },
      "source": [
        "### Inserção"
      ]
    },
    {
      "cell_type": "code",
      "execution_count": null,
      "metadata": {
        "id": "REc99Aq_vUAw",
        "scrolled": true
      },
      "outputs": [],
      "source": [
        "#Gera um no vazio (None)\n",
        "arvore = None\n",
        "\n",
        "#Cria uma ABB\n",
        "arvore = inserir(arvore, 53)\n",
        "arvore = inserir(arvore, 30)\n",
        "arvore = inserir(arvore, 14)\n",
        "arvore = inserir(arvore, 39)\n",
        "arvore = inserir(arvore, 9)\n",
        "arvore = inserir(arvore, 23)\n",
        "arvore = inserir(arvore, 34)\n",
        "arvore = inserir(arvore, 49)\n",
        "arvore = inserir(arvore, 72)\n",
        "arvore = inserir(arvore, 61)\n",
        "arvore = inserir(arvore, 84)\n",
        "arvore = inserir(arvore, 79)      \n"
      ]
    },
    {
      "attachments": {},
      "cell_type": "markdown",
      "metadata": {
        "id": "2N7p9Zhk9mnW"
      },
      "source": [
        "### Visualização"
      ]
    },
    {
      "cell_type": "code",
      "execution_count": null,
      "metadata": {
        "colab": {
          "base_uri": "https://localhost:8080/",
          "height": 383
        },
        "id": "AjGiSA7-9mnW",
        "outputId": "be02960e-9b76-46e7-9b72-41f5a7239ae2"
      },
      "outputs": [],
      "source": [
        "import graphviz\n",
        "f = graphviz.Digraph('Binary Search Tree')\n",
        "f.attr(rankdir='TD', size='4')\n",
        "f.attr('node', shape='circle')\n",
        "\n",
        "### Chama a função de impressão\n",
        "imprimeGraph(arvore, f)"
      ]
    },
    {
      "attachments": {},
      "cell_type": "markdown",
      "metadata": {
        "id": "rduSUCCl9mnW"
      },
      "source": [
        "### Remoção"
      ]
    },
    {
      "cell_type": "code",
      "execution_count": null,
      "metadata": {
        "id": "Whf3hxGy9mnW"
      },
      "outputs": [],
      "source": [
        "arvore = abb_retira(arvore, 30)"
      ]
    },
    {
      "cell_type": "code",
      "execution_count": null,
      "metadata": {
        "colab": {
          "base_uri": "https://localhost:8080/",
          "height": 367
        },
        "id": "Id9AnoDj9mnX",
        "outputId": "8d9c25dc-4e03-45d4-98b0-ff497d252199"
      },
      "outputs": [],
      "source": [
        "### Chama a função de impressão\n",
        "f.clear(True)\n",
        "imprimeGraph(arvore,f)"
      ]
    },
    {
      "attachments": {},
      "cell_type": "markdown",
      "metadata": {
        "id": "VbK9Trr6Cm_o"
      },
      "source": [
        "## Desenvolver as seguintes funções em pyhton:\n",
        "* altura da árvore\n",
        "* profundidade de um determinado nó"
      ]
    },
    {
      "cell_type": "code",
      "execution_count": null,
      "metadata": {},
      "outputs": [],
      "source": [
        "def altura(no):\n",
        "    if no == None:\n",
        "        return -1\n",
        "    dir = altura(no.direita)\n",
        "    esq= altura(no.esquerda)\n",
        "\n",
        "    if esq>dir:\n",
        "        return esq+1\n",
        "    else:\n",
        "        return dir+1\n",
        "    \n",
        "def nivelNo(no, valor):\n",
        "    count = 0\n",
        "    if(no.valor!=valor):\n",
        "        if(no.valor>valor):\n",
        "            count +=nivelNo(no.esquerda,valor)\n",
        "            return 1+count\n",
        "        else:\n",
        "            count+=nivelNo(no.direita,valor)\n",
        "            return 1+count\n",
        "    return count"
      ]
    },
    {
      "cell_type": "code",
      "execution_count": null,
      "metadata": {},
      "outputs": [],
      "source": [
        "print(altura(arvore))\n",
        "\n",
        "print(nivelNo(arvore,53))"
      ]
    },
    {
      "attachments": {},
      "cell_type": "markdown",
      "metadata": {
        "id": "Vnnfe0j7CNLH"
      },
      "source": [
        "## **Exemplo 2**"
      ]
    },
    {
      "cell_type": "code",
      "execution_count": null,
      "metadata": {
        "colab": {
          "base_uri": "https://localhost:8080/"
        },
        "id": "N469S5mlBF-M",
        "outputId": "a80ac8ab-af20-4211-c062-5cc8fbe8f95b"
      },
      "outputs": [],
      "source": [
        "!pip install drawtree"
      ]
    },
    {
      "cell_type": "code",
      "execution_count": null,
      "metadata": {
        "colab": {
          "base_uri": "https://localhost:8080/"
        },
        "id": "yus0fIGQBIkZ",
        "outputId": "3ec1a842-cf37-4eaa-80fb-b61df1417e38"
      },
      "outputs": [],
      "source": [
        "%%file ABB.c\n",
        "\n",
        "#include <stdio.h>\n",
        "#include <stdlib.h>\n",
        "#include <string.h>\n",
        "\n",
        "typedef struct arv {\n",
        "  int valor;\n",
        "  struct arv *esq;\n",
        "  struct arv *dir;\n",
        "} Arv;\n",
        "\n",
        "void pre_ordem(Arv *raiz, FILE* f) {\n",
        "  if (raiz != NULL) {    \n",
        "    printf(\"%d\\n\", raiz->valor);\n",
        "    fprintf(f, \"%d\\n\",raiz->valor); \n",
        "    pre_ordem(raiz->esq,f);\n",
        "    pre_ordem(raiz->dir,f);\n",
        "  }\n",
        "}\n",
        "\n",
        "Arv *insereArv(Arv *raiz, int info) {\n",
        "  // Caso base\n",
        "  if (raiz == NULL) {\n",
        "    Arv *novo = (Arv *)malloc(sizeof(Arv));\n",
        "    novo->valor = info;\n",
        "    novo->esq = NULL;\n",
        "    novo->dir = NULL;\n",
        "    return novo;\n",
        "  } else {\n",
        "    if (raiz->valor > info) {\n",
        "      raiz->esq = insereArv(raiz->esq, info);\n",
        "    } else {\n",
        "      raiz->dir = insereArv(raiz->dir, info);\n",
        "    }\n",
        "    return raiz;\n",
        "  }\n",
        "}\n",
        "\n",
        "int main() {\n",
        "  FILE *fptr;\n",
        "  fptr = fopen(\"bTree.txt\", \"w\");\n",
        "  \n",
        "  if (fptr != NULL) {\n",
        "    printf(\"Arquivo criado com sucesso!\\n\");\n",
        "  }\n",
        "  else {\n",
        "    printf(\"Failed to create the file.\\n\");\n",
        "    // exit status for OS that an error occurred\n",
        "    return -1;\n",
        "  }  \n",
        "    \n",
        "  Arv *raiz = NULL;\n",
        "  raiz = insereArv(raiz, 10);\n",
        "  raiz = insereArv(raiz, 8);\n",
        "  raiz = insereArv(raiz, 30);\n",
        "  raiz = insereArv(raiz, 35);\n",
        "  raiz = insereArv(raiz, 2);\n",
        "  raiz = insereArv(raiz, 9);\n",
        "  raiz = insereArv(raiz, 15);\n",
        "  raiz = insereArv(raiz, 33);\n",
        "  raiz = insereArv(raiz, 22);\n",
        "  pre_ordem(raiz,fptr);\n",
        "  fclose(fptr);\n",
        "  return 0;\n",
        "}\n"
      ]
    },
    {
      "cell_type": "code",
      "execution_count": null,
      "metadata": {
        "colab": {
          "base_uri": "https://localhost:8080/"
        },
        "id": "nUecLPinBLum",
        "outputId": "286311dc-3f98-4148-ec0d-a878e926220c"
      },
      "outputs": [],
      "source": [
        "!gcc ABB.c -o abb\n",
        "!abb"
      ]
    },
    {
      "cell_type": "code",
      "execution_count": null,
      "metadata": {
        "colab": {
          "base_uri": "https://localhost:8080/"
        },
        "id": "tMlFg6I1DOJT",
        "outputId": "56cf33c6-9cca-4153-9de0-538e53c1d981"
      },
      "outputs": [],
      "source": [
        "!dir"
      ]
    },
    {
      "cell_type": "code",
      "execution_count": null,
      "metadata": {
        "colab": {
          "base_uri": "https://localhost:8080/"
        },
        "id": "txrruwEKBO2Y",
        "outputId": "c2e2af4c-3b41-4791-fa6c-2411c07ba23d"
      },
      "outputs": [],
      "source": [
        "## Faz a leitura da arvore gerada em C\n",
        "# opening the file in read mode\n",
        "\n",
        "# reading the file\n",
        "bTree = []\n",
        "with open(\"bTree.txt\", 'r') as f:\n",
        "     while True:\n",
        "        line = f.readline()\n",
        "         \n",
        "        if not line:\n",
        "            break\n",
        "        \n",
        "        bTree.append(int(line))\n",
        "\n",
        "# printing the data\n",
        "print(bTree)\n",
        "f.close()"
      ]
    },
    {
      "cell_type": "code",
      "execution_count": null,
      "metadata": {
        "colab": {
          "base_uri": "https://localhost:8080/"
        },
        "id": "N3GVgGoVBTdg",
        "outputId": "0c5706a7-aa7d-4e21-a5d3-42c75278ba4f"
      },
      "outputs": [],
      "source": [
        "from drawtree import draw_bst\n",
        "draw_bst(bTree)"
      ]
    },
    {
      "cell_type": "code",
      "execution_count": null,
      "metadata": {
        "id": "Yn-AWQ2sB88L"
      },
      "outputs": [],
      "source": []
    },
    {
      "attachments": {},
      "cell_type": "markdown",
      "metadata": {
        "id": "KXgP6XL_CRkh"
      },
      "source": [
        "## Construir a ABB gerada utilizando o **Exemplo 1**.\n",
        "* Fazer uma função que retorna a quantidade de nós da árvore "
      ]
    },
    {
      "cell_type": "code",
      "execution_count": null,
      "metadata": {},
      "outputs": [],
      "source": [
        "%%file ABB2.c\n",
        "\n",
        "#include <stdio.h>\n",
        "#include <stdlib.h>\n",
        "#include <string.h>\n",
        "\n",
        "typedef struct arv {\n",
        "  int valor;\n",
        "  struct arv *esq;\n",
        "  struct arv *dir;\n",
        "} Arv;\n",
        "\n",
        "void pre_ordem(Arv *raiz, FILE* f) {\n",
        "  if (raiz != NULL) {    \n",
        "    printf(\"%d\\n\", raiz->valor);\n",
        "    fprintf(f, \"%d\\n\",raiz->valor); \n",
        "    pre_ordem(raiz->esq,f);\n",
        "    pre_ordem(raiz->dir,f);\n",
        "  }\n",
        "}\n",
        "\n",
        "Arv *insereArv(Arv *raiz, int info) {\n",
        "  // Caso base\n",
        "  if (raiz == NULL) {\n",
        "    Arv *novo = (Arv *)malloc(sizeof(Arv));\n",
        "    novo->valor = info;\n",
        "    novo->esq = NULL;\n",
        "    novo->dir = NULL;\n",
        "    return novo;\n",
        "  } else {\n",
        "    if (raiz->valor > info) {\n",
        "      raiz->esq = insereArv(raiz->esq, info);\n",
        "    } else {\n",
        "      raiz->dir = insereArv(raiz->dir, info);\n",
        "    }\n",
        "    return raiz;\n",
        "  }\n",
        "}\n",
        "\n",
        "int main() {\n",
        "  FILE *fptr;\n",
        "  fptr = fopen(\"cTree.txt\", \"w\");\n",
        "  \n",
        "  if (fptr != NULL) {\n",
        "    printf(\"Arquivo criado com sucesso!\\n\");\n",
        "  }\n",
        "  else {\n",
        "    printf(\"Failed to create the file.\\n\");\n",
        "    // exit status for OS that an error occurred\n",
        "    return -1;\n",
        "  }  \n",
        "    \n",
        "  Arv *raiz = NULL;\n",
        "  raiz = insereArv(raiz, 53);\n",
        "  raiz = insereArv(raiz, 30);\n",
        "  raiz = insereArv(raiz, 14);\n",
        "  raiz = insereArv(raiz, 39);\n",
        "  raiz = insereArv(raiz, 9);\n",
        "  raiz = insereArv(raiz, 23);\n",
        "  raiz = insereArv(raiz, 34);\n",
        "  raiz = insereArv(raiz, 49);\n",
        "  raiz = insereArv(raiz, 72);\n",
        "  raiz = insereArv(raiz, 61);\n",
        "  raiz = insereArv(raiz, 84);\n",
        "  raiz = insereArv(raiz, 79);\n",
        "  pre_ordem(raiz,fptr);\n",
        "  fclose(fptr);\n",
        "  return 0;\n",
        "}\n"
      ]
    },
    {
      "cell_type": "code",
      "execution_count": null,
      "metadata": {},
      "outputs": [],
      "source": [
        "!gcc ABB2.c -o abb\n",
        "!abb"
      ]
    },
    {
      "cell_type": "code",
      "execution_count": null,
      "metadata": {},
      "outputs": [],
      "source": [
        "cTree = []\n",
        "with open(\"cTree.txt\", 'r') as k:\n",
        "     while True:\n",
        "        line = k.readline()\n",
        "         \n",
        "        if not line:\n",
        "            break\n",
        "        \n",
        "        cTree.append(int(line))\n",
        "\n",
        "# printing the data\n",
        "print(cTree)\n",
        "k.close()"
      ]
    },
    {
      "cell_type": "code",
      "execution_count": null,
      "metadata": {},
      "outputs": [],
      "source": [
        "from drawtree import draw_bst\n",
        "draw_bst(cTree)"
      ]
    }
  ],
  "metadata": {
    "colab": {
      "collapsed_sections": [
        "WljSCEnx3KxU",
        "OW08RX1l0IKM"
      ],
      "provenance": []
    },
    "kernelspec": {
      "display_name": "Python 3 (ipykernel)",
      "language": "python",
      "name": "python3"
    },
    "language_info": {
      "codemirror_mode": {
        "name": "ipython",
        "version": 3
      },
      "file_extension": ".py",
      "mimetype": "text/x-python",
      "name": "python",
      "nbconvert_exporter": "python",
      "pygments_lexer": "ipython3",
      "version": "3.11.2"
    }
  },
  "nbformat": 4,
  "nbformat_minor": 0
}
