{
 "cells": [
  {
   "cell_type": "markdown",
   "metadata": {
    "id": "zB7-Ba0_l9Qb"
   },
   "source": [
    "# Tutorial Python\n",
    "## Introdução Numpy\n",
    "* https://numpy.org/doc/stable/reference/generated/numpy.ndarray.html\n",
    "* https://medium.com/programadores-ajudando-programadores/brincando-com-numpy-parte-1-vetores-vs-listas-51f4867ea0f1\n",
    "* https://www.geeksforgeeks.org/python-lists-vs-numpy-arrays/"
   ]
  },
  {
   "cell_type": "code",
   "execution_count": 3,
   "metadata": {
    "id": "OI04MPtZjwn4"
   },
   "outputs": [],
   "source": [
    "import numpy as np"
   ]
  },
  {
   "cell_type": "code",
   "execution_count": 3,
   "metadata": {
    "colab": {
     "base_uri": "https://localhost:8080/"
    },
    "id": "ZhUgy5a5j7zR",
    "outputId": "bfecc80c-6149-4352-eb87-229a7d3b30d1"
   },
   "outputs": [
    {
     "name": "stdout",
     "output_type": "stream",
     "text": [
      "[12 34 26 18 10]\n",
      "<class 'numpy.ndarray'>\n"
     ]
    }
   ],
   "source": [
    "# cria uma matriz unidimensional\n",
    "mt = np.array([12,34,26,18,10])\n",
    "print(mt)\n",
    "print(type(mt))"
   ]
  },
  {
   "cell_type": "code",
   "execution_count": 4,
   "metadata": {},
   "outputs": [
    {
     "name": "stdout",
     "output_type": "stream",
     "text": [
      "[1 2 3 4]\n"
     ]
    }
   ],
   "source": [
    "#Return evenly spaced values within a given interval.\n",
    "mt = np.arange(1,5)             \n",
    "print(mt)"
   ]
  },
  {
   "cell_type": "code",
   "execution_count": 19,
   "metadata": {
    "colab": {
     "base_uri": "https://localhost:8080/"
    },
    "id": "YL92103Mj9dS",
    "outputId": "141a6936-28ed-4570-9fe4-5c478693f7a0"
   },
   "outputs": [
    {
     "name": "stdout",
     "output_type": "stream",
     "text": [
      "[1. 2. 3.]\n",
      "<class 'numpy.ndarray'>\n",
      "[1 2 3]\n",
      "<class 'numpy.ndarray'>\n"
     ]
    }
   ],
   "source": [
    "#criar o array com um tipo específico\n",
    "# cria o array como float e int\n",
    "mtfloat = np.array([1, 2, 3], dtype = float)\n",
    "print(mtfloat)\n",
    "print(type(mtfloat))\n",
    "mtint = np.array([1, 2, 3], dtype = int)\n",
    "print(mtint)\n",
    "print(type(mtint))"
   ]
  },
  {
   "cell_type": "code",
   "execution_count": 18,
   "metadata": {
    "colab": {
     "base_uri": "https://localhost:8080/"
    },
    "id": "bZGaK3KGkQCK",
    "outputId": "5fd0e0c3-a72b-420b-840b-d14eb83065cc"
   },
   "outputs": [
    {
     "name": "stdout",
     "output_type": "stream",
     "text": [
      "[ 1.4       3.6      -5.1       9.42      4.999999]\n",
      "[ 1  3 -5  9  4]\n"
     ]
    }
   ],
   "source": [
    "#mudar o tipo do array\n",
    "# Podemos transformar tipos de dados de arrays\n",
    "mtnew = np.array([1.4, 3.6, -5.1, 9.42, 4.999999], dtype = float)\n",
    "print(mtnew)\n",
    "# quando transformamos de float para int os valores são truncados\n",
    "mtnewint = mtnew.astype(int)\n",
    "print(mtnewint)"
   ]
  },
  {
   "cell_type": "code",
   "execution_count": 17,
   "metadata": {
    "colab": {
     "base_uri": "https://localhost:8080/"
    },
    "id": "GPkQHO_AkVf6",
    "outputId": "5b8234a0-b5d1-4111-8168-8ef63a3e99b6"
   },
   "outputs": [
    {
     "name": "stdout",
     "output_type": "stream",
     "text": [
      "[1 2 3 4]\n",
      "[1. 2. 3. 4.]\n"
     ]
    }
   ],
   "source": [
    "# podemos fazer o inverso também.\n",
    "mt5 = np.array([1, 2, 3, 4])\n",
    "print(mt5)\n",
    "mt6 = mt5.astype(float)\n",
    "print(mt6)"
   ]
  },
  {
   "cell_type": "code",
   "execution_count": 6,
   "metadata": {
    "colab": {
     "base_uri": "https://localhost:8080/"
    },
    "id": "MKnSocy2kZ5S",
    "outputId": "1b8e72e8-24d0-498a-b141-ea520ad6afff"
   },
   "outputs": [
    {
     "name": "stdout",
     "output_type": "stream",
     "text": [
      "[[ 7  2 23]\n",
      " [12 27  4]\n",
      " [ 5 34 23]]\n"
     ]
    }
   ],
   "source": [
    "# mais de uma dimensão\n",
    "# cria um matriz bidimensional\n",
    "mt7 = np.array([[7,2,23],[12,27,4],[5,34,23]])\n",
    "print(mt7)"
   ]
  },
  {
   "cell_type": "code",
   "execution_count": 7,
   "metadata": {},
   "outputs": [
    {
     "name": "stdout",
     "output_type": "stream",
     "text": [
      "[1, 2, 3, 4, 5, 6]\n",
      "[1 2 3 4 5 6]\n"
     ]
    }
   ],
   "source": [
    "# Numpy array a partir de uma lista\n",
    "lst = [1,2,3,4,5,6]\n",
    "arr = np.array(lst)\n",
    "print(lst)\n",
    "print(arr)"
   ]
  },
  {
   "cell_type": "code",
   "execution_count": 7,
   "metadata": {
    "colab": {
     "base_uri": "https://localhost:8080/"
    },
    "id": "nX-pK2Bikjzi",
    "outputId": "c7041699-f3b3-464c-b02e-055c0ace266b"
   },
   "outputs": [
    {
     "name": "stdout",
     "output_type": "stream",
     "text": [
      "[[         0 1072693248]\n",
      " [         0 1073741824]\n",
      " [         0 1074266112]]\n",
      "-------\n",
      "[[0. 0. 0.]\n",
      " [0. 0. 0.]\n",
      " [0. 0. 0.]\n",
      " [0. 0. 0.]]\n",
      "-------\n",
      "[[1. 1. 1. 1. 1. 1. 1.]\n",
      " [1. 1. 1. 1. 1. 1. 1.]\n",
      " [1. 1. 1. 1. 1. 1. 1.]\n",
      " [1. 1. 1. 1. 1. 1. 1.]\n",
      " [1. 1. 1. 1. 1. 1. 1.]]\n",
      "-------\n",
      "[[1. 0. 0. 0. 0.]\n",
      " [0. 1. 0. 0. 0.]\n",
      " [0. 0. 1. 0. 0.]\n",
      " [0. 0. 0. 1. 0.]\n",
      " [0. 0. 0. 0. 1.]]\n"
     ]
    }
   ],
   "source": [
    "#criar arrays vazios tipificados\n",
    "#empty significa que não são inicializados, não que são vazios\n",
    "vazio = np.empty([3,2], dtype = int)\n",
    "print(vazio)\n",
    "print(\"-------\")\n",
    "# cria uma matriz 4x3 com valores zero\n",
    "zeros = np.zeros([4,3])\n",
    "print(zeros)\n",
    "print(\"-------\")\n",
    "#com valores igual a um\n",
    "um = np.ones([5,7])\n",
    "print(um)\n",
    "print(\"-------\")\n",
    "# cria matriz quadrada com diagonal principal com valores 1 e os outros valores zero\n",
    "diagonal = np.eye(5)\n",
    "print(diagonal)\n"
   ]
  },
  {
   "cell_type": "code",
   "execution_count": 11,
   "metadata": {
    "colab": {
     "base_uri": "https://localhost:8080/"
    },
    "id": "lTw3VGFIknOZ",
    "outputId": "7cf3c959-20d5-47dd-dfea-b991d6314d48"
   },
   "outputs": [
    {
     "name": "stdout",
     "output_type": "stream",
     "text": [
      "[0.54854309 0.62297663 0.66341944 0.58533999 0.20238602]\n",
      "-------\n",
      "[-1.94903903  0.36359026  0.22121146  0.92229898  0.50729057]\n",
      "-------\n",
      "[[73 66  2 70 47]\n",
      " [64 71 73 49 60]\n",
      " [ 6 94 94 34 12]]\n"
     ]
    }
   ],
   "source": [
    "#valores aleatórios entre zero e um\n",
    "rnd = np.random.random((5))\n",
    "print(rnd)\n",
    "print(\"-------\")\n",
    "#valores aleatórios distr. normal contendo negativos\n",
    "rnd2= np.random.randn((5))\n",
    "print(rnd2)\n",
    "print(\"-------\")\n",
    "# Valores inteiros aleatórios (3x5)\n",
    "rnd3 = np.random.randint(100, size=(3, 5))\n",
    "print(rnd3)"
   ]
  },
  {
   "cell_type": "code",
   "execution_count": 34,
   "metadata": {
    "colab": {
     "base_uri": "https://localhost:8080/"
    },
    "id": "EVoyOEg1knRl",
    "outputId": "2b693841-1dde-4e53-f379-f812933bff4f"
   },
   "outputs": [
    {
     "name": "stdout",
     "output_type": "stream",
     "text": [
      "[0.28007596 0.46114671 0.12171969]\n",
      "[[2 5 2 4]\n",
      " [3 0 0 0]\n",
      " [6 9 9 6]]\n"
     ]
    }
   ],
   "source": [
    "#outra forma de gerar aleatórios\n",
    "#uso de semente\n",
    "gnr = np.random.default_rng(20)\n",
    "rnd = gnr.random(3)\n",
    "print (rnd)\n",
    "\n",
    "#gerar inteiros\n",
    "rnd = gnr.integers(10, size=(3, 4))\n",
    "print(rnd)"
   ]
  },
  {
   "cell_type": "code",
   "execution_count": 22,
   "metadata": {
    "colab": {
     "base_uri": "https://localhost:8080/"
    },
    "id": "AQc45hmnknUQ",
    "outputId": "4e640c49-d5f4-4a7d-b928-02601cb4dbda"
   },
   "outputs": [
    {
     "name": "stdout",
     "output_type": "stream",
     "text": [
      "[11 12 13 14 15 16 17 18 19 20]\n"
     ]
    }
   ],
   "source": [
    "#unique remove repetições\n",
    "j = np.array([11, 12, 13, 14, 15, 16, 17, 12, 13, 11, 18, 19, 20])\n",
    "j = np.unique(j)\n",
    "print(j)"
   ]
  },
  {
   "cell_type": "code",
   "execution_count": 23,
   "metadata": {
    "colab": {
     "base_uri": "https://localhost:8080/"
    },
    "id": "_P2gyfhIknW3",
    "outputId": "32a3e5f8-790f-4871-ccb2-afd1b8237853"
   },
   "outputs": [
    {
     "name": "stdout",
     "output_type": "stream",
     "text": [
      "[[17 22 43]\n",
      " [27 25 14]\n",
      " [15 24 32]]\n",
      "22\n",
      "(3, 3)\n"
     ]
    }
   ],
   "source": [
    "#funções específicas\n",
    "# cria a matriz bidimensional k\n",
    "k = np.array([[17,22,43],[27,25,14],[15,24,32]])\n",
    "# Mostra a matriz k\n",
    "print(k)\n",
    "# Mostra um elemento específico da matriz k\n",
    "print(k[0][1])\n",
    "# Mostra o tamanho das dimensões da matriz k\n",
    "print(k.shape)"
   ]
  },
  {
   "cell_type": "code",
   "execution_count": 24,
   "metadata": {
    "colab": {
     "base_uri": "https://localhost:8080/"
    },
    "id": "j8aXkWLTknZs",
    "outputId": "cf98845c-c800-4408-f2c3-06994cd22731"
   },
   "outputs": [
    {
     "name": "stdout",
     "output_type": "stream",
     "text": [
      "43\n",
      "14\n",
      "219\n",
      "24.333333333333332\n",
      "8.615231988880057\n"
     ]
    }
   ],
   "source": [
    "#Funções Matemáticas\n",
    "# Mostra o maior valor da matriz k\n",
    "print(k.max())\n",
    "# Mostra o menor valor da matriz k\n",
    "print(k.min())\n",
    "# Mostra a soma dos valores da matriz k\n",
    "print((k.sum()))\n",
    "# Mostra o valor da média dos valores da matriz k\n",
    "print(k.mean())\n",
    "# Mostra o valor do desvio padrão (standard deviation) dos valores da matiz k\n",
    "print(k.std())"
   ]
  },
  {
   "cell_type": "code",
   "execution_count": 26,
   "metadata": {
    "colab": {
     "base_uri": "https://localhost:8080/"
    },
    "id": "1tG2157eknfR",
    "outputId": "cb644ca0-5bf1-413e-d43b-84b36ab5a9b3"
   },
   "outputs": [
    {
     "name": "stdout",
     "output_type": "stream",
     "text": [
      "2\n",
      "-------\n",
      "[1 2]\n",
      "-------\n",
      "[2 3 4 5 6]\n",
      "-------\n",
      "[4 5 6]\n"
     ]
    }
   ],
   "source": [
    "#extração de elementos\n",
    "m = np.array([1, 2, 3, 4, 5, 6])\n",
    "# Mostra o elemento da posição 2\n",
    "print(m[1])\n",
    "print(\"-------\")\n",
    "# Mostra o array criado a partir da posição 0, dois elementos\n",
    "print(m[0:2])\n",
    "print(\"-------\")\n",
    "# Mostra o array criado a partir da 2a posição\n",
    "# até todo o restante do array\n",
    "print(m[1:])\n",
    "print(\"-------\")\n",
    "# Mostra o array criado a partir da antepenúltima\n",
    "#posição até o final\n",
    "print(m[-3:])"
   ]
  },
  {
   "cell_type": "code",
   "execution_count": 38,
   "metadata": {
    "colab": {
     "base_uri": "https://localhost:8080/"
    },
    "id": "ADaB3vqBlOIZ",
    "outputId": "2fb2b003-ad6d-4d38-c314-eb12b2b34caf"
   },
   "outputs": [
    {
     "name": "stdout",
     "output_type": "stream",
     "text": [
      "[[4 5]\n",
      " [6 1]\n",
      " [7 4]]\n",
      "-------\n",
      "[4 5]\n",
      "-------\n",
      "[6 1]\n",
      "-------\n",
      "[7 4]\n",
      "-------\n",
      "[4 6 7]\n",
      "-------\n",
      "[5 1 4]\n"
     ]
    }
   ],
   "source": [
    "#extração de linhas e colunas\n",
    "mat = np.array([[4, 5], [6, 1], [7, 4]])\n",
    "print(mat)\n",
    "print(\"-------\")\n",
    "#primeira linha, todas as colunas\n",
    "l1 = mat[0, :]\n",
    "print(l1)\n",
    "print(\"-------\")\n",
    "#segunda linha\n",
    "l2 = mat[1, :]\n",
    "print(l2)\n",
    "print(\"-------\")\n",
    "#terceira linha\n",
    "l3 = mat[2, :]\n",
    "print(l3)\n",
    "print(\"-------\")\n",
    "#todas as linhas, primeira coluna\n",
    "c1 = mat[:, 0]\n",
    "print(c1)\n",
    "print(\"-------\")\n",
    "#todas as linhas, segunda coluna\n",
    "c2 = mat[:, 1]\n",
    "print(c2)"
   ]
  },
  {
   "cell_type": "code",
   "execution_count": 60,
   "metadata": {
    "colab": {
     "base_uri": "https://localhost:8080/"
    },
    "id": "urJQ-BtKlOOT",
    "outputId": "38e7443a-9b44-4ba7-b0a2-a84101aa50e3"
   },
   "outputs": [
    {
     "name": "stdout",
     "output_type": "stream",
     "text": [
      "[[ 0  1  2]\n",
      " [ 3  4  5]\n",
      " [ 6  7  8]\n",
      " [ 9 10 11]\n",
      " [12 13 14]]\n",
      "-------\n",
      "[[ 0  1  2  3  4]\n",
      " [ 5  6  7  8  9]\n",
      " [10 11 12 13 14]]\n"
     ]
    }
   ],
   "source": [
    "# Redimensiona Matriz\n",
    "rnd = np.arange(15).reshape((5, 3))\n",
    "print(rnd)\n",
    "print(\"-------\")\n",
    "# mostra a matriz com 5 linhas e 3 colunas\n",
    "new_rnd = np.reshape(rnd, (3,5))\n",
    "print(new_rnd)"
   ]
  },
  {
   "cell_type": "code",
   "execution_count": 73,
   "metadata": {},
   "outputs": [
    {
     "name": "stdout",
     "output_type": "stream",
     "text": [
      "[ 0  2  4  6  8 10 13 15 17]\n"
     ]
    }
   ],
   "source": [
    "# Cria um novo array com inserções no final\n",
    "# Array original não é alterado\n",
    "arr = np.array([[0,2,4],[6,8,10]]) \n",
    "app_arr = np.append(arr, [13,15,17]) \n",
    "print(app_arr)"
   ]
  },
  {
   "cell_type": "code",
   "execution_count": 70,
   "metadata": {},
   "outputs": [
    {
     "name": "stdout",
     "output_type": "stream",
     "text": [
      "[[ 0  2  4]\n",
      " [ 6  8 10]]\n"
     ]
    }
   ],
   "source": [
    "print(arr)"
   ]
  },
  {
   "cell_type": "code",
   "execution_count": 49,
   "metadata": {
    "colab": {
     "base_uri": "https://localhost:8080/"
    },
    "id": "6RcwvarDlv8i",
    "outputId": "c2738f2f-7c74-4d30-c88d-55bebcde48ec"
   },
   "outputs": [
    {
     "name": "stdout",
     "output_type": "stream",
     "text": [
      "[[ 0.17260498 -0.04216884  0.59511135 -0.77303785]\n",
      " [ 1.47765185  0.99129444 -0.82405712 -2.19415029]\n",
      " [ 0.40905692 -0.88384692 -0.52981403 -1.11008486]\n",
      " [ 0.97403476 -1.6048133   0.96500133 -0.06919549]]\n",
      "[[ True False  True False]\n",
      " [ True  True False False]\n",
      " [ True False False False]\n",
      " [ True False  True False]]\n",
      "[[ 1 -1  1 -1]\n",
      " [ 1  1 -1 -1]\n",
      " [ 1 -1 -1 -1]\n",
      " [ 1 -1  1 -1]]\n"
     ]
    }
   ],
   "source": [
    "#expressões lógicas\n",
    "#usando where\n",
    "# criando matriz com valores aleatórios positivos e negativos\n",
    "v = np.random.randn(4, 4)\n",
    "print(v)\n",
    "# criando matriz com valores booleanos baseado no array v\n",
    "x = (v > 0)\n",
    "print(x)\n",
    "# criando matriz com valores -1 e 1 baseado nos valores do array x\n",
    "z = np.where(x > 0, 1, -1)\n",
    "print(z)\n"
   ]
  }
 ],
 "metadata": {
  "colab": {
   "name": "numpy.ipynb",
   "provenance": []
  },
  "kernelspec": {
   "display_name": "Python 3 (ipykernel)",
   "language": "python",
   "name": "python3"
  },
  "language_info": {
   "codemirror_mode": {
    "name": "ipython",
    "version": 3
   },
   "file_extension": ".py",
   "mimetype": "text/x-python",
   "name": "python",
   "nbconvert_exporter": "python",
   "pygments_lexer": "ipython3",
   "version": "3.10.4"
  }
 },
 "nbformat": 4,
 "nbformat_minor": 4
}
