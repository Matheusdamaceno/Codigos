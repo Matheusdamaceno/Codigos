{
 "cells": [
  {
   "cell_type": "markdown",
   "id": "8fc43944",
   "metadata": {},
   "source": [
    "1 - Escreva um código que converta uma lista (list) em um numpy array de 1 dimensão."
   ]
  },
  {
   "cell_type": "code",
   "execution_count": 1,
   "id": "d48b4421",
   "metadata": {},
   "outputs": [
    {
     "name": "stdout",
     "output_type": "stream",
     "text": [
      "[1 2 3 4 5]\n"
     ]
    }
   ],
   "source": [
    "import numpy as np\n",
    "\n",
    "lst = [1,2,3,4,5]\n",
    "arr = np.array(lst)\n",
    "print(arr)"
   ]
  },
  {
   "cell_type": "markdown",
   "id": "02f3e984",
   "metadata": {},
   "source": [
    "2 - Escreva um código que crie uma matriz numpy (3x3) com valores variando de 2 a 10."
   ]
  },
  {
   "cell_type": "code",
   "execution_count": 5,
   "id": "801cb655",
   "metadata": {},
   "outputs": [
    {
     "name": "stdout",
     "output_type": "stream",
     "text": [
      "[[10  7  5]\n",
      " [ 8  2  8]\n",
      " [ 8 10  4]]\n"
     ]
    }
   ],
   "source": [
    "rnd = np.random.randint(2,11, size=(3, 3))\n",
    "print(rnd)"
   ]
  },
  {
   "cell_type": "markdown",
   "id": "0b459183",
   "metadata": {},
   "source": [
    "3 - Crie um array Numpy com valores entre 12 a 38."
   ]
  },
  {
   "cell_type": "code",
   "execution_count": 6,
   "id": "57c72c75",
   "metadata": {},
   "outputs": [
    {
     "name": "stdout",
     "output_type": "stream",
     "text": [
      "[ 7  5 36 15 38  5  6 31 33  7]\n"
     ]
    }
   ],
   "source": [
    "arr = np.random.randint(2,39, 10)\n",
    "print(arr)"
   ]
  },
  {
   "cell_type": "markdown",
   "id": "b82d2849",
   "metadata": {},
   "source": [
    "4 - Crie um array com 3 elementos inteiros. Após isso, usando o método append Numpy, faça a inclusão de mais 6 elementos no final do array inicial.\n",
    "<br>\n",
    "Ex:\n",
    "<br>\n",
    "Array inicial:\n",
    "<br>\n",
    "[10, 20, 30]\n",
    "<br>\n",
    "Inserir:\n",
    "<br>\n",
    "[40,50,60],[70,80,90]\n",
    "<br>\n",
    "Após as inserções:\n",
    "<br>\n",
    "[10 20 30 40 50 60 70 80 90]"
   ]
  },
  {
   "cell_type": "code",
   "execution_count": 8,
   "id": "3a5ede8c",
   "metadata": {},
   "outputs": [
    {
     "name": "stdout",
     "output_type": "stream",
     "text": [
      "[ 40  50  60  70  80  90 100 102 103]\n"
     ]
    }
   ],
   "source": [
    "arr=np.array([40,50,60])\n",
    "att_arr = np.append(arr,([70,80,90],[100,102,103]) )\n",
    "print(att_arr)"
   ]
  },
  {
   "cell_type": "markdown",
   "id": "1bbe6f06",
   "metadata": {},
   "source": [
    "5 - Faça um código que altere a dimensão de um array Numpy:\n",
    "<br>\n",
    "Array inicial: [1 2 3 4 5 6 7 8 9]\n",
    "<br>\n",
    "Array Final:\n",
    "<br>\n",
    "[[1 2 3]\n",
    "<br>\n",
    "[4 5 6]\n",
    "<br>\n",
    "[7 8 9]]"
   ]
  },
  {
   "cell_type": "code",
   "execution_count": 10,
   "id": "2a66eeed",
   "metadata": {},
   "outputs": [
    {
     "name": "stdout",
     "output_type": "stream",
     "text": [
      "[[1 2 3]\n",
      " [4 5 6]\n",
      " [7 8 9]]\n"
     ]
    }
   ],
   "source": [
    "arr= np.array([1,2,3,4,5,6,7,8,9])\n",
    "new_arr=np.reshape(arr,(3,3))\n",
    "print(new_arr)"
   ]
  },
  {
   "cell_type": "markdown",
   "id": "925fb219",
   "metadata": {},
   "source": [
    "6 - Faça uma função que receba um array Numpy e retorne o valor máximo, mínimo e a soma de todos elementos."
   ]
  },
  {
   "cell_type": "code",
   "execution_count": 13,
   "id": "5cd9e629",
   "metadata": {},
   "outputs": [
    {
     "name": "stdout",
     "output_type": "stream",
     "text": [
      "88\n",
      "30\n",
      "721\n"
     ]
    }
   ],
   "source": [
    "def cond(arr_i):\n",
    "    x = max(arr_i)\n",
    "    y= min(arr_i)\n",
    "    z=sum(arr_i)\n",
    "    return x,y,z\n",
    "\n",
    "arr=np.random.randint(10, 100, 12)\n",
    "x,y,z = cond(arr)\n",
    "print(x)\n",
    "print(y)\n",
    "print(z)"
   ]
  },
  {
   "cell_type": "markdown",
   "id": "6522a3a1",
   "metadata": {},
   "source": [
    "7 - Crie dois dicionários com as seguintes infromações:\n",
    "<br>\n",
    "Nome:Joao, RA:12345, Media:6.5\n",
    "<br>\n",
    "Telefone: 33334444, Email: joao@xyz.com\n",
    "<br>\n",
    "Crie um terceiro dicionário com a união dos dois dicionários anteriores."
   ]
  },
  {
   "cell_type": "code",
   "execution_count": 15,
   "id": "f71b3b46",
   "metadata": {},
   "outputs": [
    {
     "name": "stdout",
     "output_type": "stream",
     "text": [
      "{('Nome', 'Joao'): ('Telefone', 33333344444), ('RA', 12345): ('Email', 'joao@xyz.com')}\n"
     ]
    }
   ],
   "source": [
    "dic1 = {'Nome': 'Joao', 'RA':12345, 'Media':6.5}\n",
    "dic2= {'Telefone':33333344444, 'Email': 'joao@xyz.com'}\n",
    "\n",
    "dic3={}\n",
    "for key,values in zip(dic1.items(), dic2.items()):\n",
    "    dic3[key]=values\n",
    "\n",
    "print(dic3)"
   ]
  },
  {
   "cell_type": "code",
   "execution_count": 16,
   "id": "fdcc8efd",
   "metadata": {},
   "outputs": [
    {
     "name": "stdout",
     "output_type": "stream",
     "text": [
      "{'Nome': 'Joao', 'RA': 12345, 'Media': 6.5, 'Telefone': 33333344444, 'Email': 'joao@xyz.com'}\n"
     ]
    }
   ],
   "source": [
    "dic4={}\n",
    "dic4.update(dic1)\n",
    "dic4.update(dic2)\n",
    "print(dic4)"
   ]
  }
 ],
 "metadata": {
  "kernelspec": {
   "display_name": "Python 3",
   "language": "python",
   "name": "python3"
  },
  "language_info": {
   "codemirror_mode": {
    "name": "ipython",
    "version": 3
   },
   "file_extension": ".py",
   "mimetype": "text/x-python",
   "name": "python",
   "nbconvert_exporter": "python",
   "pygments_lexer": "ipython3",
   "version": "3.11.2"
  }
 },
 "nbformat": 4,
 "nbformat_minor": 5
}
