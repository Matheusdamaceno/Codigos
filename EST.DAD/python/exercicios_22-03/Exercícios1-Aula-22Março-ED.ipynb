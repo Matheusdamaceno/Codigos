{
 "cells": [
  {
   "cell_type": "markdown",
   "id": "89897fa4",
   "metadata": {},
   "source": [
    "1 - Faça um Programa que peça a temperatura em graus Farenheit, transforme e mostre a temperatura em graus Celsius. C = (5 * (F-32) / 9)."
   ]
  },
  {
   "cell_type": "code",
   "execution_count": null,
   "id": "182c4a78",
   "metadata": {},
   "outputs": [],
   "source": [
    "f = float(input(\"Digite uma temperatura em Farenheit:  \"))\n",
    "c=(5*(f-32)/9)\n",
    "print(c)"
   ]
  },
  {
   "cell_type": "markdown",
   "id": "39debe13",
   "metadata": {},
   "source": [
    "2 - Faça um Programa que peça um valor e mostre na tela se o valor é positivo ou negativo."
   ]
  },
  {
   "cell_type": "code",
   "execution_count": null,
   "id": "4c2dd1d5",
   "metadata": {},
   "outputs": [],
   "source": [
    "x = int(input())\n",
    "if x >= 0:\n",
    "    print(\"positivo\")\n",
    "else:\n",
    "    print(\"negativo\")   "
   ]
  },
  {
   "cell_type": "markdown",
   "id": "e1b6d53c",
   "metadata": {},
   "source": [
    "3 - Faça um programa que imprima na tela apenas os números ímpares entre 1 e 50."
   ]
  },
  {
   "cell_type": "code",
   "execution_count": null,
   "id": "487a7e5e",
   "metadata": {},
   "outputs": [],
   "source": [
    "for i in range(1,50,2):\n",
    "  print(i)\n"
   ]
  },
  {
   "cell_type": "markdown",
   "id": "9464a93b",
   "metadata": {},
   "source": [
    "4 - Desenvolva um programa que faça a tabuada de um número qualquer inteiro que será digitado pelo usuário, mas a tabuada não deve necessariamente iniciar em 1 e terminar em 10, o valor inicial e final devem ser informados também pelo usuário, conforme exemplo abaixo:\n",
    "\n",
    "Montar a tabuada de: 5\n",
    "Começar por: 4\n",
    "Terminar em: 7\n",
    "\n",
    "Saída:\n",
    "\n",
    "5 X 4 = 20\n",
    "\n",
    "5 X 5 = 25\n",
    "\n",
    "5 X 6 = 30\n",
    "\n",
    "5 X 7 = 35"
   ]
  },
  {
   "cell_type": "code",
   "execution_count": null,
   "id": "148b9987",
   "metadata": {},
   "outputs": [],
   "source": [
    "i = int(input(\"Montar a tabuada de: \"))\n",
    "j = int(input(\"comacar por: \"))\n",
    "g= int(input(\"Terminar em: \"))\n",
    "\n",
    "for n in range(j,g,1):\n",
    "    print(\"%d X %d = %d\" % (i, n, i*n))"
   ]
  },
  {
   "cell_type": "markdown",
   "id": "fcaaeefe",
   "metadata": {},
   "source": [
    "5 - Ler uma lista de 5 números inteiros e mostre cada número juntamente com a\n",
    "sua posição na lista."
   ]
  },
  {
   "cell_type": "code",
   "execution_count": null,
   "id": "893c3df2",
   "metadata": {},
   "outputs": [],
   "source": [
    "lst=[1,2,3,4,5]\n",
    "print(lst)\n",
    "for i in range(0,5):\n",
    "    print(\"lst[%d]=%d\"%(i,lst[i]))"
   ]
  },
  {
   "cell_type": "code",
   "execution_count": null,
   "id": "f3620650",
   "metadata": {},
   "outputs": [],
   "source": [
    "lst=[0,0,0,0,0]\n",
    "for i in range(0,5):\n",
    "    lst[i]=int(input())\n",
    "for i in range(0,5):\n",
    "    print(\"Valor: %d   posição: %d\"%(lst[i],i))"
   ]
  },
  {
   "cell_type": "markdown",
   "id": "14ebc8b4",
   "metadata": {},
   "source": [
    "6 -  Ler uma lista de 10 números reais e mostre-os na ordem inversa."
   ]
  },
  {
   "cell_type": "code",
   "execution_count": null,
   "id": "1b130a6a",
   "metadata": {},
   "outputs": [],
   "source": [
    "lst = list(range(1,11,1))\n",
    "lst.reverse()\n",
    "print(lst)"
   ]
  },
  {
   "cell_type": "code",
   "execution_count": null,
   "id": "1efe4345",
   "metadata": {},
   "outputs": [],
   "source": [
    "lst= list(range(1,11,1))\n",
    "for i in range(0,11):\n",
    "    lst[i]=int(input())\n",
    "lst.reverse()\n",
    "print(lst)"
   ]
  },
  {
   "cell_type": "markdown",
   "id": "748f2197",
   "metadata": {},
   "source": [
    "7 - Ler uma lista com 4 notas, em seguida o programa deve exibir as notas e a\n",
    "média."
   ]
  },
  {
   "cell_type": "code",
   "execution_count": null,
   "id": "09c990fc",
   "metadata": {},
   "outputs": [],
   "source": [
    "lst = [8.0,9.0,7.5,5.0,6.0]\n",
    "avg = sum(lst)/len(lst)\n",
    "for i in range (0,5):\n",
    "    print(\"Nota %d = %1f\" % (i,lst[i]))\n"
   ]
  },
  {
   "cell_type": "code",
   "execution_count": null,
   "id": "a3a18d36",
   "metadata": {},
   "outputs": [],
   "source": [
    "lst = list(range(1,5,1))\n",
    "for i in range(0,4):\n",
    "  lst[i]=int(input())\n",
    "media=sum(lst)/len(lst)\n",
    "for i in range(0,4):\n",
    "  print(\"Notas %d = %1f\" % ((i+1),lst[i]))\n",
    "print(\"Media = %1f\"%(media))"
   ]
  },
  {
   "cell_type": "markdown",
   "id": "e5be6d57",
   "metadata": {},
   "source": [
    "8 - Ler um vetor com 10 valores e exibir a maior e menor."
   ]
  },
  {
   "cell_type": "code",
   "execution_count": null,
   "id": "0505b24c",
   "metadata": {},
   "outputs": [],
   "source": [
    "lst = list(range(10,101,10))\n",
    "print(\"Max: %d - Min %d\"% (max(lst), min(lst)))"
   ]
  },
  {
   "cell_type": "code",
   "execution_count": null,
   "id": "549eb65c",
   "metadata": {},
   "outputs": [],
   "source": []
  }
 ],
 "metadata": {
  "kernelspec": {
   "display_name": "Python 3",
   "language": "python",
   "name": "python3"
  },
  "language_info": {
   "codemirror_mode": {
    "name": "ipython",
    "version": 3
   },
   "file_extension": ".py",
   "mimetype": "text/x-python",
   "name": "python",
   "nbconvert_exporter": "python",
   "pygments_lexer": "ipython3",
   "version": "3.11.2"
  }
 },
 "nbformat": 4,
 "nbformat_minor": 5
}
